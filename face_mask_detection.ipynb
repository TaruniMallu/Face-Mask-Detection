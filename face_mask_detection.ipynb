{
 "cells": [
  {
   "cell_type": "code",
   "execution_count": 1,
   "metadata": {},
   "outputs": [],
   "source": [
    "import os"
   ]
  },
  {
   "cell_type": "code",
   "execution_count": 2,
   "metadata": {},
   "outputs": [
    {
     "name": "stdout",
     "output_type": "stream",
     "text": [
      "Requirement already satisfied: keras in /Library/Frameworks/Python.framework/Versions/3.12/lib/python3.12/site-packages (3.5.0)\n",
      "Requirement already satisfied: absl-py in /Library/Frameworks/Python.framework/Versions/3.12/lib/python3.12/site-packages (from keras) (2.1.0)\n",
      "Requirement already satisfied: numpy in /Library/Frameworks/Python.framework/Versions/3.12/lib/python3.12/site-packages (from keras) (1.26.4)\n",
      "Requirement already satisfied: rich in /Library/Frameworks/Python.framework/Versions/3.12/lib/python3.12/site-packages (from keras) (13.7.1)\n",
      "Requirement already satisfied: namex in /Library/Frameworks/Python.framework/Versions/3.12/lib/python3.12/site-packages (from keras) (0.0.8)\n",
      "Requirement already satisfied: h5py in /Library/Frameworks/Python.framework/Versions/3.12/lib/python3.12/site-packages (from keras) (3.11.0)\n",
      "Requirement already satisfied: optree in /Library/Frameworks/Python.framework/Versions/3.12/lib/python3.12/site-packages (from keras) (0.12.1)\n",
      "Requirement already satisfied: ml-dtypes in /Library/Frameworks/Python.framework/Versions/3.12/lib/python3.12/site-packages (from keras) (0.3.2)\n",
      "Requirement already satisfied: packaging in /Library/Frameworks/Python.framework/Versions/3.12/lib/python3.12/site-packages (from keras) (24.1)\n",
      "Requirement already satisfied: typing-extensions>=4.5.0 in /Library/Frameworks/Python.framework/Versions/3.12/lib/python3.12/site-packages (from optree->keras) (4.12.2)\n",
      "Requirement already satisfied: markdown-it-py>=2.2.0 in /Library/Frameworks/Python.framework/Versions/3.12/lib/python3.12/site-packages (from rich->keras) (3.0.0)\n",
      "Requirement already satisfied: pygments<3.0.0,>=2.13.0 in /Users/taruni/Library/Python/3.12/lib/python/site-packages (from rich->keras) (2.18.0)\n",
      "Requirement already satisfied: mdurl~=0.1 in /Library/Frameworks/Python.framework/Versions/3.12/lib/python3.12/site-packages (from markdown-it-py>=2.2.0->rich->keras) (0.1.2)\n",
      "\n",
      "\u001b[1m[\u001b[0m\u001b[34;49mnotice\u001b[0m\u001b[1;39;49m]\u001b[0m\u001b[39;49m A new release of pip is available: \u001b[0m\u001b[31;49m24.0\u001b[0m\u001b[39;49m -> \u001b[0m\u001b[32;49m24.2\u001b[0m\n",
      "\u001b[1m[\u001b[0m\u001b[34;49mnotice\u001b[0m\u001b[1;39;49m]\u001b[0m\u001b[39;49m To update, run: \u001b[0m\u001b[32;49mpython3 -m pip install --upgrade pip\u001b[0m\n",
      "Note: you may need to restart the kernel to use updated packages.\n"
     ]
    }
   ],
   "source": [
    "pip install keras"
   ]
  },
  {
   "cell_type": "code",
   "execution_count": 3,
   "metadata": {},
   "outputs": [
    {
     "name": "stdout",
     "output_type": "stream",
     "text": [
      "Requirement already satisfied: tensorflow in /Library/Frameworks/Python.framework/Versions/3.12/lib/python3.12/site-packages (2.16.2)\n",
      "Requirement already satisfied: absl-py>=1.0.0 in /Library/Frameworks/Python.framework/Versions/3.12/lib/python3.12/site-packages (from tensorflow) (2.1.0)\n",
      "Requirement already satisfied: astunparse>=1.6.0 in /Library/Frameworks/Python.framework/Versions/3.12/lib/python3.12/site-packages (from tensorflow) (1.6.3)\n",
      "Requirement already satisfied: flatbuffers>=23.5.26 in /Library/Frameworks/Python.framework/Versions/3.12/lib/python3.12/site-packages (from tensorflow) (24.3.25)\n",
      "Requirement already satisfied: gast!=0.5.0,!=0.5.1,!=0.5.2,>=0.2.1 in /Library/Frameworks/Python.framework/Versions/3.12/lib/python3.12/site-packages (from tensorflow) (0.6.0)\n",
      "Requirement already satisfied: google-pasta>=0.1.1 in /Library/Frameworks/Python.framework/Versions/3.12/lib/python3.12/site-packages (from tensorflow) (0.2.0)\n",
      "Requirement already satisfied: h5py>=3.10.0 in /Library/Frameworks/Python.framework/Versions/3.12/lib/python3.12/site-packages (from tensorflow) (3.11.0)\n",
      "Requirement already satisfied: libclang>=13.0.0 in /Library/Frameworks/Python.framework/Versions/3.12/lib/python3.12/site-packages (from tensorflow) (18.1.1)\n",
      "Requirement already satisfied: ml-dtypes~=0.3.1 in /Library/Frameworks/Python.framework/Versions/3.12/lib/python3.12/site-packages (from tensorflow) (0.3.2)\n",
      "Requirement already satisfied: opt-einsum>=2.3.2 in /Library/Frameworks/Python.framework/Versions/3.12/lib/python3.12/site-packages (from tensorflow) (3.3.0)\n",
      "Requirement already satisfied: packaging in /Library/Frameworks/Python.framework/Versions/3.12/lib/python3.12/site-packages (from tensorflow) (24.1)\n",
      "Requirement already satisfied: protobuf!=4.21.0,!=4.21.1,!=4.21.2,!=4.21.3,!=4.21.4,!=4.21.5,<5.0.0dev,>=3.20.3 in /Library/Frameworks/Python.framework/Versions/3.12/lib/python3.12/site-packages (from tensorflow) (4.25.4)\n",
      "Requirement already satisfied: requests<3,>=2.21.0 in /Library/Frameworks/Python.framework/Versions/3.12/lib/python3.12/site-packages (from tensorflow) (2.32.3)\n",
      "Requirement already satisfied: setuptools in /Library/Frameworks/Python.framework/Versions/3.12/lib/python3.12/site-packages (from tensorflow) (70.1.1)\n",
      "Requirement already satisfied: six>=1.12.0 in /Library/Frameworks/Python.framework/Versions/3.12/lib/python3.12/site-packages (from tensorflow) (1.16.0)\n",
      "Requirement already satisfied: termcolor>=1.1.0 in /Library/Frameworks/Python.framework/Versions/3.12/lib/python3.12/site-packages (from tensorflow) (2.4.0)\n",
      "Requirement already satisfied: typing-extensions>=3.6.6 in /Library/Frameworks/Python.framework/Versions/3.12/lib/python3.12/site-packages (from tensorflow) (4.12.2)\n",
      "Requirement already satisfied: wrapt>=1.11.0 in /Library/Frameworks/Python.framework/Versions/3.12/lib/python3.12/site-packages (from tensorflow) (1.16.0)\n",
      "Requirement already satisfied: grpcio<2.0,>=1.24.3 in /Library/Frameworks/Python.framework/Versions/3.12/lib/python3.12/site-packages (from tensorflow) (1.66.0)\n",
      "Requirement already satisfied: tensorboard<2.17,>=2.16 in /Library/Frameworks/Python.framework/Versions/3.12/lib/python3.12/site-packages (from tensorflow) (2.16.2)\n",
      "Requirement already satisfied: keras>=3.0.0 in /Library/Frameworks/Python.framework/Versions/3.12/lib/python3.12/site-packages (from tensorflow) (3.5.0)\n",
      "Requirement already satisfied: numpy<2.0.0,>=1.26.0 in /Library/Frameworks/Python.framework/Versions/3.12/lib/python3.12/site-packages (from tensorflow) (1.26.4)\n",
      "Requirement already satisfied: wheel<1.0,>=0.23.0 in /Library/Frameworks/Python.framework/Versions/3.12/lib/python3.12/site-packages (from astunparse>=1.6.0->tensorflow) (0.44.0)\n",
      "Requirement already satisfied: rich in /Library/Frameworks/Python.framework/Versions/3.12/lib/python3.12/site-packages (from keras>=3.0.0->tensorflow) (13.7.1)\n",
      "Requirement already satisfied: namex in /Library/Frameworks/Python.framework/Versions/3.12/lib/python3.12/site-packages (from keras>=3.0.0->tensorflow) (0.0.8)\n",
      "Requirement already satisfied: optree in /Library/Frameworks/Python.framework/Versions/3.12/lib/python3.12/site-packages (from keras>=3.0.0->tensorflow) (0.12.1)\n",
      "Requirement already satisfied: charset-normalizer<4,>=2 in /Library/Frameworks/Python.framework/Versions/3.12/lib/python3.12/site-packages (from requests<3,>=2.21.0->tensorflow) (3.3.2)\n",
      "Requirement already satisfied: idna<4,>=2.5 in /Library/Frameworks/Python.framework/Versions/3.12/lib/python3.12/site-packages (from requests<3,>=2.21.0->tensorflow) (3.7)\n",
      "Requirement already satisfied: urllib3<3,>=1.21.1 in /Library/Frameworks/Python.framework/Versions/3.12/lib/python3.12/site-packages (from requests<3,>=2.21.0->tensorflow) (2.2.2)\n",
      "Requirement already satisfied: certifi>=2017.4.17 in /Library/Frameworks/Python.framework/Versions/3.12/lib/python3.12/site-packages (from requests<3,>=2.21.0->tensorflow) (2024.6.2)\n",
      "Requirement already satisfied: markdown>=2.6.8 in /Library/Frameworks/Python.framework/Versions/3.12/lib/python3.12/site-packages (from tensorboard<2.17,>=2.16->tensorflow) (3.7)\n",
      "Requirement already satisfied: tensorboard-data-server<0.8.0,>=0.7.0 in /Library/Frameworks/Python.framework/Versions/3.12/lib/python3.12/site-packages (from tensorboard<2.17,>=2.16->tensorflow) (0.7.2)\n",
      "Requirement already satisfied: werkzeug>=1.0.1 in /Library/Frameworks/Python.framework/Versions/3.12/lib/python3.12/site-packages (from tensorboard<2.17,>=2.16->tensorflow) (3.0.3)\n",
      "Requirement already satisfied: MarkupSafe>=2.1.1 in /Library/Frameworks/Python.framework/Versions/3.12/lib/python3.12/site-packages (from werkzeug>=1.0.1->tensorboard<2.17,>=2.16->tensorflow) (2.1.5)\n",
      "Requirement already satisfied: markdown-it-py>=2.2.0 in /Library/Frameworks/Python.framework/Versions/3.12/lib/python3.12/site-packages (from rich->keras>=3.0.0->tensorflow) (3.0.0)\n",
      "Requirement already satisfied: pygments<3.0.0,>=2.13.0 in /Users/taruni/Library/Python/3.12/lib/python/site-packages (from rich->keras>=3.0.0->tensorflow) (2.18.0)\n",
      "Requirement already satisfied: mdurl~=0.1 in /Library/Frameworks/Python.framework/Versions/3.12/lib/python3.12/site-packages (from markdown-it-py>=2.2.0->rich->keras>=3.0.0->tensorflow) (0.1.2)\n",
      "\n",
      "\u001b[1m[\u001b[0m\u001b[34;49mnotice\u001b[0m\u001b[1;39;49m]\u001b[0m\u001b[39;49m A new release of pip is available: \u001b[0m\u001b[31;49m24.0\u001b[0m\u001b[39;49m -> \u001b[0m\u001b[32;49m24.2\u001b[0m\n",
      "\u001b[1m[\u001b[0m\u001b[34;49mnotice\u001b[0m\u001b[1;39;49m]\u001b[0m\u001b[39;49m To update, run: \u001b[0m\u001b[32;49mpython3 -m pip install --upgrade pip\u001b[0m\n",
      "Note: you may need to restart the kernel to use updated packages.\n"
     ]
    }
   ],
   "source": [
    "pip install tensorflow"
   ]
  },
  {
   "cell_type": "code",
   "execution_count": 4,
   "metadata": {},
   "outputs": [
    {
     "name": "stderr",
     "output_type": "stream",
     "text": [
      "2024-08-25 11:15:26.210539: I tensorflow/core/platform/cpu_feature_guard.cc:210] This TensorFlow binary is optimized to use available CPU instructions in performance-critical operations.\n",
      "To enable the following instructions: AVX2 FMA, in other operations, rebuild TensorFlow with the appropriate compiler flags.\n"
     ]
    }
   ],
   "source": [
    "from keras.preprocessing import image"
   ]
  },
  {
   "cell_type": "code",
   "execution_count": 5,
   "metadata": {},
   "outputs": [
    {
     "name": "stdout",
     "output_type": "stream",
     "text": [
      "Requirement already satisfied: pillow in /Library/Frameworks/Python.framework/Versions/3.12/lib/python3.12/site-packages (10.3.0)\n",
      "\n",
      "\u001b[1m[\u001b[0m\u001b[34;49mnotice\u001b[0m\u001b[1;39;49m]\u001b[0m\u001b[39;49m A new release of pip is available: \u001b[0m\u001b[31;49m24.0\u001b[0m\u001b[39;49m -> \u001b[0m\u001b[32;49m24.2\u001b[0m\n",
      "\u001b[1m[\u001b[0m\u001b[34;49mnotice\u001b[0m\u001b[1;39;49m]\u001b[0m\u001b[39;49m To update, run: \u001b[0m\u001b[32;49mpython3 -m pip install --upgrade pip\u001b[0m\n",
      "Note: you may need to restart the kernel to use updated packages.\n"
     ]
    }
   ],
   "source": [
    "pip install pillow"
   ]
  },
  {
   "cell_type": "code",
   "execution_count": 6,
   "metadata": {},
   "outputs": [
    {
     "name": "stdout",
     "output_type": "stream",
     "text": [
      "/Users/taruni/Desktop/HEY/project_ml using cnn\n"
     ]
    }
   ],
   "source": [
    "import os\n",
    "print(os.getcwd())\n"
   ]
  },
  {
   "cell_type": "code",
   "execution_count": 7,
   "metadata": {},
   "outputs": [],
   "source": [
    "folder1 = '/Users/taruni/Desktop/HEY/project_ml using cnn/train/masked'\n",
    "folder2 = '/Users/taruni/Desktop/HEY/project_ml using cnn/train/unmasked'\n"
   ]
  },
  {
   "cell_type": "code",
   "execution_count": 8,
   "metadata": {},
   "outputs": [],
   "source": [
    "from PIL import Image"
   ]
  },
  {
   "cell_type": "code",
   "execution_count": 9,
   "metadata": {},
   "outputs": [],
   "source": [
    "# Define the folders\n",
    "folder1 = '/Users/taruni/Desktop/HEY/project_ml using cnn/train/masked'\n",
    "folder2 = '/Users/taruni/Desktop/HEY/project_ml using cnn/train/unmasked'\n",
    "\n",
    "# Function to load images from a folder\n",
    "def load_images_from_folder(folder):\n",
    "    images = []\n",
    "    for filename in os.listdir(folder):\n",
    "        if filename.endswith(\".jpg\"):\n",
    "            img_path = os.path.join(folder, filename)\n",
    "            img = Image.open(img_path)\n",
    "            images.append(img)\n",
    "    return images\n",
    "\n",
    "# Load images from both folders\n",
    "images_folder1 = load_images_from_folder(folder1)\n",
    "images_folder2 = load_images_from_folder(folder2)"
   ]
  },
  {
   "cell_type": "code",
   "execution_count": 10,
   "metadata": {},
   "outputs": [
    {
     "name": "stdout",
     "output_type": "stream",
     "text": [
      "Requirement already satisfied: opencv-python in /Library/Frameworks/Python.framework/Versions/3.12/lib/python3.12/site-packages (4.10.0.84)\n",
      "Requirement already satisfied: numpy>=1.21.2 in /Library/Frameworks/Python.framework/Versions/3.12/lib/python3.12/site-packages (from opencv-python) (1.26.4)\n",
      "\n",
      "\u001b[1m[\u001b[0m\u001b[34;49mnotice\u001b[0m\u001b[1;39;49m]\u001b[0m\u001b[39;49m A new release of pip is available: \u001b[0m\u001b[31;49m24.0\u001b[0m\u001b[39;49m -> \u001b[0m\u001b[32;49m24.2\u001b[0m\n",
      "\u001b[1m[\u001b[0m\u001b[34;49mnotice\u001b[0m\u001b[1;39;49m]\u001b[0m\u001b[39;49m To update, run: \u001b[0m\u001b[32;49mpython3 -m pip install --upgrade pip\u001b[0m\n",
      "Note: you may need to restart the kernel to use updated packages.\n"
     ]
    }
   ],
   "source": [
    "pip install opencv-python\n"
   ]
  },
  {
   "cell_type": "code",
   "execution_count": 11,
   "metadata": {},
   "outputs": [],
   "source": [
    "import cv2"
   ]
  },
  {
   "cell_type": "code",
   "execution_count": 12,
   "metadata": {},
   "outputs": [
    {
     "name": "stdout",
     "output_type": "stream",
     "text": [
      "face__e2_80_93_juno-with-mask.jpg: 224x224 pixels\n",
      "smile-pretty-human-face-girl-person-long-hair-857506-with-mask.jpg: 224x224 pixels\n",
      "man-face-1445984963iux-with-mask.jpg: 224x224 pixels\n",
      "1280px-103_year_old_yemeni_man__2810511762405_29-with-mask.jpg: 224x224 pixels\n",
      "adult-beauty-blur-casual-with-mask.jpg: 224x224 pixels\n",
      "face-in-the-shadow-1368459648hvv-with-mask.jpg: 224x224 pixels\n",
      "ronald_hirl_c3_a9_2c_auteur-with-mask.jpg: 224x224 pixels\n",
      "man-person-photography-portrait-color-tie-human-profession-face-men-gentleman-look-lawyer-stress-coaching-ernst-staff-aschaffenburg-attorney-facial-hair-870953-with-mask.jpg: 224x224 pixels\n",
      "portrait-eyes-man-face-sad-hardship-expression-emotion-young-with-mask.jpg: 224x224 pixels\n",
      "man-outline-person-people-white-boy-old-asian-portrait-human-professional-black-close-smile-face-men-gentleman-faces-indian-persons-forehead-front-view-jaw-chin-1413323-with-mask.jpg: 224x224 pixels\n",
      "man-face-1475696793zo8-with-mask(1).jpg: 224x224 pixels\n",
      "man-with-painted-face-with-mask.jpg: 224x224 pixels\n",
      "person-hair-male-chinese-profession-hairstyle-black-hair-face-one-head-business-people-1086504-with-mask.jpg: 224x224 pixels\n",
      "534px-face_of_a_man_affected_with_tertiary_syphilis_wellcome_l0062301-with-mask.jpg: 224x224 pixels\n",
      "women-s-white-top-with-mask.jpg: 224x224 pixels\n",
      "face-facial-hair-fine-looking-guy-with-mask.jpg: 224x224 pixels\n",
      "4449919027_d828110377_b-with-mask.jpg: 224x224 pixels\n",
      "old-man-face-3-with-mask.jpg: 224x224 pixels\n",
      "andrewgordongovernor1-with-mask.jpg: 224x224 pixels\n",
      "beauty-woman-portrait-face-female-young-attractive-girl-model-thumbnail-with-mask.jpg: 224x224 pixels\n",
      "160226-f-dl164-023-with-mask.jpg: 224x224 pixels\n",
      "1446px-portrait_of_a_smiling_girl_with_wet_face_at_golden_hour_in_laos-with-mask.jpg: 224x224 pixels\n",
      "detected_face_using_the_cascadeobjectdetector_function_in_matlab._this_function_uses_the_viola-jones_algorithm_to_detect_faces-with-mask.jpg: 224x224 pixels\n",
      "average_of_two_faces_2-with-mask.jpg: 224x224 pixels\n",
      "1024px-old_man_face-with-mask.jpg: 224x224 pixels\n",
      "person-human-child-girl-with-mask.jpg: 224x224 pixels\n",
      "ben_knapen_2012__28cropped_29-with-mask.jpg: 224x224 pixels\n",
      "436px-_e5_bc_b5_e9_81_94_e6_98_8e-with-mask.jpg: 224x224 pixels\n",
      "male-face-1446489499yct-with-mask.jpg: 224x224 pixels\n",
      "person-face-man-close-up-human-portrait-783701-with-mask.jpg: 224x224 pixels\n",
      "young-man-in-a-corporate-suit-face-portrait-with-mask.jpg: 224x224 pixels\n",
      "casual-male-face-portrait-person-cool-man-young-6228711-with-mask.jpg: 224x224 pixels\n",
      "indian-tribal-man-in-traditional-dress-and-face-paint-with-mask.jpg: 224x224 pixels\n",
      "beautiful-woman-face-art-face-paint-happy-headscarf-portrait-pretty-smile-woman-headshot-thumbnail-with-mask.jpg: 224x224 pixels\n",
      "man-person-people-hair-photography-male-social-sadness-portrait-color-black-facial-expression-smile-beard-old-man-face-glasses-head-photograph-pain-emotion-facial-hair-1214564-with-mask.jpg: 224x224 pixels\n",
      "man-in-green-top-with-mask.jpg: 224x224 pixels\n",
      "220623-f-iv005-0008-with-mask.jpg: 224x224 pixels\n",
      "people-woman-beautiful-portrait-with-mask.jpg: 224x224 pixels\n",
      "male-man-rugged-portrait-face-handsome-guy-white-6153298-with-mask.jpg: 224x224 pixels\n",
      "220916-m-oy081-1369-with-mask.jpg: 224x224 pixels\n",
      "42997704360_c62689887a_z-with-mask.jpg: 224x224 pixels\n",
      "portrait-people-adult-man-with-mask.jpg: 224x224 pixels\n",
      "2018-11-11-16-20-45-with-mask.jpg: 224x224 pixels\n",
      "faces-man-portrait-person-bhutan-travel-culture-traditional-asian-with-mask.jpg: 224x224 pixels\n",
      "person-human-male-face-man-view-out-nature-portrait-with-mask.jpg: 224x224 pixels\n",
      "accessories-glasses-accessory-person-with-mask.jpg: 224x224 pixels\n",
      "adults-face-portrait-man-male-human-bart-person-5021469-with-mask.jpg: 224x224 pixels\n",
      "man-black-man-spring-smile-with-mask.jpg: 224x224 pixels\n",
      "asian-handsome-man-young-stylish-happy-fashion-face-one-person-with-mask.jpg: 224x224 pixels\n",
      "face-hair-person-eyebrow-head-girl-smile-emotion-hairstyle-chin-forehead-eye-fun-cheek-human-water-organ-portrait-portrait-photography-1539817-with-mask.jpg: 224x224 pixels\n",
      "face-side-people-model-portrait-black-person-4096071-with-mask.jpg: 224x224 pixels\n",
      "2018-06-23-21-44-53-with-mask.jpg: 224x224 pixels\n",
      "person-face-her-portrait-people-eyes-freckles-4117652-with-mask.jpg: 224x224 pixels\n",
      "1795px-face_measurements_lombroso_27s_method-with-mask.jpg: 224x224 pixels\n",
      "clothing-apparel-person-human-with-mask.jpg: 224x224 pixels\n",
      "heleny_guariba_-_cnv-sp-with-mask.jpg: 224x224 pixels\n",
      "human-face-person-smile-with-mask.jpg: 224x224 pixels\n",
      "my-face-1488055515crq-with-mask.jpg: 224x224 pixels\n",
      "face_portrait__28unsplash_29-with-mask.jpg: 224x224 pixels\n",
      "face-of-the-man-with-mask.jpg: 224x224 pixels\n",
      "black_bearded_man_smiling_2c_2442565-with-mask.jpg: 224x224 pixels\n",
      "face-man-portrait-human-preview-with-mask.jpg: 224x224 pixels\n",
      "teen-girl-face-with-mask.jpg: 224x224 pixels\n",
      "person-people-woman-house-home-hut-female-portrait-color-child-black-smiling-ethnic-tribe-face-temple-head-expression-tradition-african-attractive-adult-1113841-with-mask.jpg: 224x224 pixels\n",
      "man-person-portrait-human-face-forehead-chin-facial-hair-1412284-with-mask.jpg: 224x224 pixels\n",
      "person-human-child-girl-preview-with-mask.jpg: 224x224 pixels\n",
      "27424698840_f3c4492d18_b-with-mask.jpg: 224x224 pixels\n",
      "sand-people-old-woman-face-chin-close-up-wrinkle-eye-senior-citizen-human-smile-headgear-temple-forehead-elder-portrait-1419783-with-mask.jpg: 224x224 pixels\n",
      "man-face-wet-male-preview-with-mask.jpg: 224x224 pixels\n",
      "809px-relation_of_the_human_face_to_the_rabbit_2c_17th_c_wellcome_l0038340-with-mask.jpg: 224x224 pixels\n",
      "4113982639_a84b25a799_b-with-mask.jpg: 224x224 pixels\n",
      "person-face-african-happy-child-girl-young-hand-5445473-with-mask.jpg: 224x224 pixels\n",
      "young-human-woman-portrait-beautiful-face-person-2604283-with-mask.jpg: 224x224 pixels\n",
      "160404-f-xi929-001-with-mask.jpg: 224x224 pixels\n",
      "2017-11-30-18-29-29-with-mask.jpg: 224x224 pixels\n",
      "man-model-smile-casual-male-sitting-person-face-fashion-thumbnail-with-mask.jpg: 224x224 pixels\n",
      "2017-09-30-05-42-00-1100x733-with-mask.jpg: 224x224 pixels\n",
      "afghanistan-man-face-close-up-with-mask.jpg: 224x224 pixels\n",
      "woman-face-smile-smiling-one-person-adult-african-ethnicity-outdoors-women-thumbnail-with-mask.jpg: 224x224 pixels\n",
      "320px-macruzbar-img_2444-with-mask.jpg: 224x224 pixels\n",
      "man-from-east-timor-face-close-up-with-mask.jpg: 224x224 pixels\n",
      "3833724834_617f7a0878_b-with-mask.jpg: 224x224 pixels\n",
      "person-human-face-darya-kenar-with-mask.jpg: 224x224 pixels\n",
      "stafford_jd_angles-with-mask.jpg: 224x224 pixels\n",
      "smiling-man-in-grayscale-photo-with-mask.jpg: 224x224 pixels\n",
      "face-girl-pretty-person-smiling-woman-happy-2111504-with-mask.jpg: 224x224 pixels\n",
      "200224-f-dp387-1006-with-mask.jpg: 224x224 pixels\n",
      "man-guy-person-smile-male-handsome-portrait-face-7041485-with-mask.jpg: 224x224 pixels\n",
      "face-man-model-mustache-beard-person-portrait-1845166-with-mask.jpg: 224x224 pixels\n",
      "beauty-woman-portrait-girl-face-female-young-person-attractive-with-mask.jpg: 224x224 pixels\n",
      "beautiful-boy-face-person-nose-head-male-eye-forehead-human-cheek-portrait-1437321-with-mask.jpg: 224x224 pixels\n",
      "130216-f-es880-146-with-mask.jpg: 224x224 pixels\n",
      "male-man-male-person-person-portrait-human-face-2785071-with-mask.jpg: 224x224 pixels\n",
      "person-human-man-male-face-view-portrait-close-up-with-mask.jpg: 224x224 pixels\n",
      "a_chinese_man_with_a_tumour_on_the_right_side_of_his_face_wellcome_l0038315-with-mask.jpg: 224x224 pixels\n",
      "horse-eats-hat-21-welles-with-mask.jpg: 224x224 pixels\n",
      "person-photography-portrait-face-nose-eye-head-photograph-skin-beauty-photo-shoot-portrait-photography-104434-with-mask.jpg: 224x224 pixels\n",
      "person-human-face-head-with-mask.jpg: 224x224 pixels\n",
      "2017-11-30-18-15-41-with-mask.jpg: 224x224 pixels\n",
      "640px-portret_yolanda_prinsen-with-mask.jpg: 224x224 pixels\n",
      "woman-face-eyes-feeling-with-mask.jpg: 224x224 pixels\n",
      "man-male-black-guy-facial-portrait-face-model-7003421-with-mask.jpg: 224x224 pixels\n",
      "person-human-man-male-preview-with-mask.jpg: 224x224 pixels\n",
      "woman-female-portrait-coat-with-mask.jpg: 224x224 pixels\n",
      "portrait-person-adult-old-male-face-man-people-6043230-with-mask.jpg: 224x224 pixels\n",
      "23600881349_2998eae0bc_b-with-mask.jpg: 224x224 pixels\n",
      "blank-trans-masc-enby-face-with-mask.jpg: 224x224 pixels\n",
      "portrait-human-face-eyes-preview-with-mask(1).jpg: 224x224 pixels\n",
      "man-with-green-face-with-mask(1).jpg: 224x224 pixels\n",
      "beautiful-attractive-woman-female-young-beauty-with-mask.jpg: 224x224 pixels\n",
      "2017-09-30-05-40-05-with-mask.jpg: 224x224 pixels\n",
      "people-elderly-face-old-people-with-mask.jpg: 224x224 pixels\n",
      "man-water-wet-male-face-swimming-wallpaper-preview-with-mask.jpg: 224x224 pixels\n",
      "170411-f-ca297-006-with-mask.jpg: 224x224 pixels\n",
      "man-person-people-hair-male-portrait-hairstyle-close-up-face-sculpture-nose-art-temple-head-facial-hair-12955-with-mask.jpg: 224x224 pixels\n",
      "woman-face-in-shadow-with-mask.jpg: 224x224 pixels\n",
      "two-face-man-vision-face-with-mask.jpg: 224x224 pixels\n",
      "man-model-face-men-beard-one-person-adult-males-caucasian-ethnicity-with-mask.jpg: 224x224 pixels\n",
      "male-model-portrait-man-face-male-model-black-shirt-smile-smiling-with-mask.jpg: 224x224 pixels\n",
      "face_pulling_2c_anuak__2810666953584_29-with-mask.jpg: 224x224 pixels\n",
      "2017-04-10-17-53-38-with-mask.jpg: 224x224 pixels\n",
      "2017-09-09-07-02-49-with-mask.jpg: 224x224 pixels\n",
      "portrait-man-face-with-mask.jpg: 224x224 pixels\n",
      "120809-f-fc540-001-with-mask.jpg: 224x224 pixels\n",
      "guy-human-face-man-male-person-adult-middle-aged-6206533-with-mask.jpg: 224x224 pixels\n",
      "2018-06-07-19-24-29-with-mask.jpg: 224x224 pixels\n",
      "michele_iznardo-with-mask.jpg: 224x224 pixels\n",
      "makeup-person-female-young-lady-face-woman-model-6109638-with-mask.jpg: 224x224 pixels\n",
      "men-face-man-europeans-portrait-human-person-2406544-with-mask.jpg: 224x224 pixels\n",
      "makeup-hair-woman-face-female-young-skin-person-6510343-with-mask.jpg: 224x224 pixels\n",
      "view-child-human-girl-face-person-wallpaper-preview-with-mask.jpg: 224x224 pixels\n",
      "man-person-human-face-with-mask.jpg: 224x224 pixels\n",
      "human-old-portrait-profile-with-mask.jpg: 224x224 pixels\n",
      "41607861385_291ddb2929_b-with-mask.jpg: 224x224 pixels\n",
      "man-person-people-hair-old-male-portrait-hat-hairstyle-beard-close-up-face-happy-head-aged-wrinkles-facial-hair-986394-with-mask.jpg: 224x224 pixels\n",
      "woman-wearing-grey-turtle-neck-sweater-with-mask.jpg: 224x224 pixels\n",
      "pdfemalenudebatch3-104-gloy_2-with-mask.jpg: 224x224 pixels\n",
      "32548740487_1d3f3b147c_b-with-mask.jpg: 224x224 pixels\n",
      "old-man-winter-season-bangladesh-with-mask.jpg: 224x224 pixels\n",
      "220816-f-fc975-3001-with-mask.jpg: 224x224 pixels\n",
      "man-smile-face-male-person-happy-young-portrait-guy-with-mask.jpg: 224x224 pixels\n",
      "golden-man-with-mask(1).jpg: 224x224 pixels\n",
      "green-man-14757051613zm-with-mask.jpg: 224x224 pixels\n",
      "close-up-photography-of-man-with-beard-with-mask.jpg: 224x224 pixels\n",
      "girl-face-hair-blonde-caucasian-blonde-hair-portrait-monochrome-black-and-white-thumbnail-with-mask.jpg: 224x224 pixels\n",
      "576px-face_of_spoospa-with-mask.jpg: 224x224 pixels\n",
      "480px-variety_of_male_human_faces__28collage_29-with-mask.jpg: 224x224 pixels\n",
      "2017-09-09-06-59-00-1100x733-with-mask.jpg: 224x224 pixels\n",
      "2021-03-31-09-28-55-with-mask.jpg: 224x224 pixels\n",
      "portrait-man-human-person-face-adult-with-mask.jpg: 224x224 pixels\n",
      "2017-11-30-18-25-45-with-mask.jpg: 224x224 pixels\n",
      "man-person-professional-face-men-gentleman-neck-faces-indian-persons-forehead-chin-close-view-1413324-with-mask.jpg: 224x224 pixels\n",
      "person-human-female-girl-winter-cold-cap-face-blue-eye-with-mask.jpg: 224x224 pixels\n",
      "180716-f-oe991-1047-with-mask.jpg: 224x224 pixels\n",
      "mens-the-person-face-1389833-with-mask.jpg: 224x224 pixels\n",
      "avi-img_3372-with-mask.jpg: 224x224 pixels\n",
      "eyes-person-face-girl-ernst-human-view-female-850798-with-mask.jpg: 224x224 pixels\n",
      "young_tiyar-with-mask.jpg: 224x224 pixels\n",
      "boy-young-people-teenager-youth-face-teen-head-cool-human-thumbnail-with-mask.jpg: 224x224 pixels\n",
      "412px-sandrabullockmay09-with-mask.jpg: 224x224 pixels\n",
      "overlay-with-mask.jpg: 224x224 pixels\n",
      "170421-f-xx001-003-with-mask.jpg: 224x224 pixels\n",
      "man-person-portrait-color-human-face-art-festival-head-street-parade-color-spots-color-face-1068183-with-mask.jpg: 224x224 pixels\n",
      "niger_innis_by_gage_skidmore-with-mask.jpg: 224x224 pixels\n",
      "face-nature-green-person-grass-male-child-leaf-boy-human-sunlight-field-soil-smile-happiness-tree-plant-fun-meadow-landscape-1540581-with-mask.jpg: 224x224 pixels\n",
      "2017-09-30-05-38-53-with-mask.jpg: 224x224 pixels\n",
      "human-person-face-accessory-with-mask.jpg: 224x224 pixels\n",
      "woman-young-model-lady-person-makeup-face-female-6109641-with-mask.jpg: 224x224 pixels\n",
      "face_of_person-with-mask.jpg: 224x224 pixels\n",
      "hat-face-child-human-girl-person-wallpaper-preview-with-mask.jpg: 224x224 pixels\n",
      "151104-m-vz995-001-with-mask.jpg: 224x224 pixels\n",
      "eyes-closed-face-female-red-hair-human-person-1285500-with-mask.jpg: 224x224 pixels\n",
      "man-person-male-profession-face-nose-head-expression-speech-shock-surprise-facial-scared-surprised-shocked-astonished-1007036-with-mask.jpg: 224x224 pixels\n",
      "man-person-people-woman-male-portrait-facial-expression-hairstyle-smile-senior-citizen-face-temple-head-china-facial-hair-1281163-with-mask.jpg: 224x224 pixels\n",
      "face-dark-mouth-men-s-preview-with-mask.jpg: 224x224 pixels\n",
      "2017-09-09-06-56-52-550x825-with-mask.jpg: 224x224 pixels\n",
      "170802-f-cu844-001-with-mask.jpg: 224x224 pixels\n",
      "face-facial-hair-hair-man-beard-person-chin-elder-moustache-gentleman-portrait-human-1453083-with-mask.jpg: 224x224 pixels\n",
      "12458327025_61057f67a6_c-with-mask.jpg: 224x224 pixels\n",
      "k_l_vinay-with-mask.jpg: 224x224 pixels\n",
      "man-nature-person-people-view-male-portrait-human-close-facial-expression-smile-senior-citizen-close-up-face-nose-eye-head-out-portrait-photography-874104-with-mask.jpg: 224x224 pixels\n",
      "140822-f-jf989-001-with-mask.jpg: 224x224 pixels\n",
      "portrait-smile-person-adult-man-face-male-5552541-with-mask.jpg: 224x224 pixels\n",
      "210318-z-yy717-011-with-mask.jpg: 224x224 pixels\n",
      "person-woman-makeup-model-female-face-caucasian-5468397-with-mask.jpg: 224x224 pixels\n",
      "human-person-man-face-with-mask.jpg: 224x224 pixels\n",
      "man-hair-wet-male-portrait-model-hairstyle-beard-muscle-close-up-face-nose-eye-head-skin-forehead-chin-barechestedness-chest-hair-facial-hair-buzz-cut-17667-with-mask.jpg: 224x224 pixels\n",
      "man-person-people-male-statue-portrait-senior-citizen-mannequin-face-sculpture-art-temple-head-photograph-skin-robot-android-manikin-grandparent-776077-with-mask.jpg: 224x224 pixels\n",
      "smile-face-man-male-young-happy-portrait-person-6153297-with-mask.jpg: 224x224 pixels\n",
      "403px-average_of_two_faces_2-with-mask.jpg: 224x224 pixels\n",
      "official_portrait_of_baroness_howe_of_idlicote_crop_2__28headshot_29-with-mask.jpg: 224x224 pixels\n",
      "beauty-woman-portrait-fashion-human-face-girl-4868954-with-mask.jpg: 224x224 pixels\n",
      "miniature_human_face_models_made_through_3d_printing__28rapid_prototyping_29-with-mask.jpg: 224x224 pixels\n",
      "girl-woman-young-female-portrait-person-face-6064983-with-mask.jpg: 224x224 pixels\n",
      "man-teenager-face-male-expression-model-nature-pakistan-one-person-with-mask.jpg: 224x224 pixels\n",
      "person-man-face-pose-guy-portrait-smile-happy-6225674-with-mask.jpg: 224x224 pixels\n",
      "429815-h-cdv96-810-with-mask.jpg: 224x224 pixels\n",
      "2017-09-08-11-03-22-550x825-with-mask.jpg: 224x224 pixels\n",
      "1280px-my_favourite_faces__281_29__28imagicity_640_29-with-mask.jpg: 224x224 pixels\n",
      "mann-weint-with-mask.jpg: 224x224 pixels\n",
      "2560px-my_favourite_faces__281_29__28imagicity_640_29-with-mask.jpg: 224x224 pixels\n",
      "chattanooga_woman_and_blur__28unsplash_29-with-mask.jpg: 224x224 pixels\n",
      "160427-f-ug926-002-with-mask.jpg: 224x224 pixels\n",
      "man-portrait-face-eyes-with-mask(1).jpg: 224x224 pixels\n",
      "indian_man_face-with-mask.jpg: 224x224 pixels\n",
      "man-face-forehead-head-chin-cheek-human-neck-portrait-jaw-1603342-with-mask.jpg: 224x224 pixels\n",
      "person-people-male-portrait-child-facial-expression-smile-conversation-face-eye-head-skin-flatclass2013-435683-with-mask.jpg: 224x224 pixels\n",
      "male-face-1446489418idt-with-mask.jpg: 224x224 pixels\n",
      "person-human-female-girl-face-wallpaper-preview-with-mask(1).jpg: 224x224 pixels\n",
      "male-adult-person-face-man-serious-portrait-6091763-with-mask.jpg: 224x224 pixels\n",
      "2560px-st_vs_cab_-_14h08.13-with-mask.jpg: 224x224 pixels\n",
      "woman-holding-her-head-outdoor-with-mask.jpg: 224x224 pixels\n",
      "2560px-participants_at_a_wikipedia_training_for_persons_with_hearing_impairment_in_winneba_2c_ghana._42-with-mask.jpg: 224x224 pixels\n",
      "color-paint-portrait-person-blue-face-painting-boy-man-with-mask.jpg: 224x224 pixels\n",
      "180208-f-gr674-002-with-mask.jpg: 224x224 pixels\n",
      "boy-surprised-happy-childhood-preview-with-mask.jpg: 224x224 pixels\n",
      "lady-woman-china-people-portrait-person-face-5314748-with-mask.jpg: 224x224 pixels\n",
      "old-man-face-portrait-with-mask.jpg: 224x224 pixels\n",
      "portrait-young-person-face-people-adult-lifestyle-3244703-with-mask.jpg: 224x224 pixels\n",
      "face-smiles-bebe-son-happy-child-smiling-man-1809602-with-mask.jpg: 224x224 pixels\n",
      "beautiful-boy-face-nose-head-chin-forehead-human-cheek-darkness-portrait-1437191-with-mask.jpg: 224x224 pixels\n",
      "576px-albert_einstein_head-with-mask.jpg: 224x224 pixels\n",
      "2560px-face_portrait__28unsplash_29-with-mask.jpg: 224x224 pixels\n",
      "women-face-portrait-emotions-preview-with-mask.jpg: 224x224 pixels\n",
      "old-man-man-face-senior-with-mask.jpg: 224x224 pixels\n",
      "the-man-face-in-the-hands-with-mask.jpg: 224x224 pixels\n",
      "face-drawing-hand-drawn-with-mask.jpg: 224x224 pixels\n",
      "721px-diagrams_illustrating_cross-sections_through_the_human_face_wellcome_v0016838el-with-mask.jpg: 224x224 pixels\n",
      "man-face-human-portrait-with-mask.jpg: 224x224 pixels\n",
      "man-person-people-woman-hair-old-male-portrait-color-blue-facial-expression-hairstyle-smile-thailand-senior-citizen-face-head-grandparent-facial-hair-theyneed-face-990445-with-mask.jpg: 224x224 pixels\n",
      "898px-face_measurements_lombroso_27s_method-with-mask.jpg: 224x224 pixels\n",
      "14778756601_60976325c0_b-with-mask.jpg: 224x224 pixels\n",
      "151028-n-ae587-165-with-mask.jpg: 224x224 pixels\n",
      "human-face-with-mask.jpg: 224x224 pixels\n",
      "jinyoung_for_gq_korea_in_july_2021_02-with-mask.jpg: 224x224 pixels\n",
      "160829-f-gu448-001-with-mask.jpg: 224x224 pixels\n",
      "2017-12-10-18-51-37-with-mask.jpg: 224x224 pixels\n",
      "attractive-eyes-face-fashion-preview-with-mask.jpg: 224x224 pixels\n",
      "face-eye-person-blue-eye-with-mask.jpg: 224x224 pixels\n",
      "male-model-face-portrait-young-smile-side-person-attractive-with-mask.jpg: 224x224 pixels\n",
      "person-girl-woman-hair-portrait-model-fashion-lady-hairstyle-face-eye-head-beauty-photo-shoot-brown-hair-portrait-photography-human-positions-art-model-86960-with-mask.jpg: 224x224 pixels\n",
      "2018-11-01-23-36-55-1200x800-with-mask.jpg: 224x224 pixels\n",
      "man-person-portrait-face-preview-with-mask.jpg: 224x224 pixels\n",
      "old-man-elder-portrait-wrinkles-face-person-351281-with-mask.jpg: 224x224 pixels\n",
      "beautiful-face-female-girl-glamour-headscarf-hijab-hood-model-person-with-mask.jpg: 224x224 pixels\n",
      "human-man-portrait-face-self-portrait-person-1030587-with-mask(1).jpg: 224x224 pixels\n",
      "guy-portrait-face-man-young-man-caucasian-model-6810239-with-mask.jpg: 224x224 pixels\n",
      "beard-long-hair-portrait-guy-man-face-male-6490356-with-mask.jpg: 224x224 pixels\n",
      "fl26711015717-image-kucg0z21-with-mask.jpg: 224x224 pixels\n",
      "happy-man-guy-young-portrait-male-face-person-7030900-with-mask.jpg: 224x224 pixels\n",
      "face-woman-think-person-human-female-model-young-5545760-with-mask.jpg: 224x224 pixels\n",
      "701px-algerian_man_with_turban-with-mask.jpg: 224x224 pixels\n",
      "face__e2_80_93_alexander-with-mask.jpg: 224x224 pixels\n",
      "2017-11-30-18-12-01-1200x674-with-mask.jpg: 224x224 pixels\n",
      "5198470559_bdf2b10bd5_b-with-mask.jpg: 224x224 pixels\n",
      "man-in-suit-with-barack-obama-face-with-mask.jpg: 224x224 pixels\n",
      "2017-09-08-11-06-11-550x825-with-mask.jpg: 224x224 pixels\n",
      "girl-retro-face-beautiful-look-studio-portrait-monochrome-one-person-with-mask.jpg: 224x224 pixels\n",
      "girl-kid-portrait-child-young-cute-person-face-indigenous-people-thumbnail-with-mask.jpg: 224x224 pixels\n",
      "portrait-photography-of-woman-with-mask.jpg: 224x224 pixels\n",
      "150220-f-lr006-786-with-mask.jpg: 224x224 pixels\n",
      "young-woman-beauty-girl-person-face-makeup-6099667-with-mask.jpg: 224x224 pixels\n",
      "220614-f-bd538-1020-with-mask.jpg: 224x224 pixels\n",
      "face-of-the-man-1359456113tm0-with-mask.jpg: 224x224 pixels\n",
      "woman-face-smile-portrait-person-indian-look-755227-with-mask.jpg: 224x224 pixels\n",
      "150428-f-hk496-009-with-mask.jpg: 224x224 pixels\n",
      "685px-turkish-german_man-with-mask.jpg: 224x224 pixels\n",
      "person-human-male-face-with-mask.jpg: 224x224 pixels\n",
      "man-person-people-hair-male-facial-expression-hairstyle-smile-face-nose-head-abdomen-facial-hair-127275-with-mask.jpg: 224x224 pixels\n",
      "man-hood-person-dark-with-mask.jpg: 224x224 pixels\n",
      "484px-portrait_of_ante_trumbi_c4_87-with-mask.jpg: 224x224 pixels\n",
      "2017-05-31-18-47-04-with-mask.jpg: 224x224 pixels\n",
      "mundari_warrior_-_50375125752-with-mask.jpg: 224x224 pixels\n",
      "amber_27sduckface-with-mask.jpg: 224x224 pixels\n",
      "child-girl-blond-face-preview-with-mask.jpg: 224x224 pixels\n",
      "baby_face-with-mask.jpg: 224x224 pixels\n",
      "makeup-face-art-makeup-portrait-1639227276xwd-with-mask.jpg: 224x224 pixels\n",
      "person-human-female-face-eyes-view-with-mask.jpg: 224x224 pixels\n",
      "man-hair-face-white-male-facial-hair-chin-forehead-moustache-beard-cool-photo-shoot-model-gentleman-photography-muscle-smile-actor-neck-formal-wear-black-hair-1446989-with-mask.jpg: 224x224 pixels\n",
      "facial-expression-human-man-face-portrait-person-1080994-with-mask.jpg: 224x224 pixels\n",
      "human-face-man-person-with-mask.jpg: 224x224 pixels\n",
      "child-view-blond-sad-face-girl-wallpaper-preview-with-mask.jpg: 224x224 pixels\n",
      "51372865702_e64a825125_b-with-mask.jpg: 224x224 pixels\n",
      "person-face-human-head-with-mask.jpg: 224x224 pixels\n",
      "100705-z-so401-001-with-mask.jpg: 224x224 pixels\n",
      "1575px-allie_mae_burroughs_print-with-mask.jpg: 224x224 pixels\n",
      "kid-girl-portrait-cute-one-person-close-up-looking-at-camera-child-looking-thumbnail-with-mask.jpg: 224x224 pixels\n",
      "adamzuliansyahnight-with-mask.jpg: 224x224 pixels\n",
      "150716-a-zz999-015-with-mask.jpg: 224x224 pixels\n",
      "face_detail_2c_blind_man_carrying_a_paralysed_man__28cropped_29-with-mask.jpg: 224x224 pixels\n",
      "2017-11-30-17-49-45-with-mask(1).jpg: 224x224 pixels\n",
      "man-person-people-portrait-professional-profession-smiling-senior-citizen-elder-face-happy-980074-with-mask.jpg: 224x224 pixels\n",
      "portrait-woman-beautiful-young-human-person-face-girl-beauty-with-mask.jpg: 224x224 pixels\n",
      "person-man-human-face-portrait-male-male-person-2791743-with-mask.jpg: 224x224 pixels\n",
      "close-up-portrait-girl-human-smile-person-face-821764-with-mask.jpg: 224x224 pixels\n",
      "grey-face-with-mask.jpg: 224x224 pixels\n",
      "man_pulling_face_at_camera__288455760157_29-with-mask.jpg: 224x224 pixels\n",
      "girl-human-face-person-view-blond-wallpaper-preview-with-mask.jpg: 224x224 pixels\n",
      "child-face-cute-portrait-kid-person-girl-young-5857418-with-mask.jpg: 224x224 pixels\n",
      "674px-lucky_diamond_rich_face-with-mask.jpg: 224x224 pixels\n",
      "201216-f-ea289-002-with-mask.jpg: 224x224 pixels\n",
      "napal-woman-portrait-girl-face-model-with-mask.jpg: 224x224 pixels\n",
      "14591050387_a8e04ecf0f_z-with-mask.jpg: 224x224 pixels\n",
      "portrait-human-face-eyes-preview-with-mask.jpg: 224x224 pixels\n",
      "golden-man-with-mask.jpg: 224x224 pixels\n",
      "man-face-1475696793zo8-with-mask.jpg: 224x224 pixels\n",
      "2017-11-30-17-49-45-with-mask.jpg: 224x224 pixels\n",
      "human-man-portrait-face-self-portrait-person-1030587-with-mask.jpg: 224x224 pixels\n",
      "1280px-my_favourite_faces__282_29__28imagicity_640_29-with-mask.jpg: 224x224 pixels\n",
      "man-portrait-face-eyes-with-mask.jpg: 224x224 pixels\n",
      "2017-12-10-18-51-44-1200x800-with-mask.jpg: 224x224 pixels\n",
      "17127778193_4f0622bee5_b-with-mask.jpg: 224x224 pixels\n",
      "person-human-female-girl-face-wallpaper-preview-with-mask.jpg: 224x224 pixels\n",
      "man-with-green-face-with-mask.jpg: 224x224 pixels\n",
      "child-boy-portrait-kid-face-hat-wallpaper-preview-with-mask.jpg: 224x224 pixels\n",
      "person-male-guy-beard-man-portrait-face-7041492-with-mask.jpg: 224x224 pixels\n",
      "2609437731_7a038d618e_b-with-mask.jpg: 224x224 pixels\n",
      "adult-handsome-man-male-guy-face-portrait-person-6228705-with-mask.jpg: 224x224 pixels\n",
      "human-girl-portrait-paint-fiction-make-up-face-5225983-with-mask.jpg: 224x224 pixels\n",
      "dangerous-man-with-mask.jpg: 224x224 pixels\n",
      "lemba_elder-with-mask.jpg: 224x224 pixels\n",
      "man-nature-person-people-male-portrait-human-close-smile-senior-citizen-face-head-out-grandparent-facial-hair-720070-with-mask.jpg: 224x224 pixels\n",
      "village-face-man-portrait-boy-male-old-6862921-with-mask.jpg: 224x224 pixels\n",
      "man-guy-young-face-male-portrait-person-beard-7041490-with-mask.jpg: 224x224 pixels\n",
      "man-person-face-male-people-young-wallpaper-preview-with-mask.jpg: 224x224 pixels\n",
      "female-human-face-person-cap-girl-winter-cold-1289310-with-mask.jpg: 224x224 pixels\n",
      "_d0_94_d0_b6_d0_be_d1_88__d0_a1_d0_b5_d0_b3_d0_b0_d1_80_d1_80_d0_b0-with-mask.jpg: 224x224 pixels\n",
      "man-person-black-and-white-photography-old-male-portrait-monochrome-senior-citizen-close-up-elder-face-sculpture-head-grandparent-wrinkles-monochrome-photography-1102612-with-mask.jpg: 224x224 pixels\n",
      "786px-robert_philp_portrait-with-mask.jpg: 224x224 pixels\n",
      "man-s-face-with-mask.jpg: 224x224 pixels\n",
      "model-posing-man-male-face-portrait-pose-6865569-with-mask.jpg: 224x224 pixels\n",
      "woman-female-girl-portrait-face-person-beauty-6268457-with-mask.jpg: 224x224 pixels\n",
      "lancescottwalker_28photo-jennifercharles_29-with-mask.jpg: 224x224 pixels\n",
      "angelica-ramona-ntir-office-with-mask.jpg: 224x224 pixels\n",
      "160503-m-fz867-271-with-mask.jpg: 224x224 pixels\n",
      "2017-11-30-18-37-25-with-mask.jpg: 224x224 pixels\n",
      "2019-01-13-09-45-18-with-mask.jpg: 224x224 pixels\n",
      "face-emotion-neutral-publicdomain-with-mask.jpg: 224x224 pixels\n",
      "person-face-girl-human-eyes-closed-child-feel-1263323-with-mask.jpg: 224x224 pixels\n",
      "face-man-guy-headshot-preview-with-mask.jpg: 224x224 pixels\n",
      "man-face-portrait-men-one-person-adult-beard-males-looking-at-camera-thumbnail-with-mask.jpg: 224x224 pixels\n",
      "170106-f-bm386-008-with-mask.jpg: 224x224 pixels\n",
      "2560px-old_man_face-with-mask.jpg: 224x224 pixels\n",
      "200410-f-ru983-1045-with-mask.jpg: 224x224 pixels\n",
      "portrait_of_a_balinese_man_3b_august_2010-with-mask.jpg: 224x224 pixels\n",
      "640px-man_pulling_face_at_camera__288455760157_29-with-mask.jpg: 224x224 pixels\n",
      "louis_martinet_2c_portrait_in_album_de_portraits-cartes_de_visites__e2_80_93_gallica_btv1b8451516b__28cropped_2c_adjusted_29-with-mask.jpg: 224x224 pixels\n",
      "2560px-more_of_my_favourite_faces__281_29__28imagicity_648_29-with-mask.jpg: 224x224 pixels\n",
      "2017-09-30-05-41-29-with-mask.jpg: 224x224 pixels\n",
      "front-view-face-close-man-men-indian-asian-person-gentleman-with-mask.jpg: 224x224 pixels\n",
      "woman-face-portrait-pretty-preview-with-mask.jpg: 224x224 pixels\n",
      "3255868782_89f713b464_b-with-mask.jpg: 224x224 pixels\n",
      "king_tijesunimi-with-mask.jpg: 224x224 pixels\n",
      "160609-f-na343-007-with-mask.jpg: 224x224 pixels\n",
      "242796-p-wyu60-892-with-mask.jpg: 224x224 pixels\n",
      "guy-young-person-face-beauty-portrait-with-mask.jpg: 224x224 pixels\n",
      "079_people_girls-women-face-lady-hair-eyes-free-vector-with-mask.jpg: 224x224 pixels\n",
      "the-very-many-faces-of-dentistry_dentalreach-800x400-with-mask.jpg: 224x224 pixels\n",
      "girl-human-face-child-blond-person-wallpaper-preview-with-mask.jpg: 224x224 pixels\n",
      "2017-05-31-18-54-45-with-mask.jpg: 224x224 pixels\n",
      "2021-01-19-06-48-02-with-mask.jpg: 224x224 pixels\n",
      "man-young-man-portrait-boy-model-face-6404478-with-mask.jpg: 224x224 pixels\n",
      "man-portrait-guy-face-male-person-young-7041488-with-mask.jpg: 224x224 pixels\n",
      "2017-12-10-18-51-44-1200x800-with-mask(1).jpg: 224x224 pixels\n",
      "the-boys-face-in-the-hands-with-mask.jpg: 224x224 pixels\n",
      "5976439922_6ae2ca0e7b_z-with-mask.jpg: 224x224 pixels\n",
      "2018-11-18-20-35-06-with-mask.jpg: 224x224 pixels\n",
      "lamar_johnson__28face_29_at_the_2018_cfc_annual_bbq_fundraiser__2829661973467_29__28cropped_29-with-mask.jpg: 224x224 pixels\n",
      "2020-08-25-11-07-31-with-mask.jpg: 224x224 pixels\n",
      "human-girl-in-thoughts-dreamy-person-face-child-834124-with-mask.jpg: 224x224 pixels\n",
      "1280px-_22i_didn_27t_want_to_spend_the_night_with_my_husband_22__2814727873773_29-with-mask.jpg: 224x224 pixels\n",
      "2017-11-30-18-11-57-with-mask.jpg: 224x224 pixels\n",
      "man-person-portrait-professional-profession-hairstyle-face-glasses-head-eyewear-portrait-photography-vision-care-passport-photograph-1238378-with-mask.jpg: 224x224 pixels\n",
      "woman-portrait-indian-with-mask.jpg: 224x224 pixels\n",
      "fl45205374505-image-kucg0lx2-with-mask.jpg: 224x224 pixels\n",
      "male-man-person-handsome-guy-face-portrait-beard-6309454-with-mask.jpg: 224x224 pixels\n",
      "front-view-of-man-s-face-with-mask.jpg: 224x224 pixels\n",
      "grim-face-with-mask.jpg: 224x224 pixels\n",
      "842px-inuit_women_1907-with-mask.jpg: 224x224 pixels\n",
      "boy-face-man-person-portrait-headshot-looking-at-camera-front-view-one-person-focus-on-foreground-with-mask.jpg: 224x224 pixels\n",
      "10511762405_df957a48d4_b-with-mask.jpg: 224x224 pixels\n",
      "2018-06-28-06-43-08-with-mask.jpg: 224x224 pixels\n",
      "woman-face-with-white-orchid-with-mask.jpg: 224x224 pixels\n",
      "faceanatomy_bf30e510f1939b9b3cf2f82156c6fed7_2000-800x400-with-mask.jpg: 224x224 pixels\n",
      "neil_armstrong_23_may_1952-with-mask.jpg: 224x224 pixels\n",
      "girl-smile-happy-blond-hand-child-wallpaper-preview-with-mask.jpg: 224x224 pixels\n",
      "man-male-person-black-beard-face-wallpaper-preview-with-mask.jpg: 224x224 pixels\n",
      "1280px-face_in_water-with-mask.jpg: 224x224 pixels\n",
      "person-people-male-portrait-child-facial-expression-smile-senior-citizen-close-up-face-infant-toddler-eye-head-skin-organ-laughter-tooth-emotion-portrait-photography-20535-with-mask.jpg: 224x224 pixels\n",
      "woman-female-old-elderly-with-mask.jpg: 224x224 pixels\n",
      "31193237833_52084d65f3_b-with-mask.jpg: 224x224 pixels\n",
      "portrait-human-male-head-person-man-model-face-5115892-with-mask.jpg: 224x224 pixels\n",
      "14005719612409-with-mask.jpg: 224x224 pixels\n",
      "man-standing-on-street-during-daytime-with-mask.jpg: 224x224 pixels\n",
      "face-man-male-person-portrait-guy-young-youth-6228716-with-mask.jpg: 224x224 pixels\n",
      "face-the-person-men-s-preview-with-mask.jpg: 224x224 pixels\n",
      "smiling-woman-leaning-on-purple-flower-with-mask.jpg: 224x224 pixels\n",
      "ivan-medek-with-mask.jpg: 224x224 pixels\n",
      "girl-face-women-person-woman-portrait-female-6309466-with-mask.jpg: 224x224 pixels\n",
      "face-white-people-head-facial-hair-beard-yellow-chin-human-eye-moustache-wrinkle-glasses-smile-elder-photography-grandparent-portrait-1530939-with-mask.jpg: 224x224 pixels\n",
      "nepal-man-face-portrait-troubled-with-mask.jpg: 224x224 pixels\n",
      "man-face-1-with-mask.jpg: 224x224 pixels\n",
      "face-man-model-person-with-mask.jpg: 224x224 pixels\n",
      "human-male-nature-out-man-person-face-view-829966-with-mask.jpg: 224x224 pixels\n",
      "man-stylish-fashion-view-with-mask.jpg: 224x224 pixels\n",
      "52063681563_b96f6e2d6e_b-with-mask.jpg: 224x224 pixels\n",
      "1280px-face_portrait__28unsplash_29-with-mask.jpg: 224x224 pixels\n",
      "1280px-beautiful_face_girl-with-mask.jpg: 224x224 pixels\n",
      "child-people-portrait-petit-with-mask.jpg: 224x224 pixels\n",
      "man-face-evil-view-person-human-grim-portrait-close-up-with-mask.jpg: 224x224 pixels\n",
      "14759182146_6b65d1f08b_b-with-mask.jpg: 224x224 pixels\n",
      "idjyzrhapusinjxqef8dbqmeookvykdz-with-mask.jpg: 224x224 pixels\n",
      "2021-10-21-09-16-34-with-mask.jpg: 224x224 pixels\n",
      "682px-millosh-img_4262-with-mask.jpg: 224x224 pixels\n",
      "beauty-woman-beautiful-face-person-hair-portrait-3985500-with-mask.jpg: 224x224 pixels\n",
      "080618-f-8558p-101-with-mask.jpg: 224x224 pixels\n",
      "211116-m-ts451-1087-with-mask.jpg: 224x224 pixels\n",
      "head_of_a_man_with_a_severe_disease_affecting_his_face._draw_wellcome_v0009876-with-mask.jpg: 224x224 pixels\n",
      "mannequin-women-portrait-beautiful-human-face-4531859-with-mask.jpg: 224x224 pixels\n",
      "bald-black-african-balding-boutique-wallpaper-preview-with-mask.jpg: 224x224 pixels\n",
      "man-person-people-male-portrait-profession-senior-citizen-nepal-face-temple-head-senior-grandparent-717343-with-mask.jpg: 224x224 pixels\n",
      "160321-f-ot300-001-with-mask.jpg: 224x224 pixels\n",
      "100705-z-so401-001.jpg: 224x224 pixels\n",
      "2018-11-11-16-20-45.jpg: 224x224 pixels\n",
      "front-view-of-man-s-face.jpg: 224x224 pixels\n",
      "heleny_guariba_-_cnv-sp.jpg: 224x224 pixels\n",
      "girl-woman-young-female-portrait-person-face-6064983.jpg: 224x224 pixels\n",
      "lae.jpg: 224x224 pixels\n",
      "120809-f-fc540-001.jpg: 224x224 pixels\n",
      "man-guy-person-smile-male-handsome-portrait-face-7041485.jpg: 224x224 pixels\n",
      "smile-pretty-human-face-girl-person-long-hair-857506.jpg: 224x224 pixels\n",
      "guy-human-face-man-male-person-adult-middle-aged-6206533.jpg: 224x224 pixels\n",
      "face-eye-person-blue-eye(2).jpg: 224x224 pixels\n",
      "674px-lucky_diamond_rich_face.jpg: 224x224 pixels\n",
      "portrait-eye-beard-face-preview.jpg: 224x224 pixels\n",
      "guy-portrait-face-man-young-man-caucasian-model-6810239.jpg: 224x224 pixels\n",
      "2560px-more_of_my_favourite_faces__281_29__28imagicity_648_29.jpg: 224x224 pixels\n",
      "village-face-man-portrait-boy-male-old-6862921.jpg: 224x224 pixels\n",
      "person-human-child-girl-preview.jpg: 224x224 pixels\n",
      "women-s-white-top.jpg: 224x224 pixels\n",
      "woman-face-with-white-orchid.jpg: 224x224 pixels\n",
      "face-facial-hair-fine-looking-guy.jpg: 224x224 pixels\n",
      "fl26711015717-image-kucg0z21.jpg: 224x224 pixels\n",
      "150220-f-lr006-786.jpg: 224x224 pixels\n",
      "lemba_elder(4).jpg: 224x224 pixels\n",
      "amber_27sduckface.jpg: 224x224 pixels\n",
      "michele_iznardo.jpg: 224x224 pixels\n",
      "the-very-many-faces-of-dentistry_dentalreach-800x400.jpg: 224x224 pixels\n",
      "2017-12-10-18-51-44-1200x800.jpg: 224x224 pixels\n",
      "fear-human-view-emotions-person-face-girl-812821.jpg: 224x224 pixels\n",
      "140822-f-jf989-001.jpg: 224x224 pixels\n",
      "2017-11-30-18-25-45.jpg: 224x224 pixels\n",
      "andrewgordongovernor1(1).jpg: 224x224 pixels\n",
      "head_of_a_man_with_a_severe_disease_affecting_his_face._draw_wellcome_v0009876(3).jpg: 224x224 pixels\n",
      "male-man-person-handsome-guy-face-portrait-beard-6309454.jpg: 224x224 pixels\n",
      "teen-girl-face.jpg: 224x224 pixels\n",
      "atat_c3_bcrk_ve__c4_b0n_c3_b6n_c3_bc_1937.jpg: 224x224 pixels\n",
      "2560px-face_portrait__28unsplash_29.jpg: 224x224 pixels\n",
      "2017-11-30-18-11-57.jpg: 224x224 pixels\n",
      "200504-f-vu029-3033.jpg: 224x224 pixels\n",
      "576px-albert_einstein_head(1).jpg: 224x224 pixels\n",
      "12458327025_61057f67a6_c.jpg: 224x224 pixels\n",
      "indian_man_face.jpg: 224x224 pixels\n",
      "man-person-people-portrait-professional-profession-smiling-senior-citizen-elder-face-happy-980074(4).jpg: 224x224 pixels\n",
      "profile-side-man-face-preview.jpg: 224x224 pixels\n",
      "51372865702_e64a825125_b(1).jpg: 224x224 pixels\n",
      "person-photography-portrait-face-nose-eye-head-photograph-skin-beauty-photo-shoot-portrait-photography-104434.jpg: 224x224 pixels\n",
      "2017-09-30-05-40-05.jpg: 224x224 pixels\n",
      "person-people-woman-house-home-hut-female-portrait-color-child-black-smiling-ethnic-tribe-face-temple-head-expression-tradition-african-attractive-adult-1113841.jpg: 224x224 pixels\n",
      "1280px-103_year_old_yemeni_man__2810511762405_29.jpg: 224x224 pixels\n",
      "white-portrait-face-faces-person-gentleman-man-103041.jpg: 224x224 pixels\n",
      "160427-f-ug926-002.jpg: 224x224 pixels\n",
      "golden-man.jpg: 224x224 pixels\n",
      "asian-handsome-man-young-stylish-happy-fashion-face-one-person.jpg: 224x224 pixels\n",
      "face-hair-person-eyebrow-head-girl-smile-emotion-hairstyle-chin-forehead-eye-fun-cheek-human-water-organ-portrait-portrait-photography-1539817.jpg: 224x224 pixels\n",
      "grim-face.jpg: 224x224 pixels\n",
      "2017-09-08-11-06-11-550x825.jpg: 224x224 pixels\n",
      "14759182146_6b65d1f08b_b(1).jpg: 224x224 pixels\n",
      "person-people-male-portrait-child-facial-expression-smile-senior-citizen-close-up-face-infant-toddler-eye-head-skin-organ-laughter-tooth-emotion-portrait-photography-20535.jpg: 224x224 pixels\n",
      "120127-f-bz728-005.jpg: 224x224 pixels\n",
      "close-up-photography-of-man-with-beard.jpg: 224x224 pixels\n",
      "the-boys-face-in-the-hands.jpg: 224x224 pixels\n",
      "320px-macruzbar-img_2444.jpg: 224x224 pixels\n",
      "1280px-beautiful_face_girl.jpg: 224x224 pixels\n",
      "jinyoung_for_gq_korea_in_july_2021_02.jpg: 224x224 pixels\n",
      "face-nature-green-person-grass-male-child-leaf-boy-human-sunlight-field-soil-smile-happiness-tree-plant-fun-meadow-landscape-1540581.jpg: 224x224 pixels\n",
      "man-water-wet-male-face-swimming-wallpaper-preview.jpg: 224x224 pixels\n",
      "woman-face-in-shadow.jpg: 224x224 pixels\n",
      "chattanooga_woman_and_blur__28unsplash_29.jpg: 224x224 pixels\n",
      "480px-variety_of_male_human_faces__28collage_29.jpg: 224x224 pixels\n",
      "napal-woman-portrait-girl-face-model.jpg: 224x224 pixels\n",
      "face-of-child-1334997418h4j.jpg: 224x224 pixels\n",
      "person-human-male-face.jpg: 224x224 pixels\n",
      "1sh3ui3g7j6lrs6atgofue9d0a.jpg: 224x224 pixels\n",
      "smiling-man-in-grayscale-photo.jpg: 224x224 pixels\n",
      "king_tijesunimi.jpg: 224x224 pixels\n",
      "human-face-person-smile.jpg: 224x224 pixels\n",
      "beautiful-boy-face-nose-head-chin-forehead-human-cheek-darkness-portrait-1437191.jpg: 224x224 pixels\n",
      "080618-f-8558p-101.jpg: 224x224 pixels\n",
      "child-eyes-girl-food-portrait-person.jpg: 224x224 pixels\n",
      "person-male-guy-beard-man-portrait-face-7041492.jpg: 224x224 pixels\n",
      "person-human-male-face-man-view-out-nature-portrait.jpg: 224x224 pixels\n",
      "face-emotion-neutral-publicdomain(4).jpg: 224x224 pixels\n",
      "human-face.jpg: 224x224 pixels\n",
      "makeup-hair-woman-face-female-young-skin-person-6510343.jpg: 224x224 pixels\n",
      "girl-human-face-child-blond-person-wallpaper-preview.jpg: 224x224 pixels\n",
      "nepal-man-face-portrait-troubled.jpg: 224x224 pixels\n",
      "701px-algerian_man_with_turban.jpg: 224x224 pixels\n",
      "model-posing-man-male-face-portrait-pose-6865569.jpg: 224x224 pixels\n",
      "2021-01-14-11-52-44-1800x1200.jpg: 224x224 pixels\n",
      "face-portrait-man-male-preview.jpg: 224x224 pixels\n",
      "male-adult-person-face-man-serious-portrait-6091763.jpg: 224x224 pixels\n",
      "portrait-eyes-man-face-sad-hardship-expression-emotion-young.jpg: 224x224 pixels\n",
      "head_of_a_man_with_a_severe_disease_affecting_his_face._draw_wellcome_v0009876(2).jpg: 224x224 pixels\n",
      "person-girl-woman-hair-portrait-model-fashion-lady-hairstyle-face-eye-head-beauty-photo-shoot-brown-hair-portrait-photography-human-positions-art-model-86960.jpg: 224x224 pixels\n",
      "old-man-winter-season-bangladesh.jpg: 224x224 pixels\n",
      "portrait_of_a_balinese_man_3b_august_2010.jpg: 224x224 pixels\n",
      "man-person-people-hair-male-portrait-hairstyle-close-up-face-sculpture-nose-art-temple-head-facial-hair-12955.jpg: 224x224 pixels\n",
      "2018-06-28-06-50-48.jpg: 224x224 pixels\n",
      "woman-female-girl-portrait-face-person-beauty-6268457.jpg: 224x224 pixels\n",
      "549px-third_person_03__289780128385_29.jpg: 224x224 pixels\n",
      "detected_face_using_the_cascadeobjectdetector_function_in_matlab._this_function_uses_the_viola-jones_algorithm_to_detect_faces.jpg: 224x224 pixels\n",
      "2018-06-28-06-43-08.jpg: 224x224 pixels\n",
      "person-human-female-face-eyes-view.jpg: 224x224 pixels\n",
      "200224-f-dp387-1006.jpg: 224x224 pixels\n",
      "adamzuliansyahnight.jpg: 224x224 pixels\n",
      "man-person-people-hair-photography-male-social-sadness-portrait-color-black-facial-expression-smile-beard-old-man-face-glasses-head-photograph-pain-emotion-facial-hair-1214564(4).jpg: 224x224 pixels\n",
      "man-head-profile-face-male-person-beard.jpg: 224x224 pixels\n",
      "160609-f-na343-007.jpg: 224x224 pixels\n",
      "41607861385_291ddb2929_b.jpg: 224x224 pixels\n",
      "bald-black-african-balding-boutique-wallpaper-preview.jpg: 224x224 pixels\n",
      "man-outline-person-people-white-boy-old-asian-portrait-human-professional-black-close-smile-face-men-gentleman-faces-indian-persons-forehead-front-view-jaw-chin-1413323.jpg: 224x224 pixels\n",
      "portrait-people-adult-man.jpg: 224x224 pixels\n",
      "people-woman-beautiful-portrait.jpg: 224x224 pixels\n",
      "portrait-man-human-person-face-adult.jpg: 224x224 pixels\n",
      "face-eye-person-blue-eye(3).jpg: 224x224 pixels\n",
      "2018-11-18-20-35-06.jpg: 224x224 pixels\n",
      "portrait-photography-of-sunlight-reflecting-on-man-s-face.jpg: 224x224 pixels\n",
      "smile-face-man-male-young-happy-portrait-person-6153297.jpg: 224x224 pixels\n",
      "180430-f-pq209-0090.jpg: 224x224 pixels\n",
      "2020-08-25-11-07-31.jpg: 224x224 pixels\n",
      "484px-portrait_of_ante_trumbi_c4_87.jpg: 224x224 pixels\n",
      "women-face-portrait-emotions-preview.jpg: 224x224 pixels\n",
      "woman-holding-her-head-outdoor.jpg: 224x224 pixels\n",
      "534px-face_of_a_man_affected_with_tertiary_syphilis_wellcome_l0062301.jpg: 224x224 pixels\n",
      "242796-p-wyu60-892.jpg: 224x224 pixels\n",
      "2017-11-30-18-12-01-1200x674.jpg: 224x224 pixels\n",
      "220623-f-iv005-0008.jpg: 224x224 pixels\n",
      "man-model-smile-casual-male-sitting-person-face-fashion-thumbnail.jpg: 224x224 pixels\n",
      "429815-h-cdv96-810.jpg: 224x224 pixels\n",
      "person-man-human-face-portrait-male-male-person-2791743.jpg: 224x224 pixels\n",
      "2017-11-30-17-49-45.jpg: 224x224 pixels\n",
      "27424698840_f3c4492d18_b.jpg: 224x224 pixels\n",
      "man-person-professional-face-men-gentleman-neck-faces-indian-persons-forehead-chin-close-view-1413324.jpg: 224x224 pixels\n",
      "male-man-rugged-portrait-face-handsome-guy-white-6153298.jpg: 224x224 pixels\n",
      "14591050387_a8e04ecf0f_z.jpg: 224x224 pixels\n",
      "person-hair-male-chinese-profession-hairstyle-black-hair-face-one-head-business-people-1086504.jpg: 224x224 pixels\n",
      "1280px-face_in_water.jpg: 224x224 pixels\n",
      "makeup-person-female-young-lady-face-woman-model-6109638.jpg: 224x224 pixels\n",
      "210318-z-yy717-011.jpg: 224x224 pixels\n",
      "160829-f-gu448-001.jpg: 224x224 pixels\n",
      "160321-f-ot300-001.jpg: 224x224 pixels\n",
      "person-face-human-head.jpg: 224x224 pixels\n",
      "160325-f-dm566-023.jpg: 224x224 pixels\n",
      "man-person-people-portrait-professional-profession-smiling-senior-citizen-elder-face-happy-980074(2).jpg: 224x224 pixels\n",
      "fl45205374505-image-kucg0lx2.jpg: 224x224 pixels\n",
      "man-person-face-male-people-young-wallpaper-preview.jpg: 224x224 pixels\n",
      "man-male-person-black-beard-face-wallpaper-preview.jpg: 224x224 pixels\n",
      "face-emotion-neutral-publicdomain(3).jpg: 224x224 pixels\n",
      "happy-man-guy-young-portrait-male-face-person-7030900.jpg: 224x224 pixels\n",
      "man-standing-on-street-during-daytime.jpg: 224x224 pixels\n",
      "woman-female-portrait-coat.jpg: 224x224 pixels\n",
      "beautiful-attractive-woman-female-young-beauty.jpg: 224x224 pixels\n",
      "person-woman-makeup-model-female-face-caucasian-5468397.jpg: 224x224 pixels\n",
      "the-man-face-in-the-hands.jpg: 224x224 pixels\n",
      "face-man-model-mustache-beard-person-portrait-1845166.jpg: 224x224 pixels\n",
      "man-person-portrait-human-face-forehead-chin-facial-hair-1412284.jpg: 224x224 pixels\n",
      "man-in-suit-with-barack-obama-face.jpg: 224x224 pixels\n",
      "smiling-woman-leaning-on-purple-flower.jpg: 224x224 pixels\n",
      "31193237833_52084d65f3_b.jpg: 224x224 pixels\n",
      "ivan-medek.jpg: 224x224 pixels\n",
      "official_portrait_of_baroness_howe_of_idlicote_crop_2__28headshot_29(3).jpg: 224x224 pixels\n",
      "makeup-face-art-makeup-portrait-1639227276xwd.jpg: 224x224 pixels\n",
      "face-drawing-hand-drawn.jpg: 224x224 pixels\n",
      "man-smile-face-male-person-happy-young-portrait-guy.jpg: 224x224 pixels\n",
      "640px-portret_yolanda_prinsen.jpg: 224x224 pixels\n",
      "old-man-elder-portrait-wrinkles-face-person-351281.jpg: 224x224 pixels\n",
      "woman-face-smile-portrait-person-indian-look-755227.jpg: 224x224 pixels\n",
      "man-face-forehead-head-chin-cheek-human-neck-portrait-jaw-1603342.jpg: 224x224 pixels\n",
      "young_tiyar.jpg: 224x224 pixels\n",
      "louis_martinet_2c_portrait_in_album_de_portraits-cartes_de_visites__e2_80_93_gallica_btv1b8451516b__28cropped_2c_adjusted_29.jpg: 224x224 pixels\n",
      "man-teenager-face-male-expression-model-nature-pakistan-one-person.jpg: 224x224 pixels\n",
      "man-guy-young-face-male-portrait-person-beard-7041490.jpg: 224x224 pixels\n",
      "hat-face-child-human-girl-person-wallpaper-preview.jpg: 224x224 pixels\n",
      "girl-retro-face-beautiful-look-studio-portrait-monochrome-one-person.jpg: 224x224 pixels\n",
      "two-face-man-vision-face.jpg: 224x224 pixels\n",
      "man-face-evil-view-person-human-grim-portrait-close-up.jpg: 224x224 pixels\n",
      "2560px-st_vs_cab_-_14h08.13.jpg: 224x224 pixels\n",
      "face-eye-person-blue-eye(4).jpg: 224x224 pixels\n",
      "girl-kid-portrait-child-young-cute-person-face-indigenous-people-thumbnail.jpg: 224x224 pixels\n",
      "clothing-apparel-person-human.jpg: 224x224 pixels\n",
      "face-smiles-bebe-son-happy-child-smiling-man-1809602.jpg: 224x224 pixels\n",
      "160621-z-yg824-003.jpg: 224x224 pixels\n",
      "2018-11-01-23-36-55-1200x800.jpg: 224x224 pixels\n",
      "lemba_elder(2).jpg: 224x224 pixels\n",
      "2017-11-30-18-37-25.jpg: 224x224 pixels\n",
      "2560px-old_man_face.jpg: 224x224 pixels\n",
      "young-human-woman-portrait-beautiful-face-person-2604283.jpg: 224x224 pixels\n",
      "man-person-people-hair-photography-male-social-sadness-portrait-color-black-facial-expression-smile-beard-old-man-face-glasses-head-photograph-pain-emotion-facial-hair-1214564(3).jpg: 224x224 pixels\n",
      "kid-girl-portrait-cute-one-person-close-up-looking-at-camera-child-looking-thumbnail.jpg: 224x224 pixels\n",
      "man-person-face-old-wallpaper-preview.jpg: 224x224 pixels\n",
      "faceanatomy_bf30e510f1939b9b3cf2f82156c6fed7_2000-800x400.jpg: 224x224 pixels\n",
      "boy-young-people-teenager-youth-face-teen-head-cool-human-thumbnail.jpg: 224x224 pixels\n",
      "man-person-face-gentleman-preview.jpg: 224x224 pixels\n",
      "face-person-human-man.jpg: 224x224 pixels\n",
      "grey-face.jpg: 224x224 pixels\n",
      "2017-09-30-05-38-53.jpg: 224x224 pixels\n",
      "1024px-old_man_face.jpg: 224x224 pixels\n",
      "220916-m-oy081-1369.jpg: 224x224 pixels\n",
      "eyes-closed-face-female-red-hair-human-person-1285500.jpg: 224x224 pixels\n",
      "man-person-people-hair-photography-male-social-sadness-portrait-color-black-facial-expression-smile-beard-old-man-face-glasses-head-photograph-pain-emotion-facial-hair-1214564(2).jpg: 224x224 pixels\n",
      "woman-face-eyes-feeling.jpg: 224x224 pixels\n",
      "woman-young-model-lady-person-makeup-face-female-6109641.jpg: 224x224 pixels\n",
      "220614-f-bd538-1020.jpg: 224x224 pixels\n",
      "lemba_elder(3).jpg: 224x224 pixels\n",
      "man-person-portrait-color-human-face-art-festival-head-street-parade-color-spots-color-face-1068183.jpg: 224x224 pixels\n",
      "person-human-man-male-preview.jpg: 224x224 pixels\n",
      "1280px-_22i_didn_27t_want_to_spend_the_night_with_my_husband_22__2814727873773_29.jpg: 224x224 pixels\n",
      "2017-11-30-18-15-41.jpg: 224x224 pixels\n",
      "woman-s-face.jpg: 224x224 pixels\n",
      "person-human-female-girl-winter-cold-cap-face-blue-eye.jpg: 224x224 pixels\n",
      "face_pulling_2c_anuak__2810666953584_29.jpg: 224x224 pixels\n",
      "170802-f-cu844-001.jpg: 224x224 pixels\n",
      "portrait-man-face.jpg: 224x224 pixels\n",
      "faces-man-portrait-person-bhutan-travel-culture-traditional-asian.jpg: 224x224 pixels\n",
      "lancescottwalker_28photo-jennifercharles_29.jpg: 224x224 pixels\n",
      "portrait-young-person-face-people-adult-lifestyle-3244703.jpg: 224x224 pixels\n",
      "woman-face-portrait-pretty-preview.jpg: 224x224 pixels\n",
      "old-man-man-face-senior.jpg: 224x224 pixels\n",
      "old-man-smile-portrait-man-smiling-aged-senior-elderly-pose-thumbnail.jpg: 224x224 pixels\n",
      "079_people_girls-women-face-lady-hair-eyes-free-vector.jpg: 224x224 pixels\n",
      "accessories-glasses-accessory-person.jpg: 224x224 pixels\n",
      "220816-f-fc975-3001.jpg: 224x224 pixels\n",
      "180716-f-oe991-1047.jpg: 224x224 pixels\n",
      "man-portrait-face-eyes.jpg: 224x224 pixels\n",
      "180125-f-wq255-0500.jpg: 224x224 pixels\n",
      "mann-weint(1).jpg: 224x224 pixels\n",
      "face_detail_2c_blind_man_carrying_a_paralysed_man__28cropped_29.jpg: 224x224 pixels\n",
      "male-model-portrait-man-face-male-model-black-shirt-smile-smiling.jpg: 224x224 pixels\n",
      "woman-face-smile-smiling-one-person-adult-african-ethnicity-outdoors-women-thumbnail.jpg: 224x224 pixels\n",
      "official_portrait_of_baroness_howe_of_idlicote_crop_2__28headshot_29(2).jpg: 224x224 pixels\n",
      "man-model-face-men-beard-one-person-adult-males-caucasian-ethnicity.jpg: 224x224 pixels\n",
      "indian-tribal-man-in-traditional-dress-and-face-paint.jpg: 224x224 pixels\n",
      "_d0_94_d0_b6_d0_be_d1_88__d0_a1_d0_b5_d0_b3_d0_b0_d1_80_d1_80_d0_b0.jpg: 224x224 pixels\n",
      "average_of_two_faces_2.jpg: 224x224 pixels\n",
      "man-head-profile-face.jpg: 224x224 pixels\n",
      "14778756601_60976325c0_b.jpg: 224x224 pixels\n",
      "face-side-people-model-portrait-black-person-4096071.jpg: 224x224 pixels\n",
      "man-person-people-male-statue-portrait-senior-citizen-mannequin-face-sculpture-art-temple-head-photograph-skin-robot-android-manikin-grandparent-776077.jpg: 224x224 pixels\n",
      "human-man-portrait-face-self-portrait-person-1030587.jpg: 224x224 pixels\n",
      "o0qmkjftclrsb49dcd9p9d33ke.jpg: 224x224 pixels\n",
      "portrait-man-person-face-beard-eyes-royalty-free-thumbnail.jpg: 224x224 pixels\n",
      "man-face-portrait-men-one-person-adult-beard-males-looking-at-camera-thumbnail.jpg: 224x224 pixels\n",
      "man-face-1.jpg: 224x224 pixels\n",
      "160518-f-lx370-246a.jpg: 224x224 pixels\n",
      "men-face-man-europeans-portrait-human-person-2406544.jpg: 224x224 pixels\n",
      "face-emotion-neutral-publicdomain(2).jpg: 224x224 pixels\n",
      "man-person-people-portrait-professional-profession-smiling-senior-citizen-elder-face-happy-980074(3).jpg: 224x224 pixels\n",
      "2560px-my_favourite_faces__281_29__28imagicity_640_29.jpg: 224x224 pixels\n",
      "human-person-man-face.jpg: 224x224 pixels\n",
      "man-nature-person-people-male-portrait-human-close-smile-senior-citizen-face-head-out-grandparent-facial-hair-720070.jpg: 224x224 pixels\n",
      "2019-01-13-09-45-18.jpg: 224x224 pixels\n",
      "170411-f-ca297-006.jpg: 224x224 pixels\n",
      "people-elderly-face-old-people.jpg: 224x224 pixels\n",
      "640px-man_pulling_face_at_camera__288455760157_29.jpg: 224x224 pixels\n",
      "1280px-my_favourite_faces__282_29__28imagicity_640_29.jpg: 224x224 pixels\n",
      "woman-wearing-grey-turtle-neck-sweater.jpg: 224x224 pixels\n",
      "man-black-man-spring-smile.jpg: 224x224 pixels\n",
      "face-man-guy-headshot-preview.jpg: 224x224 pixels\n",
      "human-girl-in-thoughts-dreamy-person-face-child-834124.jpg: 224x224 pixels\n",
      "person-face-man-close-up-human-portrait-783701.jpg: 224x224 pixels\n",
      "face__e2_80_93_alexander.jpg: 224x224 pixels\n",
      "head_of_a_man_with_a_severe_disease_affecting_his_face._draw_wellcome_v0009876(4).jpg: 224x224 pixels\n",
      "372px-relation_of_the_human_face_to_that_of_the_eagle_wellcome_l0010064.jpg: 224x224 pixels\n",
      "adults-face-portrait-man-male-human-bart-person-5021469.jpg: 224x224 pixels\n",
      "140811-f-wu480-022.jpg: 224x224 pixels\n",
      "47181586751_165f80449b_b.jpg: 224x224 pixels\n",
      "eyes-person-face-girl-ernst-human-view-female-850798.jpg: 224x224 pixels\n",
      "face-man-model-person.jpg: 224x224 pixels\n",
      "2014_yip_email_graphic_2.jpg: 224x224 pixels\n",
      "4113982639_a84b25a799_b.jpg: 224x224 pixels\n",
      "face-woman-think-person-human-female-model-young-5545760.jpg: 224x224 pixels\n",
      "man-in-green-top.jpg: 224x224 pixels\n",
      "face-emotion-neutral-publicdomain(1).jpg: 224x224 pixels\n",
      "2017-09-09-07-02-49.jpg: 224x224 pixels\n",
      "face-in-the-shadow-1368459648hvv.jpg: 224x224 pixels\n",
      "man-person-people-woman-hair-old-male-portrait-color-blue-facial-expression-hairstyle-smile-thailand-senior-citizen-face-head-grandparent-facial-hair-theyneed-face-990445.jpg: 224x224 pixels\n",
      "151113-m-rh401-013.jpg: 224x224 pixels\n",
      "2021-03-31-09-28-55.jpg: 224x224 pixels\n",
      "blue-red-face-head-chin-forehead-human-electric-blue-portrait-illustration-neck-ear-photography-art-colorfulness-flesh-1548587.jpg: 224x224 pixels\n",
      "close-up-portrait-girl-human-smile-person-face-821764.jpg: 224x224 pixels\n",
      "170106-f-bm386-008.jpg: 224x224 pixels\n",
      "person-human-child-girl.jpg: 224x224 pixels\n",
      "1280px-face_portrait__28unsplash_29.jpg: 224x224 pixels\n",
      "man-person-portrait-professional-profession-hairstyle-face-glasses-head-eyewear-portrait-photography-vision-care-passport-photograph-1238378.jpg: 224x224 pixels\n",
      "man-face-human-portrait.jpg: 224x224 pixels\n",
      "man-person-male-profession-face-nose-head-expression-speech-shock-surprise-facial-scared-surprised-shocked-astonished-1007036.jpg: 224x224 pixels\n",
      "10511762405_df957a48d4_b.jpg: 224x224 pixels\n",
      "ronald_hirl_c3_a9_2c_auteur.jpg: 224x224 pixels\n",
      "boy-face-man-person-portrait-headshot-looking-at-camera-front-view-one-person-focus-on-foreground.jpg: 224x224 pixels\n",
      "face-facial-hair-hair-man-beard-person-chin-elder-moustache-gentleman-portrait-human-1453083.jpg: 224x224 pixels\n",
      "portrait-photography-of-woman.jpg: 224x224 pixels\n",
      "man-face-human-portrait-preview.jpg: 224x224 pixels\n",
      "child-face-cute-portrait-kid-person-girl-young-5857418.jpg: 224x224 pixels\n",
      "211116-m-ts451-1087.jpg: 224x224 pixels\n",
      "man-person-people-hair-photography-male-social-sadness-portrait-color-black-facial-expression-smile-beard-old-man-face-glasses-head-photograph-pain-emotion-facial-hair-1214564(1).jpg: 224x224 pixels\n",
      "woman-female-old-elderly.jpg: 224x224 pixels\n",
      "face_of_person.jpg: 224x224 pixels\n",
      "man-s-face.jpg: 224x224 pixels\n",
      "man-portrait-guy-face-male-person-young-7041488.jpg: 224x224 pixels\n",
      "151104-m-vz995-001.jpg: 224x224 pixels\n",
      "beautiful-face-female-girl-glamour-headscarf-hijab-hood-model-person.jpg: 224x224 pixels\n",
      "man-hair-wet-male-portrait-model-hairstyle-beard-muscle-close-up-face-nose-eye-head-skin-forehead-chin-barechestedness-chest-hair-facial-hair-buzz-cut-17667.jpg: 224x224 pixels\n",
      "man-person-black-and-white-photography-old-male-portrait-monochrome-senior-citizen-close-up-elder-face-sculpture-head-grandparent-wrinkles-monochrome-photography-1102612.jpg: 224x224 pixels\n",
      "casual-male-face-portrait-person-cool-man-young-6228711.jpg: 224x224 pixels\n",
      "child-view-blond-sad-face-girl-wallpaper-preview.jpg: 224x224 pixels\n",
      "face-man-male-person-portrait-guy-young-youth-6228716.jpg: 224x224 pixels\n",
      "people-old-elderly-man-preview.jpg: 224x224 pixels\n",
      "sand-people-old-woman-face-chin-close-up-wrinkle-eye-senior-citizen-human-smile-headgear-temple-forehead-elder-portrait-1419783.jpg: 224x224 pixels\n",
      "variety_of_male_human_faces__28collage_29.jpg: 224x224 pixels\n",
      "human-old-portrait-profile.jpg: 224x224 pixels\n",
      "black_bearded_man_smiling_2c_2442565.jpg: 224x224 pixels\n",
      "mann-weint(2).jpg: 224x224 pixels\n",
      "my-face-1488055515crq.jpg: 224x224 pixels\n",
      "220516-m-my519-1175.jpg: 224x224 pixels\n",
      "official_portrait_of_baroness_howe_of_idlicote_crop_2__28headshot_29(1).jpg: 224x224 pixels\n",
      "official_portrait_of_baroness_howe_of_idlicote_crop_2__28headshot_29.jpg: 224x224 pixels\n",
      "5198470559_bdf2b10bd5_b.jpg: 224x224 pixels\n",
      "beauty-woman-portrait-fashion-human-face-girl-4868954.jpg: 224x224 pixels\n",
      "lady-woman-china-people-portrait-person-face-5314748.jpg: 224x224 pixels\n",
      "avi-img_3372.jpg: 224x224 pixels\n",
      "person-people-male-portrait-child-facial-expression-smile-conversation-face-eye-head-skin-flatclass2013-435683.jpg: 224x224 pixels\n",
      "man-person-photography-portrait-color-tie-human-profession-face-men-gentleman-look-lawyer-stress-coaching-ernst-staff-aschaffenburg-attorney-facial-hair-870953.jpg: 224x224 pixels\n",
      "person-human-face-head.jpg: 224x224 pixels\n",
      "809px-relation_of_the_human_face_to_the_rabbit_2c_17th_c_wellcome_l0038340.jpg: 224x224 pixels\n",
      "mann-weint(3).jpg: 224x224 pixels\n",
      "403px-average_of_two_faces_2.jpg: 224x224 pixels\n",
      "guy-young-person-face-beauty-portrait.jpg: 224x224 pixels\n",
      "adult-beauty-blur-casual.jpg: 224x224 pixels\n",
      "pdfemalenudebatch3-104-gloy_2.jpg: 224x224 pixels\n",
      "2017-04-10-17-53-38.jpg: 224x224 pixels\n",
      "14005719612409.jpg: 224x224 pixels\n",
      "mannequin-women-portrait-beautiful-human-face-4531859.jpg: 224x224 pixels\n",
      "male-face-1446489418idt.jpg: 224x224 pixels\n",
      "man-person-people-hair-male-facial-expression-hairstyle-smile-face-nose-head-abdomen-facial-hair-127275.jpg: 224x224 pixels\n",
      "man-nature-person-people-view-male-portrait-human-close-facial-expression-smile-senior-citizen-close-up-face-nose-eye-head-out-portrait-photography-874104.jpg: 224x224 pixels\n",
      "160503-m-fz867-271.jpg: 224x224 pixels\n",
      "horse-eats-hat-21-welles.jpg: 224x224 pixels\n",
      "2017-11-30-18-29-29.jpg: 224x224 pixels\n",
      "160226-f-dl164-023.jpg: 224x224 pixels\n",
      "49927053993_59be8e8292_b.jpg: 224x224 pixels\n",
      "lemba_elder(1).jpg: 224x224 pixels\n",
      "2017-09-30-05-42-00-1100x733.jpg: 224x224 pixels\n",
      "2560px-participants_at_a_wikipedia_training_for_persons_with_hearing_impairment_in_winneba_2c_ghana._42.jpg: 224x224 pixels\n",
      "color-paint-portrait-person-blue-face-painting-boy-man.jpg: 224x224 pixels\n",
      "male-man-male-person-person-portrait-human-face-2785071.jpg: 224x224 pixels\n",
      "1575px-allie_mae_burroughs_print.jpg: 224x224 pixels\n",
      "15396-a-healthy-young-man-lifting-weights-in-a-gym-pv.jpg: 224x224 pixels\n",
      "5976439922_6ae2ca0e7b_z.jpg: 224x224 pixels\n",
      "young-man-person-thoughtful-face.jpg: 224x224 pixels\n",
      "man-face-1475696793zo8.jpg: 224x224 pixels\n",
      "man-stylish-fashion-view.jpg: 224x224 pixels\n",
      "face__e2_80_93_juno.jpg: 224x224 pixels\n",
      "151028-n-ae587-165.jpg: 224x224 pixels\n",
      "man-with-painted-face.jpg: 224x224 pixels\n",
      "boys-people-pure-face-thumbnail.jpg: 224x224 pixels\n",
      "human-face-man-person.jpg: 224x224 pixels\n",
      "andrewgordongovernor1(4).jpg: 224x224 pixels\n",
      "baby_face.jpg: 224x224 pixels\n",
      "old-man-face-portrait.jpg: 224x224 pixels\n",
      "cigarette-man-face-young-man-portrait-2179358.jpg: 224x224 pixels\n",
      "2017-09-30-05-41-29.jpg: 224x224 pixels\n",
      "face-of-the-man-1329906263qid.jpg: 224x224 pixels\n",
      "man-face-1445984963iux.jpg: 224x224 pixels\n",
      "face-of-the-man.jpg: 224x224 pixels\n",
      "mens-the-person-face-1389833.jpg: 224x224 pixels\n",
      "685px-turkish-german_man.jpg: 224x224 pixels\n",
      "2017-09-09-06-56-52-550x825.jpg: 224x224 pixels\n",
      "3833724834_617f7a0878_b.jpg: 224x224 pixels\n",
      "1446px-portrait_of_a_smiling_girl_with_wet_face_at_golden_hour_in_laos.jpg: 224x224 pixels\n",
      "man-hair-face-white-male-facial-hair-chin-forehead-moustache-beard-cool-photo-shoot-model-gentleman-photography-muscle-smile-actor-neck-formal-wear-black-hair-1446989.jpg: 224x224 pixels\n",
      "beauty-woman-portrait-girl-face-female-young-person-attractive.jpg: 224x224 pixels\n",
      "842px-inuit_women_1907.jpg: 224x224 pixels\n",
      "man-person-people-portrait-professional-profession-smiling-senior-citizen-elder-face-happy-980074(1).jpg: 224x224 pixels\n",
      "stafford_jd_angles.jpg: 224x224 pixels\n",
      "portrait-woman-beautiful-young-human-person-face-girl-beauty.jpg: 224x224 pixels\n",
      "51372865702_e64a825125_b(4).jpg: 224x224 pixels\n",
      "786px-robert_philp_portrait.jpg: 224x224 pixels\n",
      "2021-01-19-06-48-02.jpg: 224x224 pixels\n",
      "beauty-woman-portrait-face-female-young-attractive-girl-model-thumbnail.jpg: 224x224 pixels\n",
      "girl-smile-happy-blond-hand-child-wallpaper-preview.jpg: 224x224 pixels\n",
      "face-the-person-men-s-preview.jpg: 224x224 pixels\n",
      "beard-long-hair-portrait-guy-man-face-male-6490356.jpg: 224x224 pixels\n",
      "150428-f-hk496-009.jpg: 224x224 pixels\n",
      "craig.jpg: 224x224 pixels\n",
      "2021-10-21-09-16-34.jpg: 224x224 pixels\n",
      "attractive-eyes-face-fashion-preview.jpg: 224x224 pixels\n",
      "infant_making_a_face.jpg: 224x224 pixels\n",
      "child-boy-portrait-kid-face-hat-wallpaper-preview.jpg: 224x224 pixels\n",
      "view-child-human-girl-face-person-wallpaper-preview.jpg: 224x224 pixels\n",
      "face-portrait-man-male-head-old-wallpaper-preview.jpg: 224x224 pixels\n",
      "200410-f-ru983-1045.jpg: 224x224 pixels\n",
      "green-man-14757051613zm.jpg: 224x224 pixels\n",
      "2609437731_7a038d618e_b.jpg: 224x224 pixels\n",
      "gollum-lord-of-the-rings-action-figure-toy-men-human-face-close-up-one-person-facial-expression.jpg: 224x224 pixels\n",
      "close-up-face-full-beard-male-preview.jpg: 224x224 pixels\n",
      "person-face-girl-human-eyes-closed-child-feel-1263323.jpg: 224x224 pixels\n",
      "girl-face-women-person-woman-portrait-female-6309466.jpg: 224x224 pixels\n",
      "adult-handsome-man-male-guy-face-portrait-person-6228705.jpg: 224x224 pixels\n",
      "3255868782_89f713b464_b.jpg: 224x224 pixels\n",
      "facial-expression-human-man-face-portrait-person-1080994.jpg: 224x224 pixels\n",
      "overlay.jpg: 224x224 pixels\n",
      "898px-face_measurements_lombroso_27s_method.jpg: 224x224 pixels\n",
      "person-human-face-darya-kenar.jpg: 224x224 pixels\n",
      "480px-bearded_man_with_long_hair-3052641.jpg: 224x224 pixels\n",
      "130216-f-es880-146.jpg: 224x224 pixels\n",
      "human-person-face-accessory.jpg: 224x224 pixels\n",
      "32548740487_1d3f3b147c_b.jpg: 224x224 pixels\n",
      "blank-trans-masc-enby-face.jpg: 224x224 pixels\n",
      "2017-09-08-11-03-22-550x825.jpg: 224x224 pixels\n",
      "17127778193_4f0622bee5_b.jpg: 224x224 pixels\n",
      "1795px-face_measurements_lombroso_27s_method.jpg: 224x224 pixels\n",
      "portrait-person-adult-old-male-face-man-people-6043230.jpg: 224x224 pixels\n",
      "face-white-people-head-facial-hair-beard-yellow-chin-human-eye-moustache-wrinkle-glasses-smile-elder-photography-grandparent-portrait-1530939.jpg: 224x224 pixels\n",
      "portrait_of_a_young_man_met_bronzino_detail_of_face.jpg: 224x224 pixels\n",
      "portrait-smile-person-adult-man-face-male-5552541.jpg: 224x224 pixels\n",
      "front-view-face-close-man-men-indian-asian-person-gentleman.jpg: 224x224 pixels\n",
      "idjyzrhapusinjxqef8dbqmeookvykdz.jpg: 224x224 pixels\n",
      "young-woman-beauty-girl-person-face-makeup-6099667.jpg: 224x224 pixels\n",
      "face-man-portrait-human-preview.jpg: 224x224 pixels\n",
      "576px-face_of_spoospa.jpg: 224x224 pixels\n",
      "14759182146_6b65d1f08b_b.jpg: 224x224 pixels\n",
      "lemba_elder.jpg: 224x224 pixels\n",
      "1280px-my_favourite_faces__281_29__28imagicity_640_29.jpg: 224x224 pixels\n",
      "man-person-people-hair-photography-male-social-sadness-portrait-color-black-facial-expression-smile-beard-old-man-face-glasses-head-photograph-pain-emotion-facial-hair-1214564.jpg: 224x224 pixels\n",
      "face-eye-person-blue-eye.jpg: 224x224 pixels\n",
      "man-person-people-portrait-professional-profession-smiling-senior-citizen-elder-face-happy-980074.jpg: 224x224 pixels\n",
      "51372865702_e64a825125_b.jpg: 224x224 pixels\n",
      "51372865702_e64a825125_b(3).jpg: 224x224 pixels\n",
      "head_of_a_man_with_a_severe_disease_affecting_his_face._draw_wellcome_v0009876.jpg: 224x224 pixels\n",
      "andrewgordongovernor1.jpg: 224x224 pixels\n",
      "face-emotion-neutral-publicdomain.jpg: 224x224 pixels\n",
      "576px-albert_einstein_head.jpg: 224x224 pixels\n",
      "mann-weint.jpg: 224x224 pixels\n",
      "412px-sandrabullockmay09.jpg: 224x224 pixels\n",
      "lamar_johnson__28face_29_at_the_2018_cfc_annual_bbq_fundraiser__2829661973467_29__28cropped_29.jpg: 224x224 pixels\n",
      "man-person-human-face.jpg: 224x224 pixels\n",
      "1973636251_f3d8ab4ba5_b.jpg: 224x224 pixels\n",
      "436px-_e5_bc_b5_e9_81_94_e6_98_8e.jpg: 224x224 pixels\n",
      "mundari_warrior_-_50375125752.jpg: 224x224 pixels\n",
      "children-portrait-child-human-person-face.jpg: 224x224 pixels\n",
      "ben_knapen_2012__28cropped_29.jpg: 224x224 pixels\n",
      "man-young-man-portrait-boy-model-face-6404478.jpg: 224x224 pixels\n",
      "head_of_a_man_with_a_severe_disease_affecting_his_face._draw_wellcome_v0009876(1).jpg: 224x224 pixels\n",
      "man-and-shadow.jpg: 224x224 pixels\n",
      "andrewgordongovernor1(3).jpg: 224x224 pixels\n",
      "child-people-portrait-petit.jpg: 224x224 pixels\n",
      "andrewgordongovernor1(2).jpg: 224x224 pixels\n",
      "2018-06-07-19-24-29.jpg: 224x224 pixels\n",
      "4449919027_d828110377_b.jpg: 224x224 pixels\n",
      "face-of-the-man-1359456113tm0.jpg: 224x224 pixels\n",
      "2020-10-06-10-06-42.jpg: 224x224 pixels\n",
      "160913-f-xo910-009.jpg: 224x224 pixels\n",
      "afghanistan-man-face-close-up.jpg: 224x224 pixels\n",
      "person-human-man-male-face-view-portrait-close-up.jpg: 224x224 pixels\n",
      "man-person-people-hair-old-male-portrait-hat-hairstyle-beard-close-up-face-happy-head-aged-wrinkles-facial-hair-986394.jpg: 224x224 pixels\n",
      "girl-human-face-person-view-blond-wallpaper-preview.jpg: 224x224 pixels\n",
      "man-hood-person-dark.jpg: 224x224 pixels\n",
      "2017-09-09-06-59-00-1100x733.jpg: 224x224 pixels\n",
      "person-face-african-happy-child-girl-young-hand-5445473.jpg: 224x224 pixels\n",
      "52063681563_b96f6e2d6e_b.jpg: 224x224 pixels\n",
      "woman-portrait-indian.jpg: 224x224 pixels\n",
      "girl-face-hair-blonde-caucasian-blonde-hair-portrait-monochrome-black-and-white-thumbnail.jpg: 224x224 pixels\n",
      "man-hoodie-beard-fashion-hipster-face-smile-guy-handsome-thumbnail.jpg: 224x224 pixels\n",
      "child-girl-blond-face-preview.jpg: 224x224 pixels\n",
      "man-male-black-guy-facial-portrait-face-model-7003421.jpg: 224x224 pixels\n",
      "k_l_vinay.jpg: 224x224 pixels\n",
      "160404-f-xi929-001.jpg: 224x224 pixels\n",
      "man_pulling_face_at_camera__288455760157_29.jpg: 224x224 pixels\n",
      "51372865702_e64a825125_b(2).jpg: 224x224 pixels\n",
      "201216-f-ea289-002.jpg: 224x224 pixels\n",
      "man-person-people-woman-male-portrait-facial-expression-hairstyle-smile-senior-citizen-face-temple-head-china-facial-hair-1281163.jpg: 224x224 pixels\n",
      "angelica-ramona-ntir-office.jpg: 224x224 pixels\n",
      "man-with-green-face.jpg: 224x224 pixels\n",
      "man-person-portrait-face-preview.jpg: 224x224 pixels\n",
      "neil_armstrong_23_may_1952.jpg: 224x224 pixels\n",
      "beautiful-boy-face-person-nose-head-male-eye-forehead-human-cheek-portrait-1437321.jpg: 224x224 pixels\n",
      "young-man-in-a-corporate-suit-face-portrait.jpg: 224x224 pixels\n",
      "beautiful-woman-face-art-face-paint-happy-headscarf-portrait-pretty-smile-woman-headshot-thumbnail.jpg: 224x224 pixels\n",
      "face_portrait__28unsplash_29.jpg: 224x224 pixels\n",
      "a_chinese_man_with_a_tumour_on_the_right_side_of_his_face_wellcome_l0038315.jpg: 224x224 pixels\n",
      "human-male-nature-out-man-person-face-view-829966.jpg: 224x224 pixels\n",
      "295511-s-rrl32-948.jpg: 224x224 pixels\n",
      "beauty-woman-beautiful-face-person-hair-portrait-3985500.jpg: 224x224 pixels\n",
      "150716-a-zz999-015.jpg: 224x224 pixels\n",
      "2048px-variety_of_male_human_faces__28collage_29.jpg: 224x224 pixels\n",
      "portrait-human-face-eyes-preview.jpg: 224x224 pixels\n",
      "face-dark-mouth-men-s-preview.jpg: 224x224 pixels\n",
      "man-from-east-timor-face-close-up.jpg: 224x224 pixels\n",
      "170421-f-xx001-003.jpg: 224x224 pixels\n",
      "miniature_human_face_models_made_through_3d_printing__28rapid_prototyping_29.jpg: 224x224 pixels\n",
      "2017-05-31-18-47-04.jpg: 224x224 pixels\n",
      "human-girl-portrait-paint-fiction-make-up-face-5225983.jpg: 224x224 pixels\n",
      "boy-surprised-happy-childhood-preview.jpg: 224x224 pixels\n",
      "dangerous-man.jpg: 224x224 pixels\n",
      "portrait-human-male-head-person-man-model-face-5115892.jpg: 224x224 pixels\n",
      "721px-diagrams_illustrating_cross-sections_through_the_human_face_wellcome_v0016838el.jpg: 224x224 pixels\n",
      "asian-man-face-363x544.jpg: 224x224 pixels\n",
      "42997704360_c62689887a_z.jpg: 224x224 pixels\n",
      "face-girl-pretty-person-smiling-woman-happy-2111504.jpg: 224x224 pixels\n",
      "man-person-people-male-portrait-profession-senior-citizen-nepal-face-temple-head-senior-grandparent-717343.jpg: 224x224 pixels\n",
      "niger_innis_by_gage_skidmore.jpg: 224x224 pixels\n",
      "size1.jpg: 224x224 pixels\n",
      "23600881349_2998eae0bc_b.jpg: 224x224 pixels\n",
      "180208-f-gr674-002.jpg: 224x224 pixels\n",
      "person-face-her-portrait-people-eyes-freckles-4117652.jpg: 224x224 pixels\n",
      "face-eye-person-blue-eye(1).jpg: 224x224 pixels\n",
      "person-man-face-pose-guy-portrait-smile-happy-6225674.jpg: 224x224 pixels\n",
      "2018-06-23-21-44-53.jpg: 224x224 pixels\n",
      "male-model-face-portrait-young-smile-side-person-attractive.jpg: 224x224 pixels\n",
      "male-face-1446489499yct.jpg: 224x224 pixels\n",
      "682px-millosh-img_4262.jpg: 224x224 pixels\n",
      "man-face-wet-male-preview.jpg: 224x224 pixels\n",
      "2017-12-10-18-51-37.jpg: 224x224 pixels\n",
      "female-human-face-person-cap-girl-winter-cold-1289310.jpg: 224x224 pixels\n",
      "person-human-female-girl-face-wallpaper-preview.jpg: 224x224 pixels\n",
      "old-man-face-3.jpg: 224x224 pixels\n",
      "2017-05-31-18-54-45.jpg: 224x224 pixels\n",
      "Images have been resized and saved successfully.\n"
     ]
    }
   ],
   "source": [
    "output_folder1 = '/Users/taruni/Desktop/HEY/project_ml using cnn/train_resized/resized_masked'\n",
    "output_folder2 = '/Users/taruni/Desktop/HEY/project_ml using cnn/train_resized/resized_unmasked'\n",
    "\n",
    "def resize_images_from_folder(input_folder, output_folder, size=(224, 224)):\n",
    "    for filename in os.listdir(input_folder):\n",
    "        if filename.endswith(\".jpg\"):\n",
    "            img_path = os.path.join(input_folder, filename)\n",
    "            img = Image.open(img_path)\n",
    "            resized_img = img.resize(size)  # Resize image\n",
    "            output_path = os.path.join(output_folder, filename)\n",
    "            resized_img.save(output_path)  # Save resized image\n",
    "\n",
    "            # Check the shape (size) of the resized image\n",
    "            width, height = resized_img.size\n",
    "            print(f\"{filename}: {width}x{height} pixels\")\n",
    "\n",
    "# Resize images in both folders\n",
    "resize_images_from_folder(folder1, output_folder1)\n",
    "resize_images_from_folder(folder2, output_folder2)\n",
    "\n",
    "print(\"Images have been resized and saved successfully.\")"
   ]
  },
  {
   "cell_type": "code",
   "execution_count": 13,
   "metadata": {},
   "outputs": [],
   "source": [
    "categories = ['masked','unmasked']"
   ]
  },
  {
   "cell_type": "code",
   "execution_count": 14,
   "metadata": {},
   "outputs": [
    {
     "name": "stdout",
     "output_type": "stream",
     "text": [
      "Images have been loaded, resized, labeled, and stored successfully.\n"
     ]
    }
   ],
   "source": [
    "# Create a list to store the image data and labels\n",
    "data = []\n",
    "\n",
    "# Function to load, resize images, and label them\n",
    "def load_and_label_images_from_folder(folder, label):\n",
    "    for filename in os.listdir(folder):\n",
    "        if filename.endswith(\".jpg\"):\n",
    "            img_path = os.path.join(folder, filename)\n",
    "            img = Image.open(img_path)\n",
    "            img = img.resize((224, 224))  # Resize image to 224x224 pixels\n",
    "            data.append([img, label])     # Append the image and its label to the data list\n",
    "\n",
    "# Load images from both folders with labels\n",
    "load_and_label_images_from_folder(folder1, label=0)  # Label 0 for 'masked'\n",
    "load_and_label_images_from_folder(folder2, label=1)  # Label 1 for 'unmasked'\n",
    "\n",
    "print(\"Images have been loaded, resized, labeled, and stored successfully.\")"
   ]
  },
  {
   "cell_type": "code",
   "execution_count": 15,
   "metadata": {},
   "outputs": [
    {
     "name": "stdout",
     "output_type": "stream",
     "text": [
      "[[<PIL.Image.Image image mode=RGB size=224x224 at 0x136038CE0>, 0], [<PIL.Image.Image image mode=RGB size=224x224 at 0x13BD49D30>, 0], [<PIL.Image.Image image mode=RGB size=224x224 at 0x13BEEE300>, 0], [<PIL.Image.Image image mode=RGB size=224x224 at 0x13BEEE360>, 0], [<PIL.Image.Image image mode=RGB size=224x224 at 0x145381F10>, 0], [<PIL.Image.Image image mode=RGB size=224x224 at 0x107C5ECC0>, 0], [<PIL.Image.Image image mode=RGB size=224x224 at 0x107C5D7C0>, 0], [<PIL.Image.Image image mode=RGB size=224x224 at 0x1453B4AD0>, 0], [<PIL.Image.Image image mode=RGB size=224x224 at 0x1453B4980>, 0], [<PIL.Image.Image image mode=RGB size=224x224 at 0x1453B5370>, 0], [<PIL.Image.Image image mode=RGB size=224x224 at 0x1453B4650>, 0], [<PIL.Image.Image image mode=RGB size=224x224 at 0x1453B4800>, 0], [<PIL.Image.Image image mode=RGB size=224x224 at 0x1453B5100>, 0], [<PIL.Image.Image image mode=RGB size=224x224 at 0x1453B4B00>, 0], [<PIL.Image.Image image mode=RGB size=224x224 at 0x1453B48C0>, 0], [<PIL.Image.Image image mode=RGB size=224x224 at 0x1453B4AA0>, 0], [<PIL.Image.Image image mode=RGB size=224x224 at 0x1453B4710>, 0], [<PIL.Image.Image image mode=RGB size=224x224 at 0x1453B4A10>, 0], [<PIL.Image.Image image mode=RGB size=224x224 at 0x1453B4B30>, 0], [<PIL.Image.Image image mode=RGB size=224x224 at 0x1453B4BF0>, 0], [<PIL.Image.Image image mode=RGB size=224x224 at 0x1453B4C80>, 0], [<PIL.Image.Image image mode=RGB size=224x224 at 0x1453B4CB0>, 0], [<PIL.Image.Image image mode=RGB size=224x224 at 0x1453B4CE0>, 0], [<PIL.Image.Image image mode=RGB size=224x224 at 0x1453B4D70>, 0], [<PIL.Image.Image image mode=RGB size=224x224 at 0x1453B4DD0>, 0], [<PIL.Image.Image image mode=RGB size=224x224 at 0x1453B4E30>, 0], [<PIL.Image.Image image mode=RGB size=224x224 at 0x1453B4E90>, 0], [<PIL.Image.Image image mode=RGB size=224x224 at 0x1453B4FB0>, 0], [<PIL.Image.Image image mode=RGB size=224x224 at 0x1453B4F20>, 0], [<PIL.Image.Image image mode=RGB size=224x224 at 0x1453B4F50>, 0], [<PIL.Image.Image image mode=RGB size=224x224 at 0x1453B5040>, 0], [<PIL.Image.Image image mode=RGB size=224x224 at 0x1453B50D0>, 0], [<PIL.Image.Image image mode=RGB size=224x224 at 0x1453B5250>, 0], [<PIL.Image.Image image mode=RGB size=224x224 at 0x1453B52B0>, 0], [<PIL.Image.Image image mode=RGB size=224x224 at 0x1453B5340>, 0], [<PIL.Image.Image image mode=RGB size=224x224 at 0x1453B5430>, 0], [<PIL.Image.Image image mode=RGB size=224x224 at 0x1453B5490>, 0], [<PIL.Image.Image image mode=RGB size=224x224 at 0x1453B54F0>, 0], [<PIL.Image.Image image mode=RGB size=224x224 at 0x1453B5550>, 0], [<PIL.Image.Image image mode=RGB size=224x224 at 0x1453B55B0>, 0], [<PIL.Image.Image image mode=RGB size=224x224 at 0x1453B5610>, 0], [<PIL.Image.Image image mode=RGB size=224x224 at 0x1453B5670>, 0], [<PIL.Image.Image image mode=RGB size=224x224 at 0x1453B56D0>, 0], [<PIL.Image.Image image mode=RGB size=224x224 at 0x1453B5730>, 0], [<PIL.Image.Image image mode=RGB size=224x224 at 0x1453B5790>, 0], [<PIL.Image.Image image mode=RGB size=224x224 at 0x1453B57F0>, 0], [<PIL.Image.Image image mode=RGB size=224x224 at 0x1453B5850>, 0], [<PIL.Image.Image image mode=RGB size=224x224 at 0x145382210>, 0], [<PIL.Image.Image image mode=RGB size=224x224 at 0x1453B5910>, 0], [<PIL.Image.Image image mode=RGB size=224x224 at 0x145382150>, 0], [<PIL.Image.Image image mode=RGB size=224x224 at 0x1453B5AF0>, 0], [<PIL.Image.Image image mode=RGB size=224x224 at 0x1453B5BB0>, 0], [<PIL.Image.Image image mode=RGB size=224x224 at 0x1453B4950>, 0], [<PIL.Image.Image image mode=RGB size=224x224 at 0x1453B5C70>, 0], [<PIL.Image.Image image mode=RGB size=224x224 at 0x1453B5A30>, 0], [<PIL.Image.Image image mode=RGB size=224x224 at 0x1453B5CA0>, 0], [<PIL.Image.Image image mode=RGB size=224x224 at 0x145382090>, 0], [<PIL.Image.Image image mode=RGB size=224x224 at 0x1453B5970>, 0], [<PIL.Image.Image image mode=RGB size=224x224 at 0x1453B5E50>, 0], [<PIL.Image.Image image mode=RGB size=224x224 at 0x1453B5DF0>, 0], [<PIL.Image.Image image mode=RGB size=224x224 at 0x1453B5EE0>, 0], [<PIL.Image.Image image mode=RGB size=224x224 at 0x1453B5D90>, 0], [<PIL.Image.Image image mode=RGB size=224x224 at 0x1453B5F10>, 0], [<PIL.Image.Image image mode=RGB size=224x224 at 0x1453B5D30>, 0], [<PIL.Image.Image image mode=RGB size=224x224 at 0x1453B5BE0>, 0], [<PIL.Image.Image image mode=RGB size=224x224 at 0x1453B5EB0>, 0], [<PIL.Image.Image image mode=RGB size=224x224 at 0x1453B5A90>, 0], [<PIL.Image.Image image mode=RGB size=224x224 at 0x1453B5FA0>, 0], [<PIL.Image.Image image mode=RGB size=224x224 at 0x1453B6000>, 0], [<PIL.Image.Image image mode=RGB size=224x224 at 0x1453B6060>, 0], [<PIL.Image.Image image mode=RGB size=224x224 at 0x1453B60C0>, 0], [<PIL.Image.Image image mode=RGB size=224x224 at 0x1453B6120>, 0], [<PIL.Image.Image image mode=RGB size=224x224 at 0x1453B6180>, 0], [<PIL.Image.Image image mode=RGB size=224x224 at 0x1453B61E0>, 0], [<PIL.Image.Image image mode=RGB size=224x224 at 0x1453B6240>, 0], [<PIL.Image.Image image mode=RGB size=224x224 at 0x1453B62A0>, 0], [<PIL.Image.Image image mode=RGB size=224x224 at 0x1453B6300>, 0], [<PIL.Image.Image image mode=RGB size=224x224 at 0x1453B6360>, 0], [<PIL.Image.Image image mode=RGB size=224x224 at 0x1453B63C0>, 0], [<PIL.Image.Image image mode=RGB size=224x224 at 0x1453B6420>, 0], [<PIL.Image.Image image mode=RGB size=224x224 at 0x1453B6480>, 0], [<PIL.Image.Image image mode=RGB size=224x224 at 0x1453B64E0>, 0], [<PIL.Image.Image image mode=RGB size=224x224 at 0x1453B6540>, 0], [<PIL.Image.Image image mode=RGB size=224x224 at 0x1453B65A0>, 0], [<PIL.Image.Image image mode=RGB size=224x224 at 0x1453B6600>, 0], [<PIL.Image.Image image mode=RGB size=224x224 at 0x1453B6660>, 0], [<PIL.Image.Image image mode=RGB size=224x224 at 0x1453B66C0>, 0], [<PIL.Image.Image image mode=RGB size=224x224 at 0x1453B6720>, 0], [<PIL.Image.Image image mode=RGB size=224x224 at 0x1453B6780>, 0], [<PIL.Image.Image image mode=RGB size=224x224 at 0x1453B67E0>, 0], [<PIL.Image.Image image mode=RGB size=224x224 at 0x1453B6840>, 0], [<PIL.Image.Image image mode=RGB size=224x224 at 0x1453B68A0>, 0], [<PIL.Image.Image image mode=RGB size=224x224 at 0x1453B6900>, 0], [<PIL.Image.Image image mode=RGB size=224x224 at 0x1453B6960>, 0], [<PIL.Image.Image image mode=RGB size=224x224 at 0x1453B69C0>, 0], [<PIL.Image.Image image mode=RGB size=224x224 at 0x1453B6A20>, 0], [<PIL.Image.Image image mode=RGB size=224x224 at 0x1453B6A80>, 0], [<PIL.Image.Image image mode=RGB size=224x224 at 0x1453B6AE0>, 0], [<PIL.Image.Image image mode=RGB size=224x224 at 0x1453B6B40>, 0], [<PIL.Image.Image image mode=RGB size=224x224 at 0x1453B6BA0>, 0], [<PIL.Image.Image image mode=RGB size=224x224 at 0x1453B6C00>, 0], [<PIL.Image.Image image mode=RGB size=224x224 at 0x1453B6C60>, 0], [<PIL.Image.Image image mode=RGB size=224x224 at 0x1453B6CC0>, 0], [<PIL.Image.Image image mode=RGB size=224x224 at 0x1453B6D20>, 0], [<PIL.Image.Image image mode=RGB size=224x224 at 0x1453B6D80>, 0], [<PIL.Image.Image image mode=RGB size=224x224 at 0x1453B6DE0>, 0], [<PIL.Image.Image image mode=RGB size=224x224 at 0x1453B6E40>, 0], [<PIL.Image.Image image mode=RGB size=224x224 at 0x1453B6EA0>, 0], [<PIL.Image.Image image mode=RGB size=224x224 at 0x1453B6F00>, 0], [<PIL.Image.Image image mode=RGB size=224x224 at 0x1453B6F60>, 0], [<PIL.Image.Image image mode=RGB size=224x224 at 0x1453B6FC0>, 0], [<PIL.Image.Image image mode=RGB size=224x224 at 0x1453B7020>, 0], [<PIL.Image.Image image mode=RGB size=224x224 at 0x1453B7080>, 0], [<PIL.Image.Image image mode=RGB size=224x224 at 0x1453B70E0>, 0], [<PIL.Image.Image image mode=RGB size=224x224 at 0x1453B7140>, 0], [<PIL.Image.Image image mode=RGB size=224x224 at 0x1453B71A0>, 0], [<PIL.Image.Image image mode=RGB size=224x224 at 0x1453B7200>, 0], [<PIL.Image.Image image mode=RGB size=224x224 at 0x1453B7260>, 0], [<PIL.Image.Image image mode=RGB size=224x224 at 0x1453B72C0>, 0], [<PIL.Image.Image image mode=RGB size=224x224 at 0x1453B7320>, 0], [<PIL.Image.Image image mode=RGB size=224x224 at 0x1453B7380>, 0], [<PIL.Image.Image image mode=RGB size=224x224 at 0x1453B73E0>, 0], [<PIL.Image.Image image mode=RGB size=224x224 at 0x1453B7440>, 0], [<PIL.Image.Image image mode=RGB size=224x224 at 0x1453B74A0>, 0], [<PIL.Image.Image image mode=RGB size=224x224 at 0x1453B7500>, 0], [<PIL.Image.Image image mode=RGB size=224x224 at 0x1453B7560>, 0], [<PIL.Image.Image image mode=RGB size=224x224 at 0x1453B75C0>, 0], [<PIL.Image.Image image mode=RGB size=224x224 at 0x1453B7620>, 0], [<PIL.Image.Image image mode=RGB size=224x224 at 0x1453B7680>, 0], [<PIL.Image.Image image mode=RGB size=224x224 at 0x1453B76E0>, 0], [<PIL.Image.Image image mode=RGB size=224x224 at 0x1453B7740>, 0], [<PIL.Image.Image image mode=RGB size=224x224 at 0x1453B77A0>, 0], [<PIL.Image.Image image mode=RGB size=224x224 at 0x1453B7800>, 0], [<PIL.Image.Image image mode=RGB size=224x224 at 0x1453B7860>, 0], [<PIL.Image.Image image mode=RGB size=224x224 at 0x1453B78C0>, 0], [<PIL.Image.Image image mode=RGB size=224x224 at 0x1453B7920>, 0], [<PIL.Image.Image image mode=RGB size=224x224 at 0x1453B7980>, 0], [<PIL.Image.Image image mode=RGB size=224x224 at 0x1453B79E0>, 0], [<PIL.Image.Image image mode=RGB size=224x224 at 0x1453B7A40>, 0], [<PIL.Image.Image image mode=RGB size=224x224 at 0x1453B7AA0>, 0], [<PIL.Image.Image image mode=RGB size=224x224 at 0x1453B7B00>, 0], [<PIL.Image.Image image mode=RGB size=224x224 at 0x1453B7B60>, 0], [<PIL.Image.Image image mode=RGB size=224x224 at 0x1453B7BC0>, 0], [<PIL.Image.Image image mode=RGB size=224x224 at 0x1453B7C20>, 0], [<PIL.Image.Image image mode=RGB size=224x224 at 0x1453B7C80>, 0], [<PIL.Image.Image image mode=RGB size=224x224 at 0x1453B7CE0>, 0], [<PIL.Image.Image image mode=RGB size=224x224 at 0x1453B7E60>, 0], [<PIL.Image.Image image mode=RGB size=224x224 at 0x1453B7F20>, 0], [<PIL.Image.Image image mode=RGB size=224x224 at 0x1453B7F80>, 0], [<PIL.Image.Image image mode=RGB size=224x224 at 0x1453B7D40>, 0], [<PIL.Image.Image image mode=RGB size=224x224 at 0x1453EC1A0>, 0], [<PIL.Image.Image image mode=RGB size=224x224 at 0x1453EC140>, 0], [<PIL.Image.Image image mode=RGB size=224x224 at 0x1453EC1D0>, 0], [<PIL.Image.Image image mode=RGB size=224x224 at 0x1453EC0E0>, 0], [<PIL.Image.Image image mode=RGB size=224x224 at 0x1453EC0B0>, 0], [<PIL.Image.Image image mode=RGB size=224x224 at 0x1453EC050>, 0], [<PIL.Image.Image image mode=RGB size=224x224 at 0x145381FD0>, 0], [<PIL.Image.Image image mode=RGB size=224x224 at 0x1453EC080>, 0], [<PIL.Image.Image image mode=RGB size=224x224 at 0x1453EC3E0>, 0], [<PIL.Image.Image image mode=RGB size=224x224 at 0x1453EC380>, 0], [<PIL.Image.Image image mode=RGB size=224x224 at 0x1453EC470>, 0], [<PIL.Image.Image image mode=RGB size=224x224 at 0x1453EC320>, 0], [<PIL.Image.Image image mode=RGB size=224x224 at 0x1453EC4A0>, 0], [<PIL.Image.Image image mode=RGB size=224x224 at 0x1453EC2C0>, 0], [<PIL.Image.Image image mode=RGB size=224x224 at 0x1453EC110>, 0], [<PIL.Image.Image image mode=RGB size=224x224 at 0x1453EC440>, 0], [<PIL.Image.Image image mode=RGB size=224x224 at 0x1453EC260>, 0], [<PIL.Image.Image image mode=RGB size=224x224 at 0x1453EC530>, 0], [<PIL.Image.Image image mode=RGB size=224x224 at 0x1453EC590>, 0], [<PIL.Image.Image image mode=RGB size=224x224 at 0x1453EC5F0>, 0], [<PIL.Image.Image image mode=RGB size=224x224 at 0x1453EC650>, 0], [<PIL.Image.Image image mode=RGB size=224x224 at 0x1453EC6B0>, 0], [<PIL.Image.Image image mode=RGB size=224x224 at 0x1453EC710>, 0], [<PIL.Image.Image image mode=RGB size=224x224 at 0x1453EC770>, 0], [<PIL.Image.Image image mode=RGB size=224x224 at 0x1453EC7D0>, 0], [<PIL.Image.Image image mode=RGB size=224x224 at 0x1453EC830>, 0], [<PIL.Image.Image image mode=RGB size=224x224 at 0x1453EC890>, 0], [<PIL.Image.Image image mode=RGB size=224x224 at 0x1453EC8F0>, 0], [<PIL.Image.Image image mode=RGB size=224x224 at 0x1453EC950>, 0], [<PIL.Image.Image image mode=RGB size=224x224 at 0x1453EC9B0>, 0], [<PIL.Image.Image image mode=RGB size=224x224 at 0x1453ECA10>, 0], [<PIL.Image.Image image mode=RGB size=224x224 at 0x1453ECA70>, 0], [<PIL.Image.Image image mode=RGB size=224x224 at 0x1453ECAD0>, 0], [<PIL.Image.Image image mode=RGB size=224x224 at 0x1453ECB30>, 0], [<PIL.Image.Image image mode=RGB size=224x224 at 0x1453ECB90>, 0], [<PIL.Image.Image image mode=RGB size=224x224 at 0x1453ECBF0>, 0], [<PIL.Image.Image image mode=RGB size=224x224 at 0x1453ECC50>, 0], [<PIL.Image.Image image mode=RGB size=224x224 at 0x1453ECCB0>, 0], [<PIL.Image.Image image mode=RGB size=224x224 at 0x1453ECD10>, 0], [<PIL.Image.Image image mode=RGB size=224x224 at 0x1453ECD70>, 0], [<PIL.Image.Image image mode=RGB size=224x224 at 0x1453ECDD0>, 0], [<PIL.Image.Image image mode=RGB size=224x224 at 0x1453ECE30>, 0], [<PIL.Image.Image image mode=RGB size=224x224 at 0x1453ECE90>, 0], [<PIL.Image.Image image mode=RGB size=224x224 at 0x1453ECEF0>, 0], [<PIL.Image.Image image mode=RGB size=224x224 at 0x1453ECF50>, 0], [<PIL.Image.Image image mode=RGB size=224x224 at 0x1453B5190>, 0], [<PIL.Image.Image image mode=RGB size=224x224 at 0x1453ED010>, 0], [<PIL.Image.Image image mode=RGB size=224x224 at 0x1453ED250>, 0], [<PIL.Image.Image image mode=RGB size=224x224 at 0x1453ED1F0>, 0], [<PIL.Image.Image image mode=RGB size=224x224 at 0x13B80D6D0>, 0], [<PIL.Image.Image image mode=RGB size=224x224 at 0x1453ED190>, 0], [<PIL.Image.Image image mode=RGB size=224x224 at 0x1453ED3A0>, 0], [<PIL.Image.Image image mode=RGB size=224x224 at 0x1453ED0D0>, 0], [<PIL.Image.Image image mode=RGB size=224x224 at 0x1453ED430>, 0], [<PIL.Image.Image image mode=RGB size=224x224 at 0x1453ED2B0>, 0], [<PIL.Image.Image image mode=RGB size=224x224 at 0x1453ED460>, 0], [<PIL.Image.Image image mode=RGB size=224x224 at 0x1453EC200>, 0], [<PIL.Image.Image image mode=RGB size=224x224 at 0x1453ED070>, 0], [<PIL.Image.Image image mode=RGB size=224x224 at 0x1453ED400>, 0], [<PIL.Image.Image image mode=RGB size=224x224 at 0x1453ED130>, 0], [<PIL.Image.Image image mode=RGB size=224x224 at 0x1453ED4F0>, 0], [<PIL.Image.Image image mode=RGB size=224x224 at 0x1453ED550>, 0], [<PIL.Image.Image image mode=RGB size=224x224 at 0x1453ED5B0>, 0], [<PIL.Image.Image image mode=RGB size=224x224 at 0x1453ED610>, 0], [<PIL.Image.Image image mode=RGB size=224x224 at 0x1453ED670>, 0], [<PIL.Image.Image image mode=RGB size=224x224 at 0x1453ED6D0>, 0], [<PIL.Image.Image image mode=RGB size=224x224 at 0x13C3EEE10>, 0], [<PIL.Image.Image image mode=RGB size=224x224 at 0x1453ED790>, 0], [<PIL.Image.Image image mode=RGB size=224x224 at 0x1453ED9D0>, 0], [<PIL.Image.Image image mode=RGB size=224x224 at 0x1453ED970>, 0], [<PIL.Image.Image image mode=RGB size=224x224 at 0x1453EDA60>, 0], [<PIL.Image.Image image mode=RGB size=224x224 at 0x1453ED910>, 0], [<PIL.Image.Image image mode=RGB size=224x224 at 0x1453EDA90>, 0], [<PIL.Image.Image image mode=RGB size=224x224 at 0x1453ED8B0>, 0], [<PIL.Image.Image image mode=RGB size=224x224 at 0x1453ED310>, 0], [<PIL.Image.Image image mode=RGB size=224x224 at 0x1453EDA30>, 0], [<PIL.Image.Image image mode=RGB size=224x224 at 0x1453ED850>, 0], [<PIL.Image.Image image mode=RGB size=224x224 at 0x1453EDB20>, 0], [<PIL.Image.Image image mode=RGB size=224x224 at 0x1453EDB80>, 0], [<PIL.Image.Image image mode=RGB size=224x224 at 0x1453EDBE0>, 0], [<PIL.Image.Image image mode=RGB size=224x224 at 0x1453EDC40>, 0], [<PIL.Image.Image image mode=RGB size=224x224 at 0x1453EDCA0>, 0], [<PIL.Image.Image image mode=RGB size=224x224 at 0x1453EDD00>, 0], [<PIL.Image.Image image mode=RGB size=224x224 at 0x1453EDD60>, 0], [<PIL.Image.Image image mode=RGB size=224x224 at 0x1453EDDC0>, 0], [<PIL.Image.Image image mode=RGB size=224x224 at 0x1453EDE20>, 0], [<PIL.Image.Image image mode=RGB size=224x224 at 0x1453EDE80>, 0], [<PIL.Image.Image image mode=RGB size=224x224 at 0x1453EDEE0>, 0], [<PIL.Image.Image image mode=RGB size=224x224 at 0x1453EDF40>, 0], [<PIL.Image.Image image mode=RGB size=224x224 at 0x1453EDFA0>, 0], [<PIL.Image.Image image mode=RGB size=224x224 at 0x1453EE000>, 0], [<PIL.Image.Image image mode=RGB size=224x224 at 0x1453EE060>, 0], [<PIL.Image.Image image mode=RGB size=224x224 at 0x1453EE0C0>, 0], [<PIL.Image.Image image mode=RGB size=224x224 at 0x1453EE120>, 0], [<PIL.Image.Image image mode=RGB size=224x224 at 0x1453EE180>, 0], [<PIL.Image.Image image mode=RGB size=224x224 at 0x1453EE1E0>, 0], [<PIL.Image.Image image mode=RGB size=224x224 at 0x1453EE240>, 0], [<PIL.Image.Image image mode=RGB size=224x224 at 0x1453EE2A0>, 0], [<PIL.Image.Image image mode=RGB size=224x224 at 0x1453EE300>, 0], [<PIL.Image.Image image mode=RGB size=224x224 at 0x1453EE360>, 0], [<PIL.Image.Image image mode=RGB size=224x224 at 0x1453EE3C0>, 0], [<PIL.Image.Image image mode=RGB size=224x224 at 0x1453EE420>, 0], [<PIL.Image.Image image mode=RGB size=224x224 at 0x1453EE480>, 0], [<PIL.Image.Image image mode=RGB size=224x224 at 0x1453EE4E0>, 0], [<PIL.Image.Image image mode=RGB size=224x224 at 0x1453EE540>, 0], [<PIL.Image.Image image mode=RGB size=224x224 at 0x1453EE5A0>, 0], [<PIL.Image.Image image mode=RGB size=224x224 at 0x1453EE600>, 0], [<PIL.Image.Image image mode=RGB size=224x224 at 0x1453EE660>, 0], [<PIL.Image.Image image mode=RGB size=224x224 at 0x1453EE6C0>, 0], [<PIL.Image.Image image mode=RGB size=224x224 at 0x1453EE720>, 0], [<PIL.Image.Image image mode=RGB size=224x224 at 0x1453EE780>, 0], [<PIL.Image.Image image mode=RGB size=224x224 at 0x1453EE7E0>, 0], [<PIL.Image.Image image mode=RGB size=224x224 at 0x1453EE840>, 0], [<PIL.Image.Image image mode=RGB size=224x224 at 0x1453EE8A0>, 0], [<PIL.Image.Image image mode=RGB size=224x224 at 0x1453EE900>, 0], [<PIL.Image.Image image mode=RGB size=224x224 at 0x1453EE960>, 0], [<PIL.Image.Image image mode=RGB size=224x224 at 0x1453EE9C0>, 0], [<PIL.Image.Image image mode=RGB size=224x224 at 0x1453EEA20>, 0], [<PIL.Image.Image image mode=RGB size=224x224 at 0x1453EEA80>, 0], [<PIL.Image.Image image mode=RGB size=224x224 at 0x1453EEAE0>, 0], [<PIL.Image.Image image mode=RGB size=224x224 at 0x1453EEB40>, 0], [<PIL.Image.Image image mode=RGB size=224x224 at 0x1453EEBA0>, 0], [<PIL.Image.Image image mode=RGB size=224x224 at 0x1453EEC00>, 0], [<PIL.Image.Image image mode=RGB size=224x224 at 0x1453EEC60>, 0], [<PIL.Image.Image image mode=RGB size=224x224 at 0x1453EECC0>, 0], [<PIL.Image.Image image mode=RGB size=224x224 at 0x1453EED20>, 0], [<PIL.Image.Image image mode=RGB size=224x224 at 0x1453EED80>, 0], [<PIL.Image.Image image mode=RGB size=224x224 at 0x1453EEDE0>, 0], [<PIL.Image.Image image mode=RGB size=224x224 at 0x1453EEE40>, 0], [<PIL.Image.Image image mode=RGB size=224x224 at 0x1453EEEA0>, 0], [<PIL.Image.Image image mode=RGB size=224x224 at 0x1453EEF00>, 0], [<PIL.Image.Image image mode=RGB size=224x224 at 0x1453EEF60>, 0], [<PIL.Image.Image image mode=RGB size=224x224 at 0x1453EEFC0>, 0], [<PIL.Image.Image image mode=RGB size=224x224 at 0x1453EF020>, 0], [<PIL.Image.Image image mode=RGB size=224x224 at 0x1453EF080>, 0], [<PIL.Image.Image image mode=RGB size=224x224 at 0x1453EF0E0>, 0], [<PIL.Image.Image image mode=RGB size=224x224 at 0x1453EF140>, 0], [<PIL.Image.Image image mode=RGB size=224x224 at 0x1453EF1A0>, 0], [<PIL.Image.Image image mode=RGB size=224x224 at 0x1453EF200>, 0], [<PIL.Image.Image image mode=RGB size=224x224 at 0x1453EF260>, 0], [<PIL.Image.Image image mode=RGB size=224x224 at 0x1453EF2C0>, 0], [<PIL.Image.Image image mode=RGB size=224x224 at 0x1453EF320>, 0], [<PIL.Image.Image image mode=RGB size=224x224 at 0x1453EF380>, 0], [<PIL.Image.Image image mode=RGB size=224x224 at 0x1453EF3E0>, 0], [<PIL.Image.Image image mode=RGB size=224x224 at 0x1453EF440>, 0], [<PIL.Image.Image image mode=RGB size=224x224 at 0x1453EF4A0>, 0], [<PIL.Image.Image image mode=RGB size=224x224 at 0x1453EF500>, 0], [<PIL.Image.Image image mode=RGB size=224x224 at 0x1453EF560>, 0], [<PIL.Image.Image image mode=RGB size=224x224 at 0x1453EF5C0>, 0], [<PIL.Image.Image image mode=RGB size=224x224 at 0x1453EF620>, 0], [<PIL.Image.Image image mode=RGB size=224x224 at 0x1453EF680>, 0], [<PIL.Image.Image image mode=RGB size=224x224 at 0x1453EF6E0>, 0], [<PIL.Image.Image image mode=RGB size=224x224 at 0x1453EF740>, 0], [<PIL.Image.Image image mode=RGB size=224x224 at 0x1453EF7A0>, 0], [<PIL.Image.Image image mode=RGB size=224x224 at 0x1453EF800>, 0], [<PIL.Image.Image image mode=RGB size=224x224 at 0x1453EF860>, 0], [<PIL.Image.Image image mode=RGB size=224x224 at 0x1453EF8C0>, 0], [<PIL.Image.Image image mode=RGB size=224x224 at 0x1453EF920>, 0], [<PIL.Image.Image image mode=RGB size=224x224 at 0x1453EF980>, 0], [<PIL.Image.Image image mode=RGB size=224x224 at 0x1453EF9E0>, 0], [<PIL.Image.Image image mode=RGB size=224x224 at 0x1453EFA40>, 0], [<PIL.Image.Image image mode=RGB size=224x224 at 0x1453EFAA0>, 0], [<PIL.Image.Image image mode=RGB size=224x224 at 0x1453EFB00>, 0], [<PIL.Image.Image image mode=RGB size=224x224 at 0x1453EFB60>, 0], [<PIL.Image.Image image mode=RGB size=224x224 at 0x1453EFBC0>, 0], [<PIL.Image.Image image mode=RGB size=224x224 at 0x1453EFC20>, 0], [<PIL.Image.Image image mode=RGB size=224x224 at 0x1453EFC80>, 0], [<PIL.Image.Image image mode=RGB size=224x224 at 0x1453EFCE0>, 0], [<PIL.Image.Image image mode=RGB size=224x224 at 0x1453EFE60>, 0], [<PIL.Image.Image image mode=RGB size=224x224 at 0x1453EFF20>, 0], [<PIL.Image.Image image mode=RGB size=224x224 at 0x1453EFF80>, 0], [<PIL.Image.Image image mode=RGB size=224x224 at 0x1453EFD40>, 0], [<PIL.Image.Image image mode=RGB size=224x224 at 0x1454081A0>, 0], [<PIL.Image.Image image mode=RGB size=224x224 at 0x145408140>, 0], [<PIL.Image.Image image mode=RGB size=224x224 at 0x1454081D0>, 0], [<PIL.Image.Image image mode=RGB size=224x224 at 0x1454080E0>, 0], [<PIL.Image.Image image mode=RGB size=224x224 at 0x1454080B0>, 0], [<PIL.Image.Image image mode=RGB size=224x224 at 0x145408050>, 0], [<PIL.Image.Image image mode=RGB size=224x224 at 0x145408170>, 0], [<PIL.Image.Image image mode=RGB size=224x224 at 0x145408080>, 0], [<PIL.Image.Image image mode=RGB size=224x224 at 0x145408200>, 0], [<PIL.Image.Image image mode=RGB size=224x224 at 0x145408260>, 0], [<PIL.Image.Image image mode=RGB size=224x224 at 0x1454082C0>, 0], [<PIL.Image.Image image mode=RGB size=224x224 at 0x145408320>, 0], [<PIL.Image.Image image mode=RGB size=224x224 at 0x145408380>, 0], [<PIL.Image.Image image mode=RGB size=224x224 at 0x126D0C890>, 0], [<PIL.Image.Image image mode=RGB size=224x224 at 0x145408440>, 0], [<PIL.Image.Image image mode=RGB size=224x224 at 0x145408680>, 0], [<PIL.Image.Image image mode=RGB size=224x224 at 0x145408620>, 0], [<PIL.Image.Image image mode=RGB size=224x224 at 0x145408710>, 0], [<PIL.Image.Image image mode=RGB size=224x224 at 0x1454085C0>, 0], [<PIL.Image.Image image mode=RGB size=224x224 at 0x145408740>, 0], [<PIL.Image.Image image mode=RGB size=224x224 at 0x145408560>, 0], [<PIL.Image.Image image mode=RGB size=224x224 at 0x145408110>, 0], [<PIL.Image.Image image mode=RGB size=224x224 at 0x1454086E0>, 0], [<PIL.Image.Image image mode=RGB size=224x224 at 0x145408500>, 0], [<PIL.Image.Image image mode=RGB size=224x224 at 0x1454087D0>, 0], [<PIL.Image.Image image mode=RGB size=224x224 at 0x145408830>, 0], [<PIL.Image.Image image mode=RGB size=224x224 at 0x145408890>, 0], [<PIL.Image.Image image mode=RGB size=224x224 at 0x1454088F0>, 0], [<PIL.Image.Image image mode=RGB size=224x224 at 0x145408950>, 0], [<PIL.Image.Image image mode=RGB size=224x224 at 0x1454089B0>, 0], [<PIL.Image.Image image mode=RGB size=224x224 at 0x145408A10>, 0], [<PIL.Image.Image image mode=RGB size=224x224 at 0x145408A70>, 0], [<PIL.Image.Image image mode=RGB size=224x224 at 0x145408AD0>, 0], [<PIL.Image.Image image mode=RGB size=224x224 at 0x145408B30>, 0], [<PIL.Image.Image image mode=RGB size=224x224 at 0x145408B90>, 0], [<PIL.Image.Image image mode=RGB size=224x224 at 0x145408BF0>, 0], [<PIL.Image.Image image mode=RGB size=224x224 at 0x145408C50>, 0], [<PIL.Image.Image image mode=RGB size=224x224 at 0x145408CB0>, 0], [<PIL.Image.Image image mode=RGB size=224x224 at 0x145408D10>, 0], [<PIL.Image.Image image mode=RGB size=224x224 at 0x145408D70>, 0], [<PIL.Image.Image image mode=RGB size=224x224 at 0x145408DD0>, 0], [<PIL.Image.Image image mode=RGB size=224x224 at 0x145408E30>, 0], [<PIL.Image.Image image mode=RGB size=224x224 at 0x145408E90>, 0], [<PIL.Image.Image image mode=RGB size=224x224 at 0x145408EF0>, 0], [<PIL.Image.Image image mode=RGB size=224x224 at 0x145408F50>, 0], [<PIL.Image.Image image mode=RGB size=224x224 at 0x145408FB0>, 0], [<PIL.Image.Image image mode=RGB size=224x224 at 0x145409010>, 0], [<PIL.Image.Image image mode=RGB size=224x224 at 0x145409070>, 0], [<PIL.Image.Image image mode=RGB size=224x224 at 0x1454090D0>, 0], [<PIL.Image.Image image mode=RGB size=224x224 at 0x145409130>, 0], [<PIL.Image.Image image mode=RGB size=224x224 at 0x145409190>, 0], [<PIL.Image.Image image mode=RGB size=224x224 at 0x1454091F0>, 0], [<PIL.Image.Image image mode=RGB size=224x224 at 0x145409250>, 0], [<PIL.Image.Image image mode=RGB size=224x224 at 0x1454092B0>, 0], [<PIL.Image.Image image mode=RGB size=224x224 at 0x145409310>, 0], [<PIL.Image.Image image mode=RGB size=224x224 at 0x145409370>, 0], [<PIL.Image.Image image mode=RGB size=224x224 at 0x1454093D0>, 0], [<PIL.Image.Image image mode=RGB size=224x224 at 0x145409430>, 0], [<PIL.Image.Image image mode=RGB size=224x224 at 0x145409490>, 0], [<PIL.Image.Image image mode=RGB size=224x224 at 0x1454094F0>, 0], [<PIL.Image.Image image mode=RGB size=224x224 at 0x145409550>, 0], [<PIL.Image.Image image mode=RGB size=224x224 at 0x1454095B0>, 0], [<PIL.Image.Image image mode=RGB size=224x224 at 0x145409610>, 0], [<PIL.Image.Image image mode=RGB size=224x224 at 0x145409670>, 0], [<PIL.Image.Image image mode=RGB size=224x224 at 0x1454096D0>, 0], [<PIL.Image.Image image mode=RGB size=224x224 at 0x145409730>, 0], [<PIL.Image.Image image mode=RGB size=224x224 at 0x145409790>, 0], [<PIL.Image.Image image mode=RGB size=224x224 at 0x1454097F0>, 0], [<PIL.Image.Image image mode=RGB size=224x224 at 0x145409850>, 0], [<PIL.Image.Image image mode=RGB size=224x224 at 0x1454098B0>, 0], [<PIL.Image.Image image mode=RGB size=224x224 at 0x145409910>, 0], [<PIL.Image.Image image mode=RGB size=224x224 at 0x145409970>, 0], [<PIL.Image.Image image mode=RGB size=224x224 at 0x1454099D0>, 0], [<PIL.Image.Image image mode=RGB size=224x224 at 0x145409A30>, 0], [<PIL.Image.Image image mode=RGB size=224x224 at 0x145409A90>, 0], [<PIL.Image.Image image mode=RGB size=224x224 at 0x145409AF0>, 0], [<PIL.Image.Image image mode=RGB size=224x224 at 0x145409B50>, 0], [<PIL.Image.Image image mode=RGB size=224x224 at 0x13C8BDA90>, 0], [<PIL.Image.Image image mode=RGB size=224x224 at 0x145409C10>, 0], [<PIL.Image.Image image mode=RGB size=224x224 at 0x145409E50>, 0], [<PIL.Image.Image image mode=RGB size=224x224 at 0x145409DF0>, 0], [<PIL.Image.Image image mode=RGB size=224x224 at 0x145409EE0>, 0], [<PIL.Image.Image image mode=RGB size=224x224 at 0x145409D90>, 0], [<PIL.Image.Image image mode=RGB size=224x224 at 0x145409F10>, 0], [<PIL.Image.Image image mode=RGB size=224x224 at 0x145409D30>, 0], [<PIL.Image.Image image mode=RGB size=224x224 at 0x1454084A0>, 0], [<PIL.Image.Image image mode=RGB size=224x224 at 0x145409EB0>, 0], [<PIL.Image.Image image mode=RGB size=224x224 at 0x145409CD0>, 0], [<PIL.Image.Image image mode=RGB size=224x224 at 0x145409FA0>, 0], [<PIL.Image.Image image mode=RGB size=224x224 at 0x14540A000>, 0], [<PIL.Image.Image image mode=RGB size=224x224 at 0x14540A060>, 0], [<PIL.Image.Image image mode=RGB size=224x224 at 0x14540A0C0>, 0], [<PIL.Image.Image image mode=RGB size=224x224 at 0x14540A120>, 0], [<PIL.Image.Image image mode=RGB size=224x224 at 0x14540A180>, 0], [<PIL.Image.Image image mode=RGB size=224x224 at 0x14540A1E0>, 0], [<PIL.Image.Image image mode=RGB size=224x224 at 0x14540A240>, 0], [<PIL.Image.Image image mode=RGB size=224x224 at 0x14540A2A0>, 0], [<PIL.Image.Image image mode=RGB size=224x224 at 0x14540A300>, 0], [<PIL.Image.Image image mode=RGB size=224x224 at 0x14540A360>, 0], [<PIL.Image.Image image mode=RGB size=224x224 at 0x14540A3C0>, 0], [<PIL.Image.Image image mode=RGB size=224x224 at 0x14540A420>, 1], [<PIL.Image.Image image mode=RGB size=224x224 at 0x14540A780>, 1], [<PIL.Image.Image image mode=RGB size=224x224 at 0x14540A7E0>, 1], [<PIL.Image.Image image mode=RGB size=224x224 at 0x14540A840>, 1], [<PIL.Image.Image image mode=RGB size=224x224 at 0x14540A8A0>, 1], [<PIL.Image.Image image mode=RGB size=224x224 at 0x14540A900>, 1], [<PIL.Image.Image image mode=RGB size=224x224 at 0x14540A960>, 1], [<PIL.Image.Image image mode=RGB size=224x224 at 0x14540A9C0>, 1], [<PIL.Image.Image image mode=RGB size=224x224 at 0x14540AA20>, 1], [<PIL.Image.Image image mode=RGB size=224x224 at 0x14540AA80>, 1], [<PIL.Image.Image image mode=RGB size=224x224 at 0x14540AAE0>, 1], [<PIL.Image.Image image mode=RGB size=224x224 at 0x14540AB40>, 1], [<PIL.Image.Image image mode=RGB size=224x224 at 0x14540ABA0>, 1], [<PIL.Image.Image image mode=RGB size=224x224 at 0x13C3BE450>, 1], [<PIL.Image.Image image mode=RGB size=224x224 at 0x14540AC60>, 1], [<PIL.Image.Image image mode=RGB size=224x224 at 0x14540A660>, 1], [<PIL.Image.Image image mode=RGB size=224x224 at 0x14540ACF0>, 1], [<PIL.Image.Image image mode=RGB size=224x224 at 0x14540AD50>, 1], [<PIL.Image.Image image mode=RGB size=224x224 at 0x14540ADB0>, 1], [<PIL.Image.Image image mode=RGB size=224x224 at 0x14540AE10>, 1], [<PIL.Image.Image image mode=RGB size=224x224 at 0x14540AE70>, 1], [<PIL.Image.Image image mode=RGB size=224x224 at 0x14540AED0>, 1], [<PIL.Image.Image image mode=RGB size=224x224 at 0x14540AF30>, 1], [<PIL.Image.Image image mode=RGB size=224x224 at 0x14540AF90>, 1], [<PIL.Image.Image image mode=RGB size=224x224 at 0x14540AFF0>, 1], [<PIL.Image.Image image mode=RGB size=224x224 at 0x14540B050>, 1], [<PIL.Image.Image image mode=RGB size=224x224 at 0x14540B0B0>, 1], [<PIL.Image.Image image mode=RGB size=224x224 at 0x14540B110>, 1], [<PIL.Image.Image image mode=RGB size=224x224 at 0x14540B170>, 1], [<PIL.Image.Image image mode=RGB size=224x224 at 0x14540B1D0>, 1], [<PIL.Image.Image image mode=RGB size=224x224 at 0x14540B230>, 1], [<PIL.Image.Image image mode=RGB size=224x224 at 0x14540B290>, 1], [<PIL.Image.Image image mode=RGB size=224x224 at 0x14540B2F0>, 1], [<PIL.Image.Image image mode=RGB size=224x224 at 0x14540B350>, 1], [<PIL.Image.Image image mode=RGB size=224x224 at 0x14540B3B0>, 1], [<PIL.Image.Image image mode=RGB size=224x224 at 0x14540B410>, 1], [<PIL.Image.Image image mode=RGB size=224x224 at 0x14540B470>, 1], [<PIL.Image.Image image mode=RGB size=224x224 at 0x14540B4D0>, 1], [<PIL.Image.Image image mode=RGB size=224x224 at 0x14540B530>, 1], [<PIL.Image.Image image mode=RGB size=224x224 at 0x14540B590>, 1], [<PIL.Image.Image image mode=RGB size=224x224 at 0x14540B5F0>, 1], [<PIL.Image.Image image mode=RGB size=224x224 at 0x14540B650>, 1], [<PIL.Image.Image image mode=RGB size=224x224 at 0x14540B6B0>, 1], [<PIL.Image.Image image mode=RGB size=224x224 at 0x14540B710>, 1], [<PIL.Image.Image image mode=RGB size=224x224 at 0x14540B770>, 1], [<PIL.Image.Image image mode=RGB size=224x224 at 0x14540B7D0>, 1], [<PIL.Image.Image image mode=RGB size=224x224 at 0x14540B830>, 1], [<PIL.Image.Image image mode=RGB size=224x224 at 0x14540B890>, 1], [<PIL.Image.Image image mode=RGB size=224x224 at 0x14540B8F0>, 1], [<PIL.Image.Image image mode=RGB size=224x224 at 0x14540B950>, 1], [<PIL.Image.Image image mode=RGB size=224x224 at 0x14540B9B0>, 1], [<PIL.Image.Image image mode=RGB size=224x224 at 0x14540BA10>, 1], [<PIL.Image.Image image mode=RGB size=224x224 at 0x14540BA70>, 1], [<PIL.Image.Image image mode=RGB size=224x224 at 0x14540BAD0>, 1], [<PIL.Image.Image image mode=RGB size=224x224 at 0x14540BB30>, 1], [<PIL.Image.Image image mode=RGB size=224x224 at 0x14540BB90>, 1], [<PIL.Image.Image image mode=RGB size=224x224 at 0x14540BBF0>, 1], [<PIL.Image.Image image mode=RGB size=224x224 at 0x14540BC50>, 1], [<PIL.Image.Image image mode=RGB size=224x224 at 0x14540BCB0>, 1], [<PIL.Image.Image image mode=RGB size=224x224 at 0x14540BD10>, 1], [<PIL.Image.Image image mode=RGB size=224x224 at 0x14540BD70>, 1], [<PIL.Image.Image image mode=RGB size=224x224 at 0x14540BDD0>, 1], [<PIL.Image.Image image mode=RGB size=224x224 at 0x14540BE30>, 1], [<PIL.Image.Image image mode=RGB size=224x224 at 0x14540BE90>, 1], [<PIL.Image.Image image mode=RGB size=224x224 at 0x14540BEF0>, 1], [<PIL.Image.Image image mode=RGB size=224x224 at 0x14540BF50>, 1], [<PIL.Image.Image image mode=RGB size=224x224 at 0x14540BFB0>, 1], [<PIL.Image.Image image mode=RGB size=224x224 at 0x14540A5A0>, 1], [<PIL.Image.Image image mode=RGB size=224x224 at 0x14540BF80>, 1], [<PIL.Image.Image image mode=RGB size=224x224 at 0x14540ABD0>, 1], [<PIL.Image.Image image mode=RGB size=224x224 at 0x14540A990>, 1], [<PIL.Image.Image image mode=RGB size=224x224 at 0x14540BFE0>, 1], [<PIL.Image.Image image mode=RGB size=224x224 at 0x145428230>, 1], [<PIL.Image.Image image mode=RGB size=224x224 at 0x145428290>, 1], [<PIL.Image.Image image mode=RGB size=224x224 at 0x1454282F0>, 1], [<PIL.Image.Image image mode=RGB size=224x224 at 0x145428350>, 1], [<PIL.Image.Image image mode=RGB size=224x224 at 0x1454283B0>, 1], [<PIL.Image.Image image mode=RGB size=224x224 at 0x145428410>, 1], [<PIL.Image.Image image mode=RGB size=224x224 at 0x145428470>, 1], [<PIL.Image.Image image mode=RGB size=224x224 at 0x1454284D0>, 1], [<PIL.Image.Image image mode=RGB size=224x224 at 0x145428530>, 1], [<PIL.Image.Image image mode=RGB size=224x224 at 0x145428590>, 1], [<PIL.Image.Image image mode=RGB size=224x224 at 0x1454285F0>, 1], [<PIL.Image.Image image mode=RGB size=224x224 at 0x145428650>, 1], [<PIL.Image.Image image mode=RGB size=224x224 at 0x1454286B0>, 1], [<PIL.Image.Image image mode=RGB size=224x224 at 0x145428710>, 1], [<PIL.Image.Image image mode=RGB size=224x224 at 0x145428770>, 1], [<PIL.Image.Image image mode=RGB size=224x224 at 0x1454287D0>, 1], [<PIL.Image.Image image mode=RGB size=224x224 at 0x145428830>, 1], [<PIL.Image.Image image mode=RGB size=224x224 at 0x145428890>, 1], [<PIL.Image.Image image mode=RGB size=224x224 at 0x1454288F0>, 1], [<PIL.Image.Image image mode=RGB size=224x224 at 0x145428950>, 1], [<PIL.Image.Image image mode=RGB size=224x224 at 0x1454289B0>, 1], [<PIL.Image.Image image mode=RGB size=224x224 at 0x145428A10>, 1], [<PIL.Image.Image image mode=RGB size=224x224 at 0x145428A70>, 1], [<PIL.Image.Image image mode=RGB size=224x224 at 0x145428AD0>, 1], [<PIL.Image.Image image mode=RGB size=224x224 at 0x145428B30>, 1], [<PIL.Image.Image image mode=RGB size=224x224 at 0x145428B90>, 1], [<PIL.Image.Image image mode=RGB size=224x224 at 0x145428BF0>, 1], [<PIL.Image.Image image mode=RGB size=224x224 at 0x145428C50>, 1], [<PIL.Image.Image image mode=RGB size=224x224 at 0x145428CB0>, 1], [<PIL.Image.Image image mode=RGB size=224x224 at 0x145428D10>, 1], [<PIL.Image.Image image mode=RGB size=224x224 at 0x145428D70>, 1], [<PIL.Image.Image image mode=RGB size=224x224 at 0x145428DD0>, 1], [<PIL.Image.Image image mode=RGB size=224x224 at 0x145428E30>, 1], [<PIL.Image.Image image mode=RGB size=224x224 at 0x145428E90>, 1], [<PIL.Image.Image image mode=RGB size=224x224 at 0x145428EF0>, 1], [<PIL.Image.Image image mode=RGB size=224x224 at 0x145428F50>, 1], [<PIL.Image.Image image mode=RGB size=224x224 at 0x145428FB0>, 1], [<PIL.Image.Image image mode=RGB size=224x224 at 0x145429010>, 1], [<PIL.Image.Image image mode=RGB size=224x224 at 0x145429070>, 1], [<PIL.Image.Image image mode=RGB size=224x224 at 0x1454290D0>, 1], [<PIL.Image.Image image mode=RGB size=224x224 at 0x145429130>, 1], [<PIL.Image.Image image mode=RGB size=224x224 at 0x145429190>, 1], [<PIL.Image.Image image mode=RGB size=224x224 at 0x1454291F0>, 1], [<PIL.Image.Image image mode=RGB size=224x224 at 0x145429250>, 1], [<PIL.Image.Image image mode=RGB size=224x224 at 0x1454292B0>, 1], [<PIL.Image.Image image mode=RGB size=224x224 at 0x145429310>, 1], [<PIL.Image.Image image mode=RGB size=224x224 at 0x145429370>, 1], [<PIL.Image.Image image mode=RGB size=224x224 at 0x1454293D0>, 1], [<PIL.Image.Image image mode=RGB size=224x224 at 0x145429430>, 1], [<PIL.Image.Image image mode=RGB size=224x224 at 0x145429490>, 1], [<PIL.Image.Image image mode=RGB size=224x224 at 0x1454294F0>, 1], [<PIL.Image.Image image mode=RGB size=224x224 at 0x145429550>, 1], [<PIL.Image.Image image mode=RGB size=224x224 at 0x1454295B0>, 1], [<PIL.Image.Image image mode=RGB size=224x224 at 0x145429610>, 1], [<PIL.Image.Image image mode=RGB size=224x224 at 0x145429670>, 1], [<PIL.Image.Image image mode=RGB size=224x224 at 0x1454296D0>, 1], [<PIL.Image.Image image mode=RGB size=224x224 at 0x145429730>, 1], [<PIL.Image.Image image mode=RGB size=224x224 at 0x145429790>, 1], [<PIL.Image.Image image mode=RGB size=224x224 at 0x1454297F0>, 1], [<PIL.Image.Image image mode=RGB size=224x224 at 0x145429850>, 1], [<PIL.Image.Image image mode=RGB size=224x224 at 0x1454298B0>, 1], [<PIL.Image.Image image mode=RGB size=224x224 at 0x145429910>, 1], [<PIL.Image.Image image mode=RGB size=224x224 at 0x145429970>, 1], [<PIL.Image.Image image mode=RGB size=224x224 at 0x1454299D0>, 1], [<PIL.Image.Image image mode=RGB size=224x224 at 0x145429A30>, 1], [<PIL.Image.Image image mode=RGB size=224x224 at 0x145429A90>, 1], [<PIL.Image.Image image mode=RGB size=224x224 at 0x145429AF0>, 1], [<PIL.Image.Image image mode=RGB size=224x224 at 0x145429B50>, 1], [<PIL.Image.Image image mode=RGB size=224x224 at 0x145429BB0>, 1], [<PIL.Image.Image image mode=RGB size=224x224 at 0x145429C10>, 1], [<PIL.Image.Image image mode=RGB size=224x224 at 0x145429C70>, 1], [<PIL.Image.Image image mode=RGB size=224x224 at 0x145429CD0>, 1], [<PIL.Image.Image image mode=RGB size=224x224 at 0x145429D30>, 1], [<PIL.Image.Image image mode=RGB size=224x224 at 0x145429D90>, 1], [<PIL.Image.Image image mode=RGB size=224x224 at 0x145429DF0>, 1], [<PIL.Image.Image image mode=RGB size=224x224 at 0x145429E50>, 1], [<PIL.Image.Image image mode=RGB size=224x224 at 0x145429EB0>, 1], [<PIL.Image.Image image mode=RGB size=224x224 at 0x145429F10>, 1], [<PIL.Image.Image image mode=RGB size=224x224 at 0x145429F70>, 1], [<PIL.Image.Image image mode=RGB size=224x224 at 0x145429FD0>, 1], [<PIL.Image.Image image mode=RGB size=224x224 at 0x14542A030>, 1], [<PIL.Image.Image image mode=RGB size=224x224 at 0x14542A090>, 1], [<PIL.Image.Image image mode=RGB size=224x224 at 0x14542A0F0>, 1], [<PIL.Image.Image image mode=RGB size=224x224 at 0x14542A150>, 1], [<PIL.Image.Image image mode=RGB size=224x224 at 0x14542A1B0>, 1], [<PIL.Image.Image image mode=RGB size=224x224 at 0x14542A210>, 1], [<PIL.Image.Image image mode=RGB size=224x224 at 0x14542A270>, 1], [<PIL.Image.Image image mode=RGB size=224x224 at 0x14542A2D0>, 1], [<PIL.Image.Image image mode=RGB size=224x224 at 0x14542A330>, 1], [<PIL.Image.Image image mode=RGB size=224x224 at 0x14542A390>, 1], [<PIL.Image.Image image mode=RGB size=224x224 at 0x14542A3F0>, 1], [<PIL.Image.Image image mode=RGB size=224x224 at 0x14542A450>, 1], [<PIL.Image.Image image mode=RGB size=224x224 at 0x14542A4B0>, 1], [<PIL.Image.Image image mode=RGB size=224x224 at 0x14542A510>, 1], [<PIL.Image.Image image mode=RGB size=224x224 at 0x14542A570>, 1], [<PIL.Image.Image image mode=RGB size=224x224 at 0x14542A5D0>, 1], [<PIL.Image.Image image mode=RGB size=224x224 at 0x14542A630>, 1], [<PIL.Image.Image image mode=RGB size=224x224 at 0x14542A690>, 1], [<PIL.Image.Image image mode=RGB size=224x224 at 0x14542A6F0>, 1], [<PIL.Image.Image image mode=RGB size=224x224 at 0x14542A750>, 1], [<PIL.Image.Image image mode=RGB size=224x224 at 0x14542A7B0>, 1], [<PIL.Image.Image image mode=RGB size=224x224 at 0x14542A810>, 1], [<PIL.Image.Image image mode=RGB size=224x224 at 0x14542A870>, 1], [<PIL.Image.Image image mode=RGB size=224x224 at 0x14542A8D0>, 1], [<PIL.Image.Image image mode=RGB size=224x224 at 0x14542A930>, 1], [<PIL.Image.Image image mode=RGB size=224x224 at 0x14542A990>, 1], [<PIL.Image.Image image mode=RGB size=224x224 at 0x14542A9F0>, 1], [<PIL.Image.Image image mode=RGB size=224x224 at 0x14542AA50>, 1], [<PIL.Image.Image image mode=RGB size=224x224 at 0x14542AAB0>, 1], [<PIL.Image.Image image mode=RGB size=224x224 at 0x14542AB10>, 1], [<PIL.Image.Image image mode=RGB size=224x224 at 0x14542AB70>, 1], [<PIL.Image.Image image mode=RGB size=224x224 at 0x14542ABD0>, 1], [<PIL.Image.Image image mode=RGB size=224x224 at 0x14542AC30>, 1], [<PIL.Image.Image image mode=RGB size=224x224 at 0x14542AC90>, 1], [<PIL.Image.Image image mode=RGB size=224x224 at 0x14542ACF0>, 1], [<PIL.Image.Image image mode=RGB size=224x224 at 0x14542AD50>, 1], [<PIL.Image.Image image mode=RGB size=224x224 at 0x14542ADB0>, 1], [<PIL.Image.Image image mode=RGB size=224x224 at 0x14542AE10>, 1], [<PIL.Image.Image image mode=RGB size=224x224 at 0x14542AE70>, 1], [<PIL.Image.Image image mode=RGB size=224x224 at 0x14542AED0>, 1], [<PIL.Image.Image image mode=RGB size=224x224 at 0x14542AF30>, 1], [<PIL.Image.Image image mode=RGB size=224x224 at 0x14542AF90>, 1], [<PIL.Image.Image image mode=RGB size=224x224 at 0x14542AFF0>, 1], [<PIL.Image.Image image mode=RGB size=224x224 at 0x14542B050>, 1], [<PIL.Image.Image image mode=RGB size=224x224 at 0x14542B0B0>, 1], [<PIL.Image.Image image mode=RGB size=224x224 at 0x14542B110>, 1], [<PIL.Image.Image image mode=RGB size=224x224 at 0x14542B170>, 1], [<PIL.Image.Image image mode=RGB size=224x224 at 0x14542B1D0>, 1], [<PIL.Image.Image image mode=RGB size=224x224 at 0x14542B230>, 1], [<PIL.Image.Image image mode=RGB size=224x224 at 0x14542B290>, 1], [<PIL.Image.Image image mode=RGB size=224x224 at 0x14542B2F0>, 1], [<PIL.Image.Image image mode=RGB size=224x224 at 0x14542B350>, 1], [<PIL.Image.Image image mode=RGB size=224x224 at 0x14542B3B0>, 1], [<PIL.Image.Image image mode=RGB size=224x224 at 0x14542B410>, 1], [<PIL.Image.Image image mode=RGB size=224x224 at 0x14542B470>, 1], [<PIL.Image.Image image mode=RGB size=224x224 at 0x14542B4D0>, 1], [<PIL.Image.Image image mode=RGB size=224x224 at 0x14542B530>, 1], [<PIL.Image.Image image mode=RGB size=224x224 at 0x14542B590>, 1], [<PIL.Image.Image image mode=RGB size=224x224 at 0x14542B5F0>, 1], [<PIL.Image.Image image mode=RGB size=224x224 at 0x14542B650>, 1], [<PIL.Image.Image image mode=RGB size=224x224 at 0x14542B6B0>, 1], [<PIL.Image.Image image mode=RGB size=224x224 at 0x14542B710>, 1], [<PIL.Image.Image image mode=RGB size=224x224 at 0x14542B770>, 1], [<PIL.Image.Image image mode=RGB size=224x224 at 0x14542B7D0>, 1], [<PIL.Image.Image image mode=RGB size=224x224 at 0x14542B830>, 1], [<PIL.Image.Image image mode=RGB size=224x224 at 0x14542B890>, 1], [<PIL.Image.Image image mode=RGB size=224x224 at 0x14542B8F0>, 1], [<PIL.Image.Image image mode=RGB size=224x224 at 0x14542B950>, 1], [<PIL.Image.Image image mode=RGB size=224x224 at 0x14542B9B0>, 1], [<PIL.Image.Image image mode=RGB size=224x224 at 0x14542BA10>, 1], [<PIL.Image.Image image mode=RGB size=224x224 at 0x14542BA70>, 1], [<PIL.Image.Image image mode=RGB size=224x224 at 0x14542BAD0>, 1], [<PIL.Image.Image image mode=RGB size=224x224 at 0x14542BB30>, 1], [<PIL.Image.Image image mode=RGB size=224x224 at 0x14542BB90>, 1], [<PIL.Image.Image image mode=RGB size=224x224 at 0x14542BBF0>, 1], [<PIL.Image.Image image mode=RGB size=224x224 at 0x14542BC50>, 1], [<PIL.Image.Image image mode=RGB size=224x224 at 0x14542BCB0>, 1], [<PIL.Image.Image image mode=RGB size=224x224 at 0x14542BD10>, 1], [<PIL.Image.Image image mode=RGB size=224x224 at 0x14542BD70>, 1], [<PIL.Image.Image image mode=RGB size=224x224 at 0x14542BDD0>, 1], [<PIL.Image.Image image mode=RGB size=224x224 at 0x14542BE30>, 1], [<PIL.Image.Image image mode=RGB size=224x224 at 0x14542BE90>, 1], [<PIL.Image.Image image mode=RGB size=224x224 at 0x14542BEF0>, 1], [<PIL.Image.Image image mode=RGB size=224x224 at 0x14542BF50>, 1], [<PIL.Image.Image image mode=RGB size=224x224 at 0x14542BFB0>, 1], [<PIL.Image.Image image mode=RGB size=224x224 at 0x145428050>, 1], [<PIL.Image.Image image mode=RGB size=224x224 at 0x14542BF80>, 1], [<PIL.Image.Image image mode=RGB size=224x224 at 0x1454280E0>, 1], [<PIL.Image.Image image mode=RGB size=224x224 at 0x145428080>, 1], [<PIL.Image.Image image mode=RGB size=224x224 at 0x14542BFE0>, 1], [<PIL.Image.Image image mode=RGB size=224x224 at 0x14544C230>, 1], [<PIL.Image.Image image mode=RGB size=224x224 at 0x14544C290>, 1], [<PIL.Image.Image image mode=RGB size=224x224 at 0x14544C2F0>, 1], [<PIL.Image.Image image mode=RGB size=224x224 at 0x14544C350>, 1], [<PIL.Image.Image image mode=RGB size=224x224 at 0x14544C3B0>, 1], [<PIL.Image.Image image mode=RGB size=224x224 at 0x14544C410>, 1], [<PIL.Image.Image image mode=RGB size=224x224 at 0x14544C470>, 1], [<PIL.Image.Image image mode=RGB size=224x224 at 0x14544C4D0>, 1], [<PIL.Image.Image image mode=RGB size=224x224 at 0x14544C530>, 1], [<PIL.Image.Image image mode=RGB size=224x224 at 0x14544C590>, 1], [<PIL.Image.Image image mode=RGB size=224x224 at 0x14544C5F0>, 1], [<PIL.Image.Image image mode=RGB size=224x224 at 0x14544C650>, 1], [<PIL.Image.Image image mode=RGB size=224x224 at 0x14544C6B0>, 1], [<PIL.Image.Image image mode=RGB size=224x224 at 0x14544C710>, 1], [<PIL.Image.Image image mode=RGB size=224x224 at 0x14544C770>, 1], [<PIL.Image.Image image mode=RGB size=224x224 at 0x14544C7D0>, 1], [<PIL.Image.Image image mode=RGB size=224x224 at 0x14544C830>, 1], [<PIL.Image.Image image mode=RGB size=224x224 at 0x14544C890>, 1], [<PIL.Image.Image image mode=RGB size=224x224 at 0x14544C8F0>, 1], [<PIL.Image.Image image mode=RGB size=224x224 at 0x14544C950>, 1], [<PIL.Image.Image image mode=RGB size=224x224 at 0x14544C9B0>, 1], [<PIL.Image.Image image mode=RGB size=224x224 at 0x14544CA10>, 1], [<PIL.Image.Image image mode=RGB size=224x224 at 0x14544CA70>, 1], [<PIL.Image.Image image mode=RGB size=224x224 at 0x14544CAD0>, 1], [<PIL.Image.Image image mode=RGB size=224x224 at 0x14544CB30>, 1], [<PIL.Image.Image image mode=RGB size=224x224 at 0x14544CB90>, 1], [<PIL.Image.Image image mode=RGB size=224x224 at 0x14544CBF0>, 1], [<PIL.Image.Image image mode=RGB size=224x224 at 0x14544CC50>, 1], [<PIL.Image.Image image mode=RGB size=224x224 at 0x14544CCB0>, 1], [<PIL.Image.Image image mode=RGB size=224x224 at 0x14544CD10>, 1], [<PIL.Image.Image image mode=RGB size=224x224 at 0x14544CD70>, 1], [<PIL.Image.Image image mode=RGB size=224x224 at 0x14544CDD0>, 1], [<PIL.Image.Image image mode=RGB size=224x224 at 0x14544CE30>, 1], [<PIL.Image.Image image mode=RGB size=224x224 at 0x14544CE90>, 1], [<PIL.Image.Image image mode=RGB size=224x224 at 0x14544CEF0>, 1], [<PIL.Image.Image image mode=RGB size=224x224 at 0x14544CF50>, 1], [<PIL.Image.Image image mode=RGB size=224x224 at 0x14544CFB0>, 1], [<PIL.Image.Image image mode=RGB size=224x224 at 0x14544D010>, 1], [<PIL.Image.Image image mode=RGB size=224x224 at 0x14544D070>, 1], [<PIL.Image.Image image mode=RGB size=224x224 at 0x14544D0D0>, 1], [<PIL.Image.Image image mode=RGB size=224x224 at 0x14544D130>, 1], [<PIL.Image.Image image mode=RGB size=224x224 at 0x14544D190>, 1], [<PIL.Image.Image image mode=RGB size=224x224 at 0x14544D1F0>, 1], [<PIL.Image.Image image mode=RGB size=224x224 at 0x14544D250>, 1], [<PIL.Image.Image image mode=RGB size=224x224 at 0x14544D2B0>, 1], [<PIL.Image.Image image mode=RGB size=224x224 at 0x14544D310>, 1], [<PIL.Image.Image image mode=RGB size=224x224 at 0x14544D370>, 1], [<PIL.Image.Image image mode=RGB size=224x224 at 0x14544D3D0>, 1], [<PIL.Image.Image image mode=RGB size=224x224 at 0x14544D430>, 1], [<PIL.Image.Image image mode=RGB size=224x224 at 0x14544D490>, 1], [<PIL.Image.Image image mode=RGB size=224x224 at 0x14544D4F0>, 1], [<PIL.Image.Image image mode=RGB size=224x224 at 0x14544D550>, 1], [<PIL.Image.Image image mode=RGB size=224x224 at 0x14544D5B0>, 1], [<PIL.Image.Image image mode=RGB size=224x224 at 0x14544D610>, 1], [<PIL.Image.Image image mode=RGB size=224x224 at 0x14544D670>, 1], [<PIL.Image.Image image mode=RGB size=224x224 at 0x14544D6D0>, 1], [<PIL.Image.Image image mode=RGB size=224x224 at 0x14544D730>, 1], [<PIL.Image.Image image mode=RGB size=224x224 at 0x14544D790>, 1], [<PIL.Image.Image image mode=RGB size=224x224 at 0x14544D7F0>, 1], [<PIL.Image.Image image mode=RGB size=224x224 at 0x14544D850>, 1], [<PIL.Image.Image image mode=RGB size=224x224 at 0x14544D8B0>, 1], [<PIL.Image.Image image mode=RGB size=224x224 at 0x14544D910>, 1], [<PIL.Image.Image image mode=RGB size=224x224 at 0x14544D970>, 1], [<PIL.Image.Image image mode=RGB size=224x224 at 0x14544D9D0>, 1], [<PIL.Image.Image image mode=RGB size=224x224 at 0x14544DA30>, 1], [<PIL.Image.Image image mode=RGB size=224x224 at 0x14544DA90>, 1], [<PIL.Image.Image image mode=RGB size=224x224 at 0x14544DAF0>, 1], [<PIL.Image.Image image mode=RGB size=224x224 at 0x14544DB50>, 1], [<PIL.Image.Image image mode=RGB size=224x224 at 0x14544DBB0>, 1], [<PIL.Image.Image image mode=RGB size=224x224 at 0x14544DC10>, 1], [<PIL.Image.Image image mode=RGB size=224x224 at 0x14544DC70>, 1], [<PIL.Image.Image image mode=RGB size=224x224 at 0x14544DCD0>, 1], [<PIL.Image.Image image mode=RGB size=224x224 at 0x14544DD30>, 1], [<PIL.Image.Image image mode=RGB size=224x224 at 0x14544DD90>, 1], [<PIL.Image.Image image mode=RGB size=224x224 at 0x14544DDF0>, 1], [<PIL.Image.Image image mode=RGB size=224x224 at 0x14544DE50>, 1], [<PIL.Image.Image image mode=RGB size=224x224 at 0x14544DEB0>, 1], [<PIL.Image.Image image mode=RGB size=224x224 at 0x14544DF10>, 1], [<PIL.Image.Image image mode=RGB size=224x224 at 0x14544DF70>, 1], [<PIL.Image.Image image mode=RGB size=224x224 at 0x14544DFD0>, 1], [<PIL.Image.Image image mode=RGB size=224x224 at 0x14544E030>, 1], [<PIL.Image.Image image mode=RGB size=224x224 at 0x14544E090>, 1], [<PIL.Image.Image image mode=RGB size=224x224 at 0x14544E0F0>, 1], [<PIL.Image.Image image mode=RGB size=224x224 at 0x14544E150>, 1], [<PIL.Image.Image image mode=RGB size=224x224 at 0x14544E1B0>, 1], [<PIL.Image.Image image mode=RGB size=224x224 at 0x14544E210>, 1], [<PIL.Image.Image image mode=RGB size=224x224 at 0x14544E270>, 1], [<PIL.Image.Image image mode=RGB size=224x224 at 0x14544E2D0>, 1], [<PIL.Image.Image image mode=RGB size=224x224 at 0x14544E330>, 1], [<PIL.Image.Image image mode=RGB size=224x224 at 0x14544E390>, 1], [<PIL.Image.Image image mode=RGB size=224x224 at 0x14544E3F0>, 1], [<PIL.Image.Image image mode=RGB size=224x224 at 0x14544E450>, 1], [<PIL.Image.Image image mode=RGB size=224x224 at 0x14544E4B0>, 1], [<PIL.Image.Image image mode=RGB size=224x224 at 0x14544E510>, 1], [<PIL.Image.Image image mode=RGB size=224x224 at 0x14544E570>, 1], [<PIL.Image.Image image mode=RGB size=224x224 at 0x14544E5D0>, 1], [<PIL.Image.Image image mode=RGB size=224x224 at 0x14544E630>, 1], [<PIL.Image.Image image mode=RGB size=224x224 at 0x14544E690>, 1], [<PIL.Image.Image image mode=RGB size=224x224 at 0x14544E6F0>, 1], [<PIL.Image.Image image mode=RGB size=224x224 at 0x14544E750>, 1], [<PIL.Image.Image image mode=RGB size=224x224 at 0x14544E7B0>, 1], [<PIL.Image.Image image mode=RGB size=224x224 at 0x14544E810>, 1], [<PIL.Image.Image image mode=RGB size=224x224 at 0x14544E870>, 1], [<PIL.Image.Image image mode=RGB size=224x224 at 0x14544E8D0>, 1], [<PIL.Image.Image image mode=RGB size=224x224 at 0x14544E930>, 1], [<PIL.Image.Image image mode=RGB size=224x224 at 0x14544E990>, 1], [<PIL.Image.Image image mode=RGB size=224x224 at 0x14544E9F0>, 1], [<PIL.Image.Image image mode=RGB size=224x224 at 0x14544EA50>, 1], [<PIL.Image.Image image mode=RGB size=224x224 at 0x14544EAB0>, 1], [<PIL.Image.Image image mode=RGB size=224x224 at 0x14544EB10>, 1], [<PIL.Image.Image image mode=RGB size=224x224 at 0x14544EB70>, 1], [<PIL.Image.Image image mode=RGB size=224x224 at 0x14544EBD0>, 1], [<PIL.Image.Image image mode=RGB size=224x224 at 0x14544EC30>, 1], [<PIL.Image.Image image mode=RGB size=224x224 at 0x14544EC90>, 1], [<PIL.Image.Image image mode=RGB size=224x224 at 0x14544ECF0>, 1], [<PIL.Image.Image image mode=RGB size=224x224 at 0x14544ED50>, 1], [<PIL.Image.Image image mode=RGB size=224x224 at 0x14544EDB0>, 1], [<PIL.Image.Image image mode=RGB size=224x224 at 0x14544EE10>, 1], [<PIL.Image.Image image mode=RGB size=224x224 at 0x14544EE70>, 1], [<PIL.Image.Image image mode=RGB size=224x224 at 0x14544EED0>, 1], [<PIL.Image.Image image mode=RGB size=224x224 at 0x14544EF30>, 1], [<PIL.Image.Image image mode=RGB size=224x224 at 0x14544EF90>, 1], [<PIL.Image.Image image mode=RGB size=224x224 at 0x14544EFF0>, 1], [<PIL.Image.Image image mode=RGB size=224x224 at 0x14544F050>, 1], [<PIL.Image.Image image mode=RGB size=224x224 at 0x14544F0B0>, 1], [<PIL.Image.Image image mode=RGB size=224x224 at 0x14544F110>, 1], [<PIL.Image.Image image mode=RGB size=224x224 at 0x14544F170>, 1], [<PIL.Image.Image image mode=RGB size=224x224 at 0x14544F1D0>, 1], [<PIL.Image.Image image mode=RGB size=224x224 at 0x14544F230>, 1], [<PIL.Image.Image image mode=RGB size=224x224 at 0x14544F290>, 1], [<PIL.Image.Image image mode=RGB size=224x224 at 0x14544F2F0>, 1], [<PIL.Image.Image image mode=RGB size=224x224 at 0x14544F350>, 1], [<PIL.Image.Image image mode=RGB size=224x224 at 0x14544F3B0>, 1], [<PIL.Image.Image image mode=RGB size=224x224 at 0x14544F410>, 1], [<PIL.Image.Image image mode=RGB size=224x224 at 0x14544F470>, 1], [<PIL.Image.Image image mode=RGB size=224x224 at 0x14544F4D0>, 1], [<PIL.Image.Image image mode=RGB size=224x224 at 0x14544F530>, 1], [<PIL.Image.Image image mode=RGB size=224x224 at 0x14544F590>, 1], [<PIL.Image.Image image mode=RGB size=224x224 at 0x14544F5F0>, 1], [<PIL.Image.Image image mode=RGB size=224x224 at 0x14544F650>, 1], [<PIL.Image.Image image mode=RGB size=224x224 at 0x14544F6B0>, 1], [<PIL.Image.Image image mode=RGB size=224x224 at 0x14544F710>, 1], [<PIL.Image.Image image mode=RGB size=224x224 at 0x14544F770>, 1], [<PIL.Image.Image image mode=RGB size=224x224 at 0x14544F7D0>, 1], [<PIL.Image.Image image mode=RGB size=224x224 at 0x14544F830>, 1], [<PIL.Image.Image image mode=RGB size=224x224 at 0x14544F890>, 1], [<PIL.Image.Image image mode=RGB size=224x224 at 0x14544F8F0>, 1], [<PIL.Image.Image image mode=RGB size=224x224 at 0x14544F950>, 1], [<PIL.Image.Image image mode=RGB size=224x224 at 0x14544F9B0>, 1], [<PIL.Image.Image image mode=RGB size=224x224 at 0x14544FA10>, 1], [<PIL.Image.Image image mode=RGB size=224x224 at 0x14544FA70>, 1], [<PIL.Image.Image image mode=RGB size=224x224 at 0x14544FAD0>, 1], [<PIL.Image.Image image mode=RGB size=224x224 at 0x14544FB30>, 1], [<PIL.Image.Image image mode=RGB size=224x224 at 0x14544FB90>, 1], [<PIL.Image.Image image mode=RGB size=224x224 at 0x14544FBF0>, 1], [<PIL.Image.Image image mode=RGB size=224x224 at 0x14544FC50>, 1], [<PIL.Image.Image image mode=RGB size=224x224 at 0x14544FCB0>, 1], [<PIL.Image.Image image mode=RGB size=224x224 at 0x14544FD10>, 1], [<PIL.Image.Image image mode=RGB size=224x224 at 0x14544FD70>, 1], [<PIL.Image.Image image mode=RGB size=224x224 at 0x14544FDD0>, 1], [<PIL.Image.Image image mode=RGB size=224x224 at 0x14544FE30>, 1], [<PIL.Image.Image image mode=RGB size=224x224 at 0x14544FE90>, 1], [<PIL.Image.Image image mode=RGB size=224x224 at 0x14544FEF0>, 1], [<PIL.Image.Image image mode=RGB size=224x224 at 0x14544FF50>, 1], [<PIL.Image.Image image mode=RGB size=224x224 at 0x14544FFB0>, 1], [<PIL.Image.Image image mode=RGB size=224x224 at 0x14544C050>, 1], [<PIL.Image.Image image mode=RGB size=224x224 at 0x14544FF80>, 1], [<PIL.Image.Image image mode=RGB size=224x224 at 0x14544C0E0>, 1], [<PIL.Image.Image image mode=RGB size=224x224 at 0x14544C080>, 1], [<PIL.Image.Image image mode=RGB size=224x224 at 0x14544FFE0>, 1], [<PIL.Image.Image image mode=RGB size=224x224 at 0x145468230>, 1], [<PIL.Image.Image image mode=RGB size=224x224 at 0x145468290>, 1], [<PIL.Image.Image image mode=RGB size=224x224 at 0x1454682F0>, 1], [<PIL.Image.Image image mode=RGB size=224x224 at 0x145468350>, 1], [<PIL.Image.Image image mode=RGB size=224x224 at 0x1454683B0>, 1], [<PIL.Image.Image image mode=RGB size=224x224 at 0x145468410>, 1], [<PIL.Image.Image image mode=RGB size=224x224 at 0x145468470>, 1], [<PIL.Image.Image image mode=RGB size=224x224 at 0x1454684D0>, 1], [<PIL.Image.Image image mode=RGB size=224x224 at 0x145468530>, 1], [<PIL.Image.Image image mode=RGB size=224x224 at 0x145468590>, 1], [<PIL.Image.Image image mode=RGB size=224x224 at 0x1454685F0>, 1], [<PIL.Image.Image image mode=RGB size=224x224 at 0x145468650>, 1], [<PIL.Image.Image image mode=RGB size=224x224 at 0x1454686B0>, 1], [<PIL.Image.Image image mode=RGB size=224x224 at 0x145468710>, 1], [<PIL.Image.Image image mode=RGB size=224x224 at 0x145468770>, 1], [<PIL.Image.Image image mode=RGB size=224x224 at 0x1454687D0>, 1], [<PIL.Image.Image image mode=RGB size=224x224 at 0x145468830>, 1], [<PIL.Image.Image image mode=RGB size=224x224 at 0x145468890>, 1], [<PIL.Image.Image image mode=RGB size=224x224 at 0x1454688F0>, 1], [<PIL.Image.Image image mode=RGB size=224x224 at 0x145468950>, 1], [<PIL.Image.Image image mode=RGB size=224x224 at 0x1454689B0>, 1], [<PIL.Image.Image image mode=RGB size=224x224 at 0x145468A10>, 1], [<PIL.Image.Image image mode=RGB size=224x224 at 0x145468A70>, 1], [<PIL.Image.Image image mode=RGB size=224x224 at 0x145468AD0>, 1], [<PIL.Image.Image image mode=RGB size=224x224 at 0x145468B30>, 1], [<PIL.Image.Image image mode=RGB size=224x224 at 0x145468B90>, 1], [<PIL.Image.Image image mode=RGB size=224x224 at 0x145468BF0>, 1], [<PIL.Image.Image image mode=RGB size=224x224 at 0x145468C50>, 1], [<PIL.Image.Image image mode=RGB size=224x224 at 0x145468CB0>, 1], [<PIL.Image.Image image mode=RGB size=224x224 at 0x145468D10>, 1], [<PIL.Image.Image image mode=RGB size=224x224 at 0x145468D70>, 1], [<PIL.Image.Image image mode=RGB size=224x224 at 0x145468DD0>, 1], [<PIL.Image.Image image mode=RGB size=224x224 at 0x145468E30>, 1], [<PIL.Image.Image image mode=RGB size=224x224 at 0x145468E90>, 1], [<PIL.Image.Image image mode=RGB size=224x224 at 0x145468EF0>, 1], [<PIL.Image.Image image mode=RGB size=224x224 at 0x145468F50>, 1], [<PIL.Image.Image image mode=RGB size=224x224 at 0x145468FB0>, 1], [<PIL.Image.Image image mode=RGB size=224x224 at 0x145469010>, 1], [<PIL.Image.Image image mode=RGB size=224x224 at 0x145469070>, 1], [<PIL.Image.Image image mode=RGB size=224x224 at 0x1454690D0>, 1], [<PIL.Image.Image image mode=RGB size=224x224 at 0x145469130>, 1], [<PIL.Image.Image image mode=RGB size=224x224 at 0x145469190>, 1], [<PIL.Image.Image image mode=RGB size=224x224 at 0x1454691F0>, 1], [<PIL.Image.Image image mode=RGB size=224x224 at 0x145469250>, 1], [<PIL.Image.Image image mode=RGB size=224x224 at 0x1454692B0>, 1], [<PIL.Image.Image image mode=RGB size=224x224 at 0x145469310>, 1], [<PIL.Image.Image image mode=RGB size=224x224 at 0x145469370>, 1], [<PIL.Image.Image image mode=RGB size=224x224 at 0x1454693D0>, 1], [<PIL.Image.Image image mode=RGB size=224x224 at 0x145469430>, 1], [<PIL.Image.Image image mode=RGB size=224x224 at 0x145469490>, 1], [<PIL.Image.Image image mode=RGB size=224x224 at 0x1454694F0>, 1], [<PIL.Image.Image image mode=RGB size=224x224 at 0x145469550>, 1], [<PIL.Image.Image image mode=RGB size=224x224 at 0x107BF2810>, 1], [<PIL.Image.Image image mode=RGB size=224x224 at 0x145469610>, 1], [<PIL.Image.Image image mode=RGB size=224x224 at 0x145468140>, 1], [<PIL.Image.Image image mode=RGB size=224x224 at 0x1454696A0>, 1], [<PIL.Image.Image image mode=RGB size=224x224 at 0x145469700>, 1], [<PIL.Image.Image image mode=RGB size=224x224 at 0x145469760>, 1], [<PIL.Image.Image image mode=RGB size=224x224 at 0x1454697C0>, 1], [<PIL.Image.Image image mode=RGB size=224x224 at 0x145469820>, 1], [<PIL.Image.Image image mode=RGB size=224x224 at 0x145469880>, 1], [<PIL.Image.Image image mode=RGB size=224x224 at 0x1454698E0>, 1], [<PIL.Image.Image image mode=RGB size=224x224 at 0x145469940>, 1], [<PIL.Image.Image image mode=RGB size=224x224 at 0x1454699A0>, 1], [<PIL.Image.Image image mode=RGB size=224x224 at 0x145469A00>, 1], [<PIL.Image.Image image mode=RGB size=224x224 at 0x145469A60>, 1], [<PIL.Image.Image image mode=RGB size=224x224 at 0x145469AC0>, 1], [<PIL.Image.Image image mode=RGB size=224x224 at 0x145469B20>, 1], [<PIL.Image.Image image mode=RGB size=224x224 at 0x145469B80>, 1], [<PIL.Image.Image image mode=RGB size=224x224 at 0x145469BE0>, 1], [<PIL.Image.Image image mode=RGB size=224x224 at 0x145469C40>, 1], [<PIL.Image.Image image mode=RGB size=224x224 at 0x145469CA0>, 1], [<PIL.Image.Image image mode=RGB size=224x224 at 0x145469D00>, 1], [<PIL.Image.Image image mode=RGB size=224x224 at 0x145469D60>, 1], [<PIL.Image.Image image mode=RGB size=224x224 at 0x145469DC0>, 1], [<PIL.Image.Image image mode=RGB size=224x224 at 0x145469E20>, 1], [<PIL.Image.Image image mode=RGB size=224x224 at 0x145469E80>, 1], [<PIL.Image.Image image mode=RGB size=224x224 at 0x145469EE0>, 1], [<PIL.Image.Image image mode=RGB size=224x224 at 0x145469F40>, 1], [<PIL.Image.Image image mode=RGB size=224x224 at 0x145469FA0>, 1], [<PIL.Image.Image image mode=RGB size=224x224 at 0x14546A000>, 1], [<PIL.Image.Image image mode=RGB size=224x224 at 0x14546A060>, 1], [<PIL.Image.Image image mode=RGB size=224x224 at 0x14546A0C0>, 1], [<PIL.Image.Image image mode=RGB size=224x224 at 0x14546A120>, 1], [<PIL.Image.Image image mode=RGB size=224x224 at 0x14546A180>, 1], [<PIL.Image.Image image mode=RGB size=224x224 at 0x14546A1E0>, 1], [<PIL.Image.Image image mode=RGB size=224x224 at 0x14546A240>, 1], [<PIL.Image.Image image mode=RGB size=224x224 at 0x14546A2A0>, 1], [<PIL.Image.Image image mode=RGB size=224x224 at 0x14546A300>, 1], [<PIL.Image.Image image mode=RGB size=224x224 at 0x14546A360>, 1], [<PIL.Image.Image image mode=RGB size=224x224 at 0x14546A3C0>, 1], [<PIL.Image.Image image mode=RGB size=224x224 at 0x14546A420>, 1], [<PIL.Image.Image image mode=RGB size=224x224 at 0x14546A480>, 1], [<PIL.Image.Image image mode=RGB size=224x224 at 0x14546A4E0>, 1], [<PIL.Image.Image image mode=RGB size=224x224 at 0x14546A540>, 1], [<PIL.Image.Image image mode=RGB size=224x224 at 0x14546A5A0>, 1], [<PIL.Image.Image image mode=RGB size=224x224 at 0x14546A600>, 1], [<PIL.Image.Image image mode=RGB size=224x224 at 0x14546A660>, 1], [<PIL.Image.Image image mode=RGB size=224x224 at 0x14546A6C0>, 1], [<PIL.Image.Image image mode=RGB size=224x224 at 0x14546A720>, 1], [<PIL.Image.Image image mode=RGB size=224x224 at 0x14546A780>, 1], [<PIL.Image.Image image mode=RGB size=224x224 at 0x13BA42750>, 1], [<PIL.Image.Image image mode=RGB size=224x224 at 0x14546A840>, 1], [<PIL.Image.Image image mode=RGB size=224x224 at 0x1454680B0>, 1]]\n"
     ]
    }
   ],
   "source": [
    "print(data)"
   ]
  },
  {
   "cell_type": "code",
   "execution_count": 16,
   "metadata": {},
   "outputs": [
    {
     "data": {
      "text/plain": [
       "938"
      ]
     },
     "execution_count": 16,
     "metadata": {},
     "output_type": "execute_result"
    }
   ],
   "source": [
    "len(data)"
   ]
  },
  {
   "cell_type": "code",
   "execution_count": 17,
   "metadata": {},
   "outputs": [],
   "source": [
    "import random"
   ]
  },
  {
   "cell_type": "code",
   "execution_count": 18,
   "metadata": {},
   "outputs": [],
   "source": [
    "random.shuffle(data)"
   ]
  },
  {
   "cell_type": "code",
   "execution_count": 19,
   "metadata": {},
   "outputs": [],
   "source": [
    "X = []\n",
    "y = []\n",
    "for features,label in data:\n",
    "    X.append(features)\n",
    "    y.append(label)"
   ]
  },
  {
   "cell_type": "code",
   "execution_count": 20,
   "metadata": {},
   "outputs": [
    {
     "data": {
      "text/plain": [
       "938"
      ]
     },
     "execution_count": 20,
     "metadata": {},
     "output_type": "execute_result"
    }
   ],
   "source": [
    "len(X)"
   ]
  },
  {
   "cell_type": "code",
   "execution_count": 21,
   "metadata": {},
   "outputs": [
    {
     "data": {
      "text/plain": [
       "938"
      ]
     },
     "execution_count": 21,
     "metadata": {},
     "output_type": "execute_result"
    }
   ],
   "source": [
    "len(y)"
   ]
  },
  {
   "cell_type": "code",
   "execution_count": 22,
   "metadata": {},
   "outputs": [],
   "source": [
    "import numpy as np"
   ]
  },
  {
   "cell_type": "code",
   "execution_count": 23,
   "metadata": {},
   "outputs": [],
   "source": [
    "X = np.array(X)\n",
    "y = np.array(y)"
   ]
  },
  {
   "cell_type": "code",
   "execution_count": 24,
   "metadata": {},
   "outputs": [
    {
     "data": {
      "text/plain": [
       "(938, 224, 224, 3)"
      ]
     },
     "execution_count": 24,
     "metadata": {},
     "output_type": "execute_result"
    }
   ],
   "source": [
    "X.shape"
   ]
  },
  {
   "cell_type": "code",
   "execution_count": 25,
   "metadata": {},
   "outputs": [
    {
     "data": {
      "text/plain": [
       "(938,)"
      ]
     },
     "execution_count": 25,
     "metadata": {},
     "output_type": "execute_result"
    }
   ],
   "source": [
    "y.shape"
   ]
  },
  {
   "cell_type": "code",
   "execution_count": 26,
   "metadata": {},
   "outputs": [
    {
     "data": {
      "text/plain": [
       "array([1, 1, 0, 0, 1, 0, 0, 0, 0, 1, 1, 1, 0, 0, 0, 0, 0, 0, 1, 0, 1, 1,\n",
       "       0, 1, 1, 0, 0, 1, 1, 0, 1, 1, 0, 1, 1, 0, 1, 1, 1, 1, 0, 1, 0, 1,\n",
       "       1, 1, 0, 1, 0, 1, 1, 1, 1, 0, 0, 0, 1, 0, 0, 1, 0, 0, 1, 1, 1, 1,\n",
       "       1, 0, 1, 1, 1, 1, 1, 1, 0, 1, 0, 0, 0, 1, 1, 1, 1, 0, 1, 1, 1, 1,\n",
       "       1, 0, 1, 1, 0, 0, 1, 1, 0, 1, 0, 1, 0, 0, 1, 1, 1, 1, 0, 1, 1, 1,\n",
       "       1, 1, 1, 1, 0, 1, 1, 0, 0, 0, 1, 0, 1, 0, 0, 1, 1, 1, 0, 0, 0, 0,\n",
       "       1, 1, 0, 0, 1, 1, 0, 0, 1, 0, 1, 0, 1, 1, 0, 1, 0, 1, 1, 1, 1, 1,\n",
       "       0, 1, 1, 1, 0, 0, 1, 0, 1, 1, 1, 0, 1, 1, 0, 1, 0, 1, 0, 1, 1, 0,\n",
       "       1, 0, 1, 1, 0, 0, 1, 1, 0, 1, 1, 0, 0, 0, 0, 1, 0, 1, 1, 1, 1, 1,\n",
       "       0, 1, 0, 1, 0, 1, 1, 0, 0, 1, 0, 0, 0, 0, 0, 0, 1, 0, 1, 0, 1, 0,\n",
       "       1, 1, 1, 1, 0, 0, 0, 0, 1, 0, 0, 1, 1, 1, 1, 0, 0, 0, 0, 0, 1, 1,\n",
       "       0, 1, 0, 0, 1, 1, 1, 0, 1, 1, 0, 1, 0, 1, 1, 1, 1, 0, 1, 1, 0, 1,\n",
       "       1, 0, 0, 0, 0, 1, 1, 1, 0, 1, 1, 0, 0, 0, 1, 1, 0, 0, 0, 0, 0, 1,\n",
       "       0, 1, 0, 0, 1, 1, 1, 1, 1, 0, 1, 1, 1, 1, 0, 1, 1, 0, 1, 1, 1, 0,\n",
       "       1, 1, 1, 0, 1, 1, 0, 1, 0, 0, 0, 1, 1, 1, 1, 1, 1, 1, 0, 0, 0, 0,\n",
       "       0, 1, 1, 1, 0, 0, 0, 1, 0, 0, 0, 1, 0, 1, 1, 1, 0, 0, 1, 0, 0, 1,\n",
       "       1, 1, 1, 1, 1, 1, 1, 1, 1, 1, 1, 0, 1, 1, 1, 0, 0, 1, 0, 0, 0, 1,\n",
       "       1, 1, 1, 0, 0, 0, 0, 0, 0, 1, 1, 0, 0, 1, 1, 0, 1, 0, 1, 0, 0, 0,\n",
       "       1, 0, 0, 0, 1, 0, 1, 1, 0, 0, 0, 0, 1, 0, 1, 1, 0, 0, 0, 1, 0, 0,\n",
       "       1, 1, 0, 1, 0, 1, 0, 0, 0, 1, 0, 0, 0, 1, 1, 1, 0, 0, 1, 1, 0, 1,\n",
       "       1, 1, 1, 1, 1, 0, 1, 0, 1, 1, 1, 0, 0, 1, 1, 0, 1, 0, 0, 1, 1, 1,\n",
       "       0, 1, 0, 0, 0, 0, 0, 1, 0, 0, 0, 1, 0, 1, 0, 0, 0, 1, 0, 1, 1, 1,\n",
       "       0, 1, 0, 0, 0, 1, 1, 1, 0, 1, 0, 1, 0, 0, 0, 0, 1, 0, 1, 0, 1, 0,\n",
       "       1, 0, 1, 1, 0, 0, 0, 1, 0, 0, 0, 1, 1, 0, 1, 1, 1, 1, 1, 1, 1, 1,\n",
       "       1, 0, 1, 0, 0, 1, 0, 1, 0, 1, 0, 1, 0, 0, 1, 0, 1, 1, 0, 1, 1, 1,\n",
       "       1, 0, 1, 1, 1, 1, 0, 1, 0, 1, 1, 0, 1, 1, 1, 1, 0, 1, 1, 1, 1, 0,\n",
       "       0, 0, 1, 0, 1, 1, 0, 0, 0, 0, 0, 1, 1, 1, 1, 0, 1, 1, 0, 1, 1, 0,\n",
       "       0, 1, 0, 0, 1, 1, 1, 1, 1, 0, 0, 1, 0, 0, 1, 1, 1, 0, 0, 0, 0, 1,\n",
       "       1, 0, 1, 0, 0, 0, 1, 1, 1, 0, 0, 1, 1, 1, 1, 0, 1, 0, 0, 0, 0, 1,\n",
       "       1, 1, 1, 1, 0, 1, 1, 1, 0, 0, 1, 0, 1, 1, 1, 0, 1, 1, 1, 0, 0, 1,\n",
       "       0, 0, 0, 0, 1, 0, 1, 1, 1, 1, 0, 0, 0, 1, 1, 0, 1, 0, 0, 0, 1, 1,\n",
       "       0, 0, 0, 0, 1, 0, 0, 0, 0, 0, 1, 1, 1, 0, 1, 0, 0, 0, 1, 1, 1, 0,\n",
       "       0, 1, 0, 1, 1, 0, 1, 0, 1, 0, 0, 1, 0, 1, 1, 0, 0, 1, 0, 1, 1, 0,\n",
       "       1, 0, 1, 1, 0, 0, 1, 1, 0, 1, 1, 1, 0, 1, 1, 0, 1, 1, 0, 0, 1, 0,\n",
       "       1, 1, 1, 0, 0, 1, 0, 0, 0, 1, 1, 1, 1, 1, 1, 0, 1, 1, 1, 0, 0, 1,\n",
       "       1, 1, 1, 0, 0, 1, 1, 0, 1, 0, 1, 1, 0, 1, 1, 1, 0, 1, 1, 1, 1, 1,\n",
       "       1, 0, 0, 1, 0, 1, 0, 0, 0, 1, 1, 0, 1, 1, 1, 1, 1, 0, 1, 1, 1, 0,\n",
       "       0, 0, 1, 0, 1, 0, 0, 1, 0, 0, 1, 0, 0, 0, 1, 1, 1, 0, 0, 0, 1, 1,\n",
       "       0, 0, 0, 1, 1, 0, 1, 1, 0, 1, 0, 0, 1, 1, 1, 1, 0, 1, 0, 1, 0, 1,\n",
       "       0, 1, 1, 1, 0, 1, 1, 0, 0, 1, 0, 0, 0, 1, 0, 1, 1, 1, 1, 0, 1, 1,\n",
       "       1, 1, 1, 1, 0, 1, 1, 0, 0, 0, 1, 1, 0, 0, 1, 1, 1, 1, 0, 0, 0, 1,\n",
       "       1, 0, 1, 1, 1, 1, 1, 1, 1, 0, 0, 1, 1, 1, 0, 1, 0, 0, 1, 0, 1, 0,\n",
       "       1, 0, 1, 0, 1, 1, 0, 0, 0, 0, 0, 1, 1, 1])"
      ]
     },
     "execution_count": 26,
     "metadata": {},
     "output_type": "execute_result"
    }
   ],
   "source": [
    "y"
   ]
  },
  {
   "cell_type": "code",
   "execution_count": 27,
   "metadata": {},
   "outputs": [],
   "source": [
    "X=X/255"
   ]
  },
  {
   "cell_type": "code",
   "execution_count": 28,
   "metadata": {},
   "outputs": [
    {
     "data": {
      "text/plain": [
       "array([[[0.21568627, 0.5372549 , 0.24705882],\n",
       "        [0.21568627, 0.5372549 , 0.24705882],\n",
       "        [0.21568627, 0.5372549 , 0.24705882],\n",
       "        ...,\n",
       "        [0.21568627, 0.52941176, 0.25098039],\n",
       "        [0.21568627, 0.52941176, 0.25098039],\n",
       "        [0.21568627, 0.52941176, 0.25098039]],\n",
       "\n",
       "       [[0.21568627, 0.5372549 , 0.24705882],\n",
       "        [0.21568627, 0.5372549 , 0.24705882],\n",
       "        [0.21568627, 0.5372549 , 0.24705882],\n",
       "        ...,\n",
       "        [0.21568627, 0.52941176, 0.25098039],\n",
       "        [0.21568627, 0.52941176, 0.25098039],\n",
       "        [0.21568627, 0.52941176, 0.25098039]],\n",
       "\n",
       "       [[0.21568627, 0.5372549 , 0.24705882],\n",
       "        [0.21568627, 0.5372549 , 0.24705882],\n",
       "        [0.21568627, 0.5372549 , 0.24705882],\n",
       "        ...,\n",
       "        [0.21568627, 0.52941176, 0.25098039],\n",
       "        [0.21568627, 0.52941176, 0.25098039],\n",
       "        [0.21568627, 0.52941176, 0.25098039]],\n",
       "\n",
       "       ...,\n",
       "\n",
       "       [[0.56862745, 0.70980392, 0.84313725],\n",
       "        [0.55294118, 0.69411765, 0.81568627],\n",
       "        [0.55686275, 0.69803922, 0.8       ],\n",
       "        ...,\n",
       "        [0.61960784, 0.75686275, 0.80392157],\n",
       "        [0.6       , 0.7254902 , 0.79215686],\n",
       "        [0.60784314, 0.73333333, 0.81568627]],\n",
       "\n",
       "       [[0.56078431, 0.70196078, 0.83137255],\n",
       "        [0.56078431, 0.70588235, 0.81568627],\n",
       "        [0.52156863, 0.6627451 , 0.76078431],\n",
       "        ...,\n",
       "        [0.58039216, 0.70196078, 0.76470588],\n",
       "        [0.57254902, 0.69411765, 0.76862745],\n",
       "        [0.58431373, 0.70588235, 0.79215686]],\n",
       "\n",
       "       [[0.55294118, 0.69411765, 0.81960784],\n",
       "        [0.54509804, 0.69019608, 0.8       ],\n",
       "        [0.51372549, 0.65490196, 0.75686275],\n",
       "        ...,\n",
       "        [0.58039216, 0.69411765, 0.75686275],\n",
       "        [0.55294118, 0.67058824, 0.74509804],\n",
       "        [0.58039216, 0.70196078, 0.78431373]]])"
      ]
     },
     "execution_count": 28,
     "metadata": {},
     "output_type": "execute_result"
    }
   ],
   "source": [
    "X[0]"
   ]
  },
  {
   "cell_type": "code",
   "execution_count": 29,
   "metadata": {},
   "outputs": [],
   "source": [
    "from sklearn.model_selection import train_test_split\n",
    "X_train,X_test,y_train,y_test = train_test_split(X,y,test_size = 0.2)"
   ]
  },
  {
   "cell_type": "code",
   "execution_count": 30,
   "metadata": {},
   "outputs": [
    {
     "data": {
      "text/plain": [
       "(750, 224, 224, 3)"
      ]
     },
     "execution_count": 30,
     "metadata": {},
     "output_type": "execute_result"
    }
   ],
   "source": [
    "X_train.shape"
   ]
  },
  {
   "cell_type": "code",
   "execution_count": 31,
   "metadata": {},
   "outputs": [
    {
     "data": {
      "text/plain": [
       "(188, 224, 224, 3)"
      ]
     },
     "execution_count": 31,
     "metadata": {},
     "output_type": "execute_result"
    }
   ],
   "source": [
    "X_test.shape"
   ]
  },
  {
   "cell_type": "code",
   "execution_count": 32,
   "metadata": {},
   "outputs": [],
   "source": [
    "from keras.applications.vgg16 import VGG16\n",
    "\n",
    "# Specify the path to the local weights file\n",
    "weights_path = '/path/to/vgg16_weights_tf_dim_ordering_tf_kernels.h5'"
   ]
  },
  {
   "cell_type": "code",
   "execution_count": 33,
   "metadata": {},
   "outputs": [],
   "source": [
    "from keras.applications import VGG16\n",
    "\n",
    "# Initialize VGG16 model with random weights\n",
    "vgg = VGG16(weights=None)\n"
   ]
  },
  {
   "cell_type": "code",
   "execution_count": 34,
   "metadata": {},
   "outputs": [],
   "source": [
    "from keras.applications import VGG16\n",
    "\n",
    "# Path to the weights file\n",
    "weights_path = '/Users/taruni/Desktop/HEY/project_ml using cnn/vgg16_weights_tf_dim_ordering_tf_kernels.h5'\n",
    "\n",
    "# Initialize VGG16 model with specific weights file\n",
    "vgg = VGG16(weights=weights_path)\n"
   ]
  },
  {
   "cell_type": "code",
   "execution_count": 35,
   "metadata": {},
   "outputs": [
    {
     "data": {
      "text/html": [
       "<pre style=\"white-space:pre;overflow-x:auto;line-height:normal;font-family:Menlo,'DejaVu Sans Mono',consolas,'Courier New',monospace\"><span style=\"font-weight: bold\">Model: \"vgg16\"</span>\n",
       "</pre>\n"
      ],
      "text/plain": [
       "\u001b[1mModel: \"vgg16\"\u001b[0m\n"
      ]
     },
     "metadata": {},
     "output_type": "display_data"
    },
    {
     "data": {
      "text/html": [
       "<pre style=\"white-space:pre;overflow-x:auto;line-height:normal;font-family:Menlo,'DejaVu Sans Mono',consolas,'Courier New',monospace\">┏━━━━━━━━━━━━━━━━━━━━━━━━━━━━━━━━━┳━━━━━━━━━━━━━━━━━━━━━━━━┳━━━━━━━━━━━━━━━┓\n",
       "┃<span style=\"font-weight: bold\"> Layer (type)                    </span>┃<span style=\"font-weight: bold\"> Output Shape           </span>┃<span style=\"font-weight: bold\">       Param # </span>┃\n",
       "┡━━━━━━━━━━━━━━━━━━━━━━━━━━━━━━━━━╇━━━━━━━━━━━━━━━━━━━━━━━━╇━━━━━━━━━━━━━━━┩\n",
       "│ input_layer_1 (<span style=\"color: #0087ff; text-decoration-color: #0087ff\">InputLayer</span>)      │ (<span style=\"color: #00d7ff; text-decoration-color: #00d7ff\">None</span>, <span style=\"color: #00af00; text-decoration-color: #00af00\">224</span>, <span style=\"color: #00af00; text-decoration-color: #00af00\">224</span>, <span style=\"color: #00af00; text-decoration-color: #00af00\">3</span>)    │             <span style=\"color: #00af00; text-decoration-color: #00af00\">0</span> │\n",
       "├─────────────────────────────────┼────────────────────────┼───────────────┤\n",
       "│ block1_conv1 (<span style=\"color: #0087ff; text-decoration-color: #0087ff\">Conv2D</span>)           │ (<span style=\"color: #00d7ff; text-decoration-color: #00d7ff\">None</span>, <span style=\"color: #00af00; text-decoration-color: #00af00\">224</span>, <span style=\"color: #00af00; text-decoration-color: #00af00\">224</span>, <span style=\"color: #00af00; text-decoration-color: #00af00\">64</span>)   │         <span style=\"color: #00af00; text-decoration-color: #00af00\">1,792</span> │\n",
       "├─────────────────────────────────┼────────────────────────┼───────────────┤\n",
       "│ block1_conv2 (<span style=\"color: #0087ff; text-decoration-color: #0087ff\">Conv2D</span>)           │ (<span style=\"color: #00d7ff; text-decoration-color: #00d7ff\">None</span>, <span style=\"color: #00af00; text-decoration-color: #00af00\">224</span>, <span style=\"color: #00af00; text-decoration-color: #00af00\">224</span>, <span style=\"color: #00af00; text-decoration-color: #00af00\">64</span>)   │        <span style=\"color: #00af00; text-decoration-color: #00af00\">36,928</span> │\n",
       "├─────────────────────────────────┼────────────────────────┼───────────────┤\n",
       "│ block1_pool (<span style=\"color: #0087ff; text-decoration-color: #0087ff\">MaxPooling2D</span>)      │ (<span style=\"color: #00d7ff; text-decoration-color: #00d7ff\">None</span>, <span style=\"color: #00af00; text-decoration-color: #00af00\">112</span>, <span style=\"color: #00af00; text-decoration-color: #00af00\">112</span>, <span style=\"color: #00af00; text-decoration-color: #00af00\">64</span>)   │             <span style=\"color: #00af00; text-decoration-color: #00af00\">0</span> │\n",
       "├─────────────────────────────────┼────────────────────────┼───────────────┤\n",
       "│ block2_conv1 (<span style=\"color: #0087ff; text-decoration-color: #0087ff\">Conv2D</span>)           │ (<span style=\"color: #00d7ff; text-decoration-color: #00d7ff\">None</span>, <span style=\"color: #00af00; text-decoration-color: #00af00\">112</span>, <span style=\"color: #00af00; text-decoration-color: #00af00\">112</span>, <span style=\"color: #00af00; text-decoration-color: #00af00\">128</span>)  │        <span style=\"color: #00af00; text-decoration-color: #00af00\">73,856</span> │\n",
       "├─────────────────────────────────┼────────────────────────┼───────────────┤\n",
       "│ block2_conv2 (<span style=\"color: #0087ff; text-decoration-color: #0087ff\">Conv2D</span>)           │ (<span style=\"color: #00d7ff; text-decoration-color: #00d7ff\">None</span>, <span style=\"color: #00af00; text-decoration-color: #00af00\">112</span>, <span style=\"color: #00af00; text-decoration-color: #00af00\">112</span>, <span style=\"color: #00af00; text-decoration-color: #00af00\">128</span>)  │       <span style=\"color: #00af00; text-decoration-color: #00af00\">147,584</span> │\n",
       "├─────────────────────────────────┼────────────────────────┼───────────────┤\n",
       "│ block2_pool (<span style=\"color: #0087ff; text-decoration-color: #0087ff\">MaxPooling2D</span>)      │ (<span style=\"color: #00d7ff; text-decoration-color: #00d7ff\">None</span>, <span style=\"color: #00af00; text-decoration-color: #00af00\">56</span>, <span style=\"color: #00af00; text-decoration-color: #00af00\">56</span>, <span style=\"color: #00af00; text-decoration-color: #00af00\">128</span>)    │             <span style=\"color: #00af00; text-decoration-color: #00af00\">0</span> │\n",
       "├─────────────────────────────────┼────────────────────────┼───────────────┤\n",
       "│ block3_conv1 (<span style=\"color: #0087ff; text-decoration-color: #0087ff\">Conv2D</span>)           │ (<span style=\"color: #00d7ff; text-decoration-color: #00d7ff\">None</span>, <span style=\"color: #00af00; text-decoration-color: #00af00\">56</span>, <span style=\"color: #00af00; text-decoration-color: #00af00\">56</span>, <span style=\"color: #00af00; text-decoration-color: #00af00\">256</span>)    │       <span style=\"color: #00af00; text-decoration-color: #00af00\">295,168</span> │\n",
       "├─────────────────────────────────┼────────────────────────┼───────────────┤\n",
       "│ block3_conv2 (<span style=\"color: #0087ff; text-decoration-color: #0087ff\">Conv2D</span>)           │ (<span style=\"color: #00d7ff; text-decoration-color: #00d7ff\">None</span>, <span style=\"color: #00af00; text-decoration-color: #00af00\">56</span>, <span style=\"color: #00af00; text-decoration-color: #00af00\">56</span>, <span style=\"color: #00af00; text-decoration-color: #00af00\">256</span>)    │       <span style=\"color: #00af00; text-decoration-color: #00af00\">590,080</span> │\n",
       "├─────────────────────────────────┼────────────────────────┼───────────────┤\n",
       "│ block3_conv3 (<span style=\"color: #0087ff; text-decoration-color: #0087ff\">Conv2D</span>)           │ (<span style=\"color: #00d7ff; text-decoration-color: #00d7ff\">None</span>, <span style=\"color: #00af00; text-decoration-color: #00af00\">56</span>, <span style=\"color: #00af00; text-decoration-color: #00af00\">56</span>, <span style=\"color: #00af00; text-decoration-color: #00af00\">256</span>)    │       <span style=\"color: #00af00; text-decoration-color: #00af00\">590,080</span> │\n",
       "├─────────────────────────────────┼────────────────────────┼───────────────┤\n",
       "│ block3_pool (<span style=\"color: #0087ff; text-decoration-color: #0087ff\">MaxPooling2D</span>)      │ (<span style=\"color: #00d7ff; text-decoration-color: #00d7ff\">None</span>, <span style=\"color: #00af00; text-decoration-color: #00af00\">28</span>, <span style=\"color: #00af00; text-decoration-color: #00af00\">28</span>, <span style=\"color: #00af00; text-decoration-color: #00af00\">256</span>)    │             <span style=\"color: #00af00; text-decoration-color: #00af00\">0</span> │\n",
       "├─────────────────────────────────┼────────────────────────┼───────────────┤\n",
       "│ block4_conv1 (<span style=\"color: #0087ff; text-decoration-color: #0087ff\">Conv2D</span>)           │ (<span style=\"color: #00d7ff; text-decoration-color: #00d7ff\">None</span>, <span style=\"color: #00af00; text-decoration-color: #00af00\">28</span>, <span style=\"color: #00af00; text-decoration-color: #00af00\">28</span>, <span style=\"color: #00af00; text-decoration-color: #00af00\">512</span>)    │     <span style=\"color: #00af00; text-decoration-color: #00af00\">1,180,160</span> │\n",
       "├─────────────────────────────────┼────────────────────────┼───────────────┤\n",
       "│ block4_conv2 (<span style=\"color: #0087ff; text-decoration-color: #0087ff\">Conv2D</span>)           │ (<span style=\"color: #00d7ff; text-decoration-color: #00d7ff\">None</span>, <span style=\"color: #00af00; text-decoration-color: #00af00\">28</span>, <span style=\"color: #00af00; text-decoration-color: #00af00\">28</span>, <span style=\"color: #00af00; text-decoration-color: #00af00\">512</span>)    │     <span style=\"color: #00af00; text-decoration-color: #00af00\">2,359,808</span> │\n",
       "├─────────────────────────────────┼────────────────────────┼───────────────┤\n",
       "│ block4_conv3 (<span style=\"color: #0087ff; text-decoration-color: #0087ff\">Conv2D</span>)           │ (<span style=\"color: #00d7ff; text-decoration-color: #00d7ff\">None</span>, <span style=\"color: #00af00; text-decoration-color: #00af00\">28</span>, <span style=\"color: #00af00; text-decoration-color: #00af00\">28</span>, <span style=\"color: #00af00; text-decoration-color: #00af00\">512</span>)    │     <span style=\"color: #00af00; text-decoration-color: #00af00\">2,359,808</span> │\n",
       "├─────────────────────────────────┼────────────────────────┼───────────────┤\n",
       "│ block4_pool (<span style=\"color: #0087ff; text-decoration-color: #0087ff\">MaxPooling2D</span>)      │ (<span style=\"color: #00d7ff; text-decoration-color: #00d7ff\">None</span>, <span style=\"color: #00af00; text-decoration-color: #00af00\">14</span>, <span style=\"color: #00af00; text-decoration-color: #00af00\">14</span>, <span style=\"color: #00af00; text-decoration-color: #00af00\">512</span>)    │             <span style=\"color: #00af00; text-decoration-color: #00af00\">0</span> │\n",
       "├─────────────────────────────────┼────────────────────────┼───────────────┤\n",
       "│ block5_conv1 (<span style=\"color: #0087ff; text-decoration-color: #0087ff\">Conv2D</span>)           │ (<span style=\"color: #00d7ff; text-decoration-color: #00d7ff\">None</span>, <span style=\"color: #00af00; text-decoration-color: #00af00\">14</span>, <span style=\"color: #00af00; text-decoration-color: #00af00\">14</span>, <span style=\"color: #00af00; text-decoration-color: #00af00\">512</span>)    │     <span style=\"color: #00af00; text-decoration-color: #00af00\">2,359,808</span> │\n",
       "├─────────────────────────────────┼────────────────────────┼───────────────┤\n",
       "│ block5_conv2 (<span style=\"color: #0087ff; text-decoration-color: #0087ff\">Conv2D</span>)           │ (<span style=\"color: #00d7ff; text-decoration-color: #00d7ff\">None</span>, <span style=\"color: #00af00; text-decoration-color: #00af00\">14</span>, <span style=\"color: #00af00; text-decoration-color: #00af00\">14</span>, <span style=\"color: #00af00; text-decoration-color: #00af00\">512</span>)    │     <span style=\"color: #00af00; text-decoration-color: #00af00\">2,359,808</span> │\n",
       "├─────────────────────────────────┼────────────────────────┼───────────────┤\n",
       "│ block5_conv3 (<span style=\"color: #0087ff; text-decoration-color: #0087ff\">Conv2D</span>)           │ (<span style=\"color: #00d7ff; text-decoration-color: #00d7ff\">None</span>, <span style=\"color: #00af00; text-decoration-color: #00af00\">14</span>, <span style=\"color: #00af00; text-decoration-color: #00af00\">14</span>, <span style=\"color: #00af00; text-decoration-color: #00af00\">512</span>)    │     <span style=\"color: #00af00; text-decoration-color: #00af00\">2,359,808</span> │\n",
       "├─────────────────────────────────┼────────────────────────┼───────────────┤\n",
       "│ block5_pool (<span style=\"color: #0087ff; text-decoration-color: #0087ff\">MaxPooling2D</span>)      │ (<span style=\"color: #00d7ff; text-decoration-color: #00d7ff\">None</span>, <span style=\"color: #00af00; text-decoration-color: #00af00\">7</span>, <span style=\"color: #00af00; text-decoration-color: #00af00\">7</span>, <span style=\"color: #00af00; text-decoration-color: #00af00\">512</span>)      │             <span style=\"color: #00af00; text-decoration-color: #00af00\">0</span> │\n",
       "├─────────────────────────────────┼────────────────────────┼───────────────┤\n",
       "│ flatten (<span style=\"color: #0087ff; text-decoration-color: #0087ff\">Flatten</span>)               │ (<span style=\"color: #00d7ff; text-decoration-color: #00d7ff\">None</span>, <span style=\"color: #00af00; text-decoration-color: #00af00\">25088</span>)          │             <span style=\"color: #00af00; text-decoration-color: #00af00\">0</span> │\n",
       "├─────────────────────────────────┼────────────────────────┼───────────────┤\n",
       "│ fc1 (<span style=\"color: #0087ff; text-decoration-color: #0087ff\">Dense</span>)                     │ (<span style=\"color: #00d7ff; text-decoration-color: #00d7ff\">None</span>, <span style=\"color: #00af00; text-decoration-color: #00af00\">4096</span>)           │   <span style=\"color: #00af00; text-decoration-color: #00af00\">102,764,544</span> │\n",
       "├─────────────────────────────────┼────────────────────────┼───────────────┤\n",
       "│ fc2 (<span style=\"color: #0087ff; text-decoration-color: #0087ff\">Dense</span>)                     │ (<span style=\"color: #00d7ff; text-decoration-color: #00d7ff\">None</span>, <span style=\"color: #00af00; text-decoration-color: #00af00\">4096</span>)           │    <span style=\"color: #00af00; text-decoration-color: #00af00\">16,781,312</span> │\n",
       "├─────────────────────────────────┼────────────────────────┼───────────────┤\n",
       "│ predictions (<span style=\"color: #0087ff; text-decoration-color: #0087ff\">Dense</span>)             │ (<span style=\"color: #00d7ff; text-decoration-color: #00d7ff\">None</span>, <span style=\"color: #00af00; text-decoration-color: #00af00\">1000</span>)           │     <span style=\"color: #00af00; text-decoration-color: #00af00\">4,097,000</span> │\n",
       "└─────────────────────────────────┴────────────────────────┴───────────────┘\n",
       "</pre>\n"
      ],
      "text/plain": [
       "┏━━━━━━━━━━━━━━━━━━━━━━━━━━━━━━━━━┳━━━━━━━━━━━━━━━━━━━━━━━━┳━━━━━━━━━━━━━━━┓\n",
       "┃\u001b[1m \u001b[0m\u001b[1mLayer (type)                   \u001b[0m\u001b[1m \u001b[0m┃\u001b[1m \u001b[0m\u001b[1mOutput Shape          \u001b[0m\u001b[1m \u001b[0m┃\u001b[1m \u001b[0m\u001b[1m      Param #\u001b[0m\u001b[1m \u001b[0m┃\n",
       "┡━━━━━━━━━━━━━━━━━━━━━━━━━━━━━━━━━╇━━━━━━━━━━━━━━━━━━━━━━━━╇━━━━━━━━━━━━━━━┩\n",
       "│ input_layer_1 (\u001b[38;5;33mInputLayer\u001b[0m)      │ (\u001b[38;5;45mNone\u001b[0m, \u001b[38;5;34m224\u001b[0m, \u001b[38;5;34m224\u001b[0m, \u001b[38;5;34m3\u001b[0m)    │             \u001b[38;5;34m0\u001b[0m │\n",
       "├─────────────────────────────────┼────────────────────────┼───────────────┤\n",
       "│ block1_conv1 (\u001b[38;5;33mConv2D\u001b[0m)           │ (\u001b[38;5;45mNone\u001b[0m, \u001b[38;5;34m224\u001b[0m, \u001b[38;5;34m224\u001b[0m, \u001b[38;5;34m64\u001b[0m)   │         \u001b[38;5;34m1,792\u001b[0m │\n",
       "├─────────────────────────────────┼────────────────────────┼───────────────┤\n",
       "│ block1_conv2 (\u001b[38;5;33mConv2D\u001b[0m)           │ (\u001b[38;5;45mNone\u001b[0m, \u001b[38;5;34m224\u001b[0m, \u001b[38;5;34m224\u001b[0m, \u001b[38;5;34m64\u001b[0m)   │        \u001b[38;5;34m36,928\u001b[0m │\n",
       "├─────────────────────────────────┼────────────────────────┼───────────────┤\n",
       "│ block1_pool (\u001b[38;5;33mMaxPooling2D\u001b[0m)      │ (\u001b[38;5;45mNone\u001b[0m, \u001b[38;5;34m112\u001b[0m, \u001b[38;5;34m112\u001b[0m, \u001b[38;5;34m64\u001b[0m)   │             \u001b[38;5;34m0\u001b[0m │\n",
       "├─────────────────────────────────┼────────────────────────┼───────────────┤\n",
       "│ block2_conv1 (\u001b[38;5;33mConv2D\u001b[0m)           │ (\u001b[38;5;45mNone\u001b[0m, \u001b[38;5;34m112\u001b[0m, \u001b[38;5;34m112\u001b[0m, \u001b[38;5;34m128\u001b[0m)  │        \u001b[38;5;34m73,856\u001b[0m │\n",
       "├─────────────────────────────────┼────────────────────────┼───────────────┤\n",
       "│ block2_conv2 (\u001b[38;5;33mConv2D\u001b[0m)           │ (\u001b[38;5;45mNone\u001b[0m, \u001b[38;5;34m112\u001b[0m, \u001b[38;5;34m112\u001b[0m, \u001b[38;5;34m128\u001b[0m)  │       \u001b[38;5;34m147,584\u001b[0m │\n",
       "├─────────────────────────────────┼────────────────────────┼───────────────┤\n",
       "│ block2_pool (\u001b[38;5;33mMaxPooling2D\u001b[0m)      │ (\u001b[38;5;45mNone\u001b[0m, \u001b[38;5;34m56\u001b[0m, \u001b[38;5;34m56\u001b[0m, \u001b[38;5;34m128\u001b[0m)    │             \u001b[38;5;34m0\u001b[0m │\n",
       "├─────────────────────────────────┼────────────────────────┼───────────────┤\n",
       "│ block3_conv1 (\u001b[38;5;33mConv2D\u001b[0m)           │ (\u001b[38;5;45mNone\u001b[0m, \u001b[38;5;34m56\u001b[0m, \u001b[38;5;34m56\u001b[0m, \u001b[38;5;34m256\u001b[0m)    │       \u001b[38;5;34m295,168\u001b[0m │\n",
       "├─────────────────────────────────┼────────────────────────┼───────────────┤\n",
       "│ block3_conv2 (\u001b[38;5;33mConv2D\u001b[0m)           │ (\u001b[38;5;45mNone\u001b[0m, \u001b[38;5;34m56\u001b[0m, \u001b[38;5;34m56\u001b[0m, \u001b[38;5;34m256\u001b[0m)    │       \u001b[38;5;34m590,080\u001b[0m │\n",
       "├─────────────────────────────────┼────────────────────────┼───────────────┤\n",
       "│ block3_conv3 (\u001b[38;5;33mConv2D\u001b[0m)           │ (\u001b[38;5;45mNone\u001b[0m, \u001b[38;5;34m56\u001b[0m, \u001b[38;5;34m56\u001b[0m, \u001b[38;5;34m256\u001b[0m)    │       \u001b[38;5;34m590,080\u001b[0m │\n",
       "├─────────────────────────────────┼────────────────────────┼───────────────┤\n",
       "│ block3_pool (\u001b[38;5;33mMaxPooling2D\u001b[0m)      │ (\u001b[38;5;45mNone\u001b[0m, \u001b[38;5;34m28\u001b[0m, \u001b[38;5;34m28\u001b[0m, \u001b[38;5;34m256\u001b[0m)    │             \u001b[38;5;34m0\u001b[0m │\n",
       "├─────────────────────────────────┼────────────────────────┼───────────────┤\n",
       "│ block4_conv1 (\u001b[38;5;33mConv2D\u001b[0m)           │ (\u001b[38;5;45mNone\u001b[0m, \u001b[38;5;34m28\u001b[0m, \u001b[38;5;34m28\u001b[0m, \u001b[38;5;34m512\u001b[0m)    │     \u001b[38;5;34m1,180,160\u001b[0m │\n",
       "├─────────────────────────────────┼────────────────────────┼───────────────┤\n",
       "│ block4_conv2 (\u001b[38;5;33mConv2D\u001b[0m)           │ (\u001b[38;5;45mNone\u001b[0m, \u001b[38;5;34m28\u001b[0m, \u001b[38;5;34m28\u001b[0m, \u001b[38;5;34m512\u001b[0m)    │     \u001b[38;5;34m2,359,808\u001b[0m │\n",
       "├─────────────────────────────────┼────────────────────────┼───────────────┤\n",
       "│ block4_conv3 (\u001b[38;5;33mConv2D\u001b[0m)           │ (\u001b[38;5;45mNone\u001b[0m, \u001b[38;5;34m28\u001b[0m, \u001b[38;5;34m28\u001b[0m, \u001b[38;5;34m512\u001b[0m)    │     \u001b[38;5;34m2,359,808\u001b[0m │\n",
       "├─────────────────────────────────┼────────────────────────┼───────────────┤\n",
       "│ block4_pool (\u001b[38;5;33mMaxPooling2D\u001b[0m)      │ (\u001b[38;5;45mNone\u001b[0m, \u001b[38;5;34m14\u001b[0m, \u001b[38;5;34m14\u001b[0m, \u001b[38;5;34m512\u001b[0m)    │             \u001b[38;5;34m0\u001b[0m │\n",
       "├─────────────────────────────────┼────────────────────────┼───────────────┤\n",
       "│ block5_conv1 (\u001b[38;5;33mConv2D\u001b[0m)           │ (\u001b[38;5;45mNone\u001b[0m, \u001b[38;5;34m14\u001b[0m, \u001b[38;5;34m14\u001b[0m, \u001b[38;5;34m512\u001b[0m)    │     \u001b[38;5;34m2,359,808\u001b[0m │\n",
       "├─────────────────────────────────┼────────────────────────┼───────────────┤\n",
       "│ block5_conv2 (\u001b[38;5;33mConv2D\u001b[0m)           │ (\u001b[38;5;45mNone\u001b[0m, \u001b[38;5;34m14\u001b[0m, \u001b[38;5;34m14\u001b[0m, \u001b[38;5;34m512\u001b[0m)    │     \u001b[38;5;34m2,359,808\u001b[0m │\n",
       "├─────────────────────────────────┼────────────────────────┼───────────────┤\n",
       "│ block5_conv3 (\u001b[38;5;33mConv2D\u001b[0m)           │ (\u001b[38;5;45mNone\u001b[0m, \u001b[38;5;34m14\u001b[0m, \u001b[38;5;34m14\u001b[0m, \u001b[38;5;34m512\u001b[0m)    │     \u001b[38;5;34m2,359,808\u001b[0m │\n",
       "├─────────────────────────────────┼────────────────────────┼───────────────┤\n",
       "│ block5_pool (\u001b[38;5;33mMaxPooling2D\u001b[0m)      │ (\u001b[38;5;45mNone\u001b[0m, \u001b[38;5;34m7\u001b[0m, \u001b[38;5;34m7\u001b[0m, \u001b[38;5;34m512\u001b[0m)      │             \u001b[38;5;34m0\u001b[0m │\n",
       "├─────────────────────────────────┼────────────────────────┼───────────────┤\n",
       "│ flatten (\u001b[38;5;33mFlatten\u001b[0m)               │ (\u001b[38;5;45mNone\u001b[0m, \u001b[38;5;34m25088\u001b[0m)          │             \u001b[38;5;34m0\u001b[0m │\n",
       "├─────────────────────────────────┼────────────────────────┼───────────────┤\n",
       "│ fc1 (\u001b[38;5;33mDense\u001b[0m)                     │ (\u001b[38;5;45mNone\u001b[0m, \u001b[38;5;34m4096\u001b[0m)           │   \u001b[38;5;34m102,764,544\u001b[0m │\n",
       "├─────────────────────────────────┼────────────────────────┼───────────────┤\n",
       "│ fc2 (\u001b[38;5;33mDense\u001b[0m)                     │ (\u001b[38;5;45mNone\u001b[0m, \u001b[38;5;34m4096\u001b[0m)           │    \u001b[38;5;34m16,781,312\u001b[0m │\n",
       "├─────────────────────────────────┼────────────────────────┼───────────────┤\n",
       "│ predictions (\u001b[38;5;33mDense\u001b[0m)             │ (\u001b[38;5;45mNone\u001b[0m, \u001b[38;5;34m1000\u001b[0m)           │     \u001b[38;5;34m4,097,000\u001b[0m │\n",
       "└─────────────────────────────────┴────────────────────────┴───────────────┘\n"
      ]
     },
     "metadata": {},
     "output_type": "display_data"
    },
    {
     "data": {
      "text/html": [
       "<pre style=\"white-space:pre;overflow-x:auto;line-height:normal;font-family:Menlo,'DejaVu Sans Mono',consolas,'Courier New',monospace\"><span style=\"font-weight: bold\"> Total params: </span><span style=\"color: #00af00; text-decoration-color: #00af00\">138,357,544</span> (527.79 MB)\n",
       "</pre>\n"
      ],
      "text/plain": [
       "\u001b[1m Total params: \u001b[0m\u001b[38;5;34m138,357,544\u001b[0m (527.79 MB)\n"
      ]
     },
     "metadata": {},
     "output_type": "display_data"
    },
    {
     "data": {
      "text/html": [
       "<pre style=\"white-space:pre;overflow-x:auto;line-height:normal;font-family:Menlo,'DejaVu Sans Mono',consolas,'Courier New',monospace\"><span style=\"font-weight: bold\"> Trainable params: </span><span style=\"color: #00af00; text-decoration-color: #00af00\">138,357,544</span> (527.79 MB)\n",
       "</pre>\n"
      ],
      "text/plain": [
       "\u001b[1m Trainable params: \u001b[0m\u001b[38;5;34m138,357,544\u001b[0m (527.79 MB)\n"
      ]
     },
     "metadata": {},
     "output_type": "display_data"
    },
    {
     "data": {
      "text/html": [
       "<pre style=\"white-space:pre;overflow-x:auto;line-height:normal;font-family:Menlo,'DejaVu Sans Mono',consolas,'Courier New',monospace\"><span style=\"font-weight: bold\"> Non-trainable params: </span><span style=\"color: #00af00; text-decoration-color: #00af00\">0</span> (0.00 B)\n",
       "</pre>\n"
      ],
      "text/plain": [
       "\u001b[1m Non-trainable params: \u001b[0m\u001b[38;5;34m0\u001b[0m (0.00 B)\n"
      ]
     },
     "metadata": {},
     "output_type": "display_data"
    }
   ],
   "source": [
    "vgg.summary()"
   ]
  },
  {
   "cell_type": "code",
   "execution_count": 36,
   "metadata": {},
   "outputs": [],
   "source": [
    "from keras import Sequential"
   ]
  },
  {
   "cell_type": "code",
   "execution_count": 37,
   "metadata": {},
   "outputs": [],
   "source": [
    "model = Sequential()"
   ]
  },
  {
   "cell_type": "code",
   "execution_count": 38,
   "metadata": {},
   "outputs": [],
   "source": [
    "for layer in vgg.layers[:-1]:\n",
    "    model.add(layer)"
   ]
  },
  {
   "cell_type": "code",
   "execution_count": 39,
   "metadata": {},
   "outputs": [
    {
     "data": {
      "text/html": [
       "<pre style=\"white-space:pre;overflow-x:auto;line-height:normal;font-family:Menlo,'DejaVu Sans Mono',consolas,'Courier New',monospace\"><span style=\"font-weight: bold\">Model: \"sequential\"</span>\n",
       "</pre>\n"
      ],
      "text/plain": [
       "\u001b[1mModel: \"sequential\"\u001b[0m\n"
      ]
     },
     "metadata": {},
     "output_type": "display_data"
    },
    {
     "data": {
      "text/html": [
       "<pre style=\"white-space:pre;overflow-x:auto;line-height:normal;font-family:Menlo,'DejaVu Sans Mono',consolas,'Courier New',monospace\">┏━━━━━━━━━━━━━━━━━━━━━━━━━━━━━━━━━┳━━━━━━━━━━━━━━━━━━━━━━━━┳━━━━━━━━━━━━━━━┓\n",
       "┃<span style=\"font-weight: bold\"> Layer (type)                    </span>┃<span style=\"font-weight: bold\"> Output Shape           </span>┃<span style=\"font-weight: bold\">       Param # </span>┃\n",
       "┡━━━━━━━━━━━━━━━━━━━━━━━━━━━━━━━━━╇━━━━━━━━━━━━━━━━━━━━━━━━╇━━━━━━━━━━━━━━━┩\n",
       "│ block1_conv1 (<span style=\"color: #0087ff; text-decoration-color: #0087ff\">Conv2D</span>)           │ (<span style=\"color: #00d7ff; text-decoration-color: #00d7ff\">None</span>, <span style=\"color: #00af00; text-decoration-color: #00af00\">224</span>, <span style=\"color: #00af00; text-decoration-color: #00af00\">224</span>, <span style=\"color: #00af00; text-decoration-color: #00af00\">64</span>)   │         <span style=\"color: #00af00; text-decoration-color: #00af00\">1,792</span> │\n",
       "├─────────────────────────────────┼────────────────────────┼───────────────┤\n",
       "│ block1_conv2 (<span style=\"color: #0087ff; text-decoration-color: #0087ff\">Conv2D</span>)           │ (<span style=\"color: #00d7ff; text-decoration-color: #00d7ff\">None</span>, <span style=\"color: #00af00; text-decoration-color: #00af00\">224</span>, <span style=\"color: #00af00; text-decoration-color: #00af00\">224</span>, <span style=\"color: #00af00; text-decoration-color: #00af00\">64</span>)   │        <span style=\"color: #00af00; text-decoration-color: #00af00\">36,928</span> │\n",
       "├─────────────────────────────────┼────────────────────────┼───────────────┤\n",
       "│ block1_pool (<span style=\"color: #0087ff; text-decoration-color: #0087ff\">MaxPooling2D</span>)      │ (<span style=\"color: #00d7ff; text-decoration-color: #00d7ff\">None</span>, <span style=\"color: #00af00; text-decoration-color: #00af00\">112</span>, <span style=\"color: #00af00; text-decoration-color: #00af00\">112</span>, <span style=\"color: #00af00; text-decoration-color: #00af00\">64</span>)   │             <span style=\"color: #00af00; text-decoration-color: #00af00\">0</span> │\n",
       "├─────────────────────────────────┼────────────────────────┼───────────────┤\n",
       "│ block2_conv1 (<span style=\"color: #0087ff; text-decoration-color: #0087ff\">Conv2D</span>)           │ (<span style=\"color: #00d7ff; text-decoration-color: #00d7ff\">None</span>, <span style=\"color: #00af00; text-decoration-color: #00af00\">112</span>, <span style=\"color: #00af00; text-decoration-color: #00af00\">112</span>, <span style=\"color: #00af00; text-decoration-color: #00af00\">128</span>)  │        <span style=\"color: #00af00; text-decoration-color: #00af00\">73,856</span> │\n",
       "├─────────────────────────────────┼────────────────────────┼───────────────┤\n",
       "│ block2_conv2 (<span style=\"color: #0087ff; text-decoration-color: #0087ff\">Conv2D</span>)           │ (<span style=\"color: #00d7ff; text-decoration-color: #00d7ff\">None</span>, <span style=\"color: #00af00; text-decoration-color: #00af00\">112</span>, <span style=\"color: #00af00; text-decoration-color: #00af00\">112</span>, <span style=\"color: #00af00; text-decoration-color: #00af00\">128</span>)  │       <span style=\"color: #00af00; text-decoration-color: #00af00\">147,584</span> │\n",
       "├─────────────────────────────────┼────────────────────────┼───────────────┤\n",
       "│ block2_pool (<span style=\"color: #0087ff; text-decoration-color: #0087ff\">MaxPooling2D</span>)      │ (<span style=\"color: #00d7ff; text-decoration-color: #00d7ff\">None</span>, <span style=\"color: #00af00; text-decoration-color: #00af00\">56</span>, <span style=\"color: #00af00; text-decoration-color: #00af00\">56</span>, <span style=\"color: #00af00; text-decoration-color: #00af00\">128</span>)    │             <span style=\"color: #00af00; text-decoration-color: #00af00\">0</span> │\n",
       "├─────────────────────────────────┼────────────────────────┼───────────────┤\n",
       "│ block3_conv1 (<span style=\"color: #0087ff; text-decoration-color: #0087ff\">Conv2D</span>)           │ (<span style=\"color: #00d7ff; text-decoration-color: #00d7ff\">None</span>, <span style=\"color: #00af00; text-decoration-color: #00af00\">56</span>, <span style=\"color: #00af00; text-decoration-color: #00af00\">56</span>, <span style=\"color: #00af00; text-decoration-color: #00af00\">256</span>)    │       <span style=\"color: #00af00; text-decoration-color: #00af00\">295,168</span> │\n",
       "├─────────────────────────────────┼────────────────────────┼───────────────┤\n",
       "│ block3_conv2 (<span style=\"color: #0087ff; text-decoration-color: #0087ff\">Conv2D</span>)           │ (<span style=\"color: #00d7ff; text-decoration-color: #00d7ff\">None</span>, <span style=\"color: #00af00; text-decoration-color: #00af00\">56</span>, <span style=\"color: #00af00; text-decoration-color: #00af00\">56</span>, <span style=\"color: #00af00; text-decoration-color: #00af00\">256</span>)    │       <span style=\"color: #00af00; text-decoration-color: #00af00\">590,080</span> │\n",
       "├─────────────────────────────────┼────────────────────────┼───────────────┤\n",
       "│ block3_conv3 (<span style=\"color: #0087ff; text-decoration-color: #0087ff\">Conv2D</span>)           │ (<span style=\"color: #00d7ff; text-decoration-color: #00d7ff\">None</span>, <span style=\"color: #00af00; text-decoration-color: #00af00\">56</span>, <span style=\"color: #00af00; text-decoration-color: #00af00\">56</span>, <span style=\"color: #00af00; text-decoration-color: #00af00\">256</span>)    │       <span style=\"color: #00af00; text-decoration-color: #00af00\">590,080</span> │\n",
       "├─────────────────────────────────┼────────────────────────┼───────────────┤\n",
       "│ block3_pool (<span style=\"color: #0087ff; text-decoration-color: #0087ff\">MaxPooling2D</span>)      │ (<span style=\"color: #00d7ff; text-decoration-color: #00d7ff\">None</span>, <span style=\"color: #00af00; text-decoration-color: #00af00\">28</span>, <span style=\"color: #00af00; text-decoration-color: #00af00\">28</span>, <span style=\"color: #00af00; text-decoration-color: #00af00\">256</span>)    │             <span style=\"color: #00af00; text-decoration-color: #00af00\">0</span> │\n",
       "├─────────────────────────────────┼────────────────────────┼───────────────┤\n",
       "│ block4_conv1 (<span style=\"color: #0087ff; text-decoration-color: #0087ff\">Conv2D</span>)           │ (<span style=\"color: #00d7ff; text-decoration-color: #00d7ff\">None</span>, <span style=\"color: #00af00; text-decoration-color: #00af00\">28</span>, <span style=\"color: #00af00; text-decoration-color: #00af00\">28</span>, <span style=\"color: #00af00; text-decoration-color: #00af00\">512</span>)    │     <span style=\"color: #00af00; text-decoration-color: #00af00\">1,180,160</span> │\n",
       "├─────────────────────────────────┼────────────────────────┼───────────────┤\n",
       "│ block4_conv2 (<span style=\"color: #0087ff; text-decoration-color: #0087ff\">Conv2D</span>)           │ (<span style=\"color: #00d7ff; text-decoration-color: #00d7ff\">None</span>, <span style=\"color: #00af00; text-decoration-color: #00af00\">28</span>, <span style=\"color: #00af00; text-decoration-color: #00af00\">28</span>, <span style=\"color: #00af00; text-decoration-color: #00af00\">512</span>)    │     <span style=\"color: #00af00; text-decoration-color: #00af00\">2,359,808</span> │\n",
       "├─────────────────────────────────┼────────────────────────┼───────────────┤\n",
       "│ block4_conv3 (<span style=\"color: #0087ff; text-decoration-color: #0087ff\">Conv2D</span>)           │ (<span style=\"color: #00d7ff; text-decoration-color: #00d7ff\">None</span>, <span style=\"color: #00af00; text-decoration-color: #00af00\">28</span>, <span style=\"color: #00af00; text-decoration-color: #00af00\">28</span>, <span style=\"color: #00af00; text-decoration-color: #00af00\">512</span>)    │     <span style=\"color: #00af00; text-decoration-color: #00af00\">2,359,808</span> │\n",
       "├─────────────────────────────────┼────────────────────────┼───────────────┤\n",
       "│ block4_pool (<span style=\"color: #0087ff; text-decoration-color: #0087ff\">MaxPooling2D</span>)      │ (<span style=\"color: #00d7ff; text-decoration-color: #00d7ff\">None</span>, <span style=\"color: #00af00; text-decoration-color: #00af00\">14</span>, <span style=\"color: #00af00; text-decoration-color: #00af00\">14</span>, <span style=\"color: #00af00; text-decoration-color: #00af00\">512</span>)    │             <span style=\"color: #00af00; text-decoration-color: #00af00\">0</span> │\n",
       "├─────────────────────────────────┼────────────────────────┼───────────────┤\n",
       "│ block5_conv1 (<span style=\"color: #0087ff; text-decoration-color: #0087ff\">Conv2D</span>)           │ (<span style=\"color: #00d7ff; text-decoration-color: #00d7ff\">None</span>, <span style=\"color: #00af00; text-decoration-color: #00af00\">14</span>, <span style=\"color: #00af00; text-decoration-color: #00af00\">14</span>, <span style=\"color: #00af00; text-decoration-color: #00af00\">512</span>)    │     <span style=\"color: #00af00; text-decoration-color: #00af00\">2,359,808</span> │\n",
       "├─────────────────────────────────┼────────────────────────┼───────────────┤\n",
       "│ block5_conv2 (<span style=\"color: #0087ff; text-decoration-color: #0087ff\">Conv2D</span>)           │ (<span style=\"color: #00d7ff; text-decoration-color: #00d7ff\">None</span>, <span style=\"color: #00af00; text-decoration-color: #00af00\">14</span>, <span style=\"color: #00af00; text-decoration-color: #00af00\">14</span>, <span style=\"color: #00af00; text-decoration-color: #00af00\">512</span>)    │     <span style=\"color: #00af00; text-decoration-color: #00af00\">2,359,808</span> │\n",
       "├─────────────────────────────────┼────────────────────────┼───────────────┤\n",
       "│ block5_conv3 (<span style=\"color: #0087ff; text-decoration-color: #0087ff\">Conv2D</span>)           │ (<span style=\"color: #00d7ff; text-decoration-color: #00d7ff\">None</span>, <span style=\"color: #00af00; text-decoration-color: #00af00\">14</span>, <span style=\"color: #00af00; text-decoration-color: #00af00\">14</span>, <span style=\"color: #00af00; text-decoration-color: #00af00\">512</span>)    │     <span style=\"color: #00af00; text-decoration-color: #00af00\">2,359,808</span> │\n",
       "├─────────────────────────────────┼────────────────────────┼───────────────┤\n",
       "│ block5_pool (<span style=\"color: #0087ff; text-decoration-color: #0087ff\">MaxPooling2D</span>)      │ (<span style=\"color: #00d7ff; text-decoration-color: #00d7ff\">None</span>, <span style=\"color: #00af00; text-decoration-color: #00af00\">7</span>, <span style=\"color: #00af00; text-decoration-color: #00af00\">7</span>, <span style=\"color: #00af00; text-decoration-color: #00af00\">512</span>)      │             <span style=\"color: #00af00; text-decoration-color: #00af00\">0</span> │\n",
       "├─────────────────────────────────┼────────────────────────┼───────────────┤\n",
       "│ flatten (<span style=\"color: #0087ff; text-decoration-color: #0087ff\">Flatten</span>)               │ (<span style=\"color: #00d7ff; text-decoration-color: #00d7ff\">None</span>, <span style=\"color: #00af00; text-decoration-color: #00af00\">25088</span>)          │             <span style=\"color: #00af00; text-decoration-color: #00af00\">0</span> │\n",
       "├─────────────────────────────────┼────────────────────────┼───────────────┤\n",
       "│ fc1 (<span style=\"color: #0087ff; text-decoration-color: #0087ff\">Dense</span>)                     │ (<span style=\"color: #00d7ff; text-decoration-color: #00d7ff\">None</span>, <span style=\"color: #00af00; text-decoration-color: #00af00\">4096</span>)           │   <span style=\"color: #00af00; text-decoration-color: #00af00\">102,764,544</span> │\n",
       "├─────────────────────────────────┼────────────────────────┼───────────────┤\n",
       "│ fc2 (<span style=\"color: #0087ff; text-decoration-color: #0087ff\">Dense</span>)                     │ (<span style=\"color: #00d7ff; text-decoration-color: #00d7ff\">None</span>, <span style=\"color: #00af00; text-decoration-color: #00af00\">4096</span>)           │    <span style=\"color: #00af00; text-decoration-color: #00af00\">16,781,312</span> │\n",
       "└─────────────────────────────────┴────────────────────────┴───────────────┘\n",
       "</pre>\n"
      ],
      "text/plain": [
       "┏━━━━━━━━━━━━━━━━━━━━━━━━━━━━━━━━━┳━━━━━━━━━━━━━━━━━━━━━━━━┳━━━━━━━━━━━━━━━┓\n",
       "┃\u001b[1m \u001b[0m\u001b[1mLayer (type)                   \u001b[0m\u001b[1m \u001b[0m┃\u001b[1m \u001b[0m\u001b[1mOutput Shape          \u001b[0m\u001b[1m \u001b[0m┃\u001b[1m \u001b[0m\u001b[1m      Param #\u001b[0m\u001b[1m \u001b[0m┃\n",
       "┡━━━━━━━━━━━━━━━━━━━━━━━━━━━━━━━━━╇━━━━━━━━━━━━━━━━━━━━━━━━╇━━━━━━━━━━━━━━━┩\n",
       "│ block1_conv1 (\u001b[38;5;33mConv2D\u001b[0m)           │ (\u001b[38;5;45mNone\u001b[0m, \u001b[38;5;34m224\u001b[0m, \u001b[38;5;34m224\u001b[0m, \u001b[38;5;34m64\u001b[0m)   │         \u001b[38;5;34m1,792\u001b[0m │\n",
       "├─────────────────────────────────┼────────────────────────┼───────────────┤\n",
       "│ block1_conv2 (\u001b[38;5;33mConv2D\u001b[0m)           │ (\u001b[38;5;45mNone\u001b[0m, \u001b[38;5;34m224\u001b[0m, \u001b[38;5;34m224\u001b[0m, \u001b[38;5;34m64\u001b[0m)   │        \u001b[38;5;34m36,928\u001b[0m │\n",
       "├─────────────────────────────────┼────────────────────────┼───────────────┤\n",
       "│ block1_pool (\u001b[38;5;33mMaxPooling2D\u001b[0m)      │ (\u001b[38;5;45mNone\u001b[0m, \u001b[38;5;34m112\u001b[0m, \u001b[38;5;34m112\u001b[0m, \u001b[38;5;34m64\u001b[0m)   │             \u001b[38;5;34m0\u001b[0m │\n",
       "├─────────────────────────────────┼────────────────────────┼───────────────┤\n",
       "│ block2_conv1 (\u001b[38;5;33mConv2D\u001b[0m)           │ (\u001b[38;5;45mNone\u001b[0m, \u001b[38;5;34m112\u001b[0m, \u001b[38;5;34m112\u001b[0m, \u001b[38;5;34m128\u001b[0m)  │        \u001b[38;5;34m73,856\u001b[0m │\n",
       "├─────────────────────────────────┼────────────────────────┼───────────────┤\n",
       "│ block2_conv2 (\u001b[38;5;33mConv2D\u001b[0m)           │ (\u001b[38;5;45mNone\u001b[0m, \u001b[38;5;34m112\u001b[0m, \u001b[38;5;34m112\u001b[0m, \u001b[38;5;34m128\u001b[0m)  │       \u001b[38;5;34m147,584\u001b[0m │\n",
       "├─────────────────────────────────┼────────────────────────┼───────────────┤\n",
       "│ block2_pool (\u001b[38;5;33mMaxPooling2D\u001b[0m)      │ (\u001b[38;5;45mNone\u001b[0m, \u001b[38;5;34m56\u001b[0m, \u001b[38;5;34m56\u001b[0m, \u001b[38;5;34m128\u001b[0m)    │             \u001b[38;5;34m0\u001b[0m │\n",
       "├─────────────────────────────────┼────────────────────────┼───────────────┤\n",
       "│ block3_conv1 (\u001b[38;5;33mConv2D\u001b[0m)           │ (\u001b[38;5;45mNone\u001b[0m, \u001b[38;5;34m56\u001b[0m, \u001b[38;5;34m56\u001b[0m, \u001b[38;5;34m256\u001b[0m)    │       \u001b[38;5;34m295,168\u001b[0m │\n",
       "├─────────────────────────────────┼────────────────────────┼───────────────┤\n",
       "│ block3_conv2 (\u001b[38;5;33mConv2D\u001b[0m)           │ (\u001b[38;5;45mNone\u001b[0m, \u001b[38;5;34m56\u001b[0m, \u001b[38;5;34m56\u001b[0m, \u001b[38;5;34m256\u001b[0m)    │       \u001b[38;5;34m590,080\u001b[0m │\n",
       "├─────────────────────────────────┼────────────────────────┼───────────────┤\n",
       "│ block3_conv3 (\u001b[38;5;33mConv2D\u001b[0m)           │ (\u001b[38;5;45mNone\u001b[0m, \u001b[38;5;34m56\u001b[0m, \u001b[38;5;34m56\u001b[0m, \u001b[38;5;34m256\u001b[0m)    │       \u001b[38;5;34m590,080\u001b[0m │\n",
       "├─────────────────────────────────┼────────────────────────┼───────────────┤\n",
       "│ block3_pool (\u001b[38;5;33mMaxPooling2D\u001b[0m)      │ (\u001b[38;5;45mNone\u001b[0m, \u001b[38;5;34m28\u001b[0m, \u001b[38;5;34m28\u001b[0m, \u001b[38;5;34m256\u001b[0m)    │             \u001b[38;5;34m0\u001b[0m │\n",
       "├─────────────────────────────────┼────────────────────────┼───────────────┤\n",
       "│ block4_conv1 (\u001b[38;5;33mConv2D\u001b[0m)           │ (\u001b[38;5;45mNone\u001b[0m, \u001b[38;5;34m28\u001b[0m, \u001b[38;5;34m28\u001b[0m, \u001b[38;5;34m512\u001b[0m)    │     \u001b[38;5;34m1,180,160\u001b[0m │\n",
       "├─────────────────────────────────┼────────────────────────┼───────────────┤\n",
       "│ block4_conv2 (\u001b[38;5;33mConv2D\u001b[0m)           │ (\u001b[38;5;45mNone\u001b[0m, \u001b[38;5;34m28\u001b[0m, \u001b[38;5;34m28\u001b[0m, \u001b[38;5;34m512\u001b[0m)    │     \u001b[38;5;34m2,359,808\u001b[0m │\n",
       "├─────────────────────────────────┼────────────────────────┼───────────────┤\n",
       "│ block4_conv3 (\u001b[38;5;33mConv2D\u001b[0m)           │ (\u001b[38;5;45mNone\u001b[0m, \u001b[38;5;34m28\u001b[0m, \u001b[38;5;34m28\u001b[0m, \u001b[38;5;34m512\u001b[0m)    │     \u001b[38;5;34m2,359,808\u001b[0m │\n",
       "├─────────────────────────────────┼────────────────────────┼───────────────┤\n",
       "│ block4_pool (\u001b[38;5;33mMaxPooling2D\u001b[0m)      │ (\u001b[38;5;45mNone\u001b[0m, \u001b[38;5;34m14\u001b[0m, \u001b[38;5;34m14\u001b[0m, \u001b[38;5;34m512\u001b[0m)    │             \u001b[38;5;34m0\u001b[0m │\n",
       "├─────────────────────────────────┼────────────────────────┼───────────────┤\n",
       "│ block5_conv1 (\u001b[38;5;33mConv2D\u001b[0m)           │ (\u001b[38;5;45mNone\u001b[0m, \u001b[38;5;34m14\u001b[0m, \u001b[38;5;34m14\u001b[0m, \u001b[38;5;34m512\u001b[0m)    │     \u001b[38;5;34m2,359,808\u001b[0m │\n",
       "├─────────────────────────────────┼────────────────────────┼───────────────┤\n",
       "│ block5_conv2 (\u001b[38;5;33mConv2D\u001b[0m)           │ (\u001b[38;5;45mNone\u001b[0m, \u001b[38;5;34m14\u001b[0m, \u001b[38;5;34m14\u001b[0m, \u001b[38;5;34m512\u001b[0m)    │     \u001b[38;5;34m2,359,808\u001b[0m │\n",
       "├─────────────────────────────────┼────────────────────────┼───────────────┤\n",
       "│ block5_conv3 (\u001b[38;5;33mConv2D\u001b[0m)           │ (\u001b[38;5;45mNone\u001b[0m, \u001b[38;5;34m14\u001b[0m, \u001b[38;5;34m14\u001b[0m, \u001b[38;5;34m512\u001b[0m)    │     \u001b[38;5;34m2,359,808\u001b[0m │\n",
       "├─────────────────────────────────┼────────────────────────┼───────────────┤\n",
       "│ block5_pool (\u001b[38;5;33mMaxPooling2D\u001b[0m)      │ (\u001b[38;5;45mNone\u001b[0m, \u001b[38;5;34m7\u001b[0m, \u001b[38;5;34m7\u001b[0m, \u001b[38;5;34m512\u001b[0m)      │             \u001b[38;5;34m0\u001b[0m │\n",
       "├─────────────────────────────────┼────────────────────────┼───────────────┤\n",
       "│ flatten (\u001b[38;5;33mFlatten\u001b[0m)               │ (\u001b[38;5;45mNone\u001b[0m, \u001b[38;5;34m25088\u001b[0m)          │             \u001b[38;5;34m0\u001b[0m │\n",
       "├─────────────────────────────────┼────────────────────────┼───────────────┤\n",
       "│ fc1 (\u001b[38;5;33mDense\u001b[0m)                     │ (\u001b[38;5;45mNone\u001b[0m, \u001b[38;5;34m4096\u001b[0m)           │   \u001b[38;5;34m102,764,544\u001b[0m │\n",
       "├─────────────────────────────────┼────────────────────────┼───────────────┤\n",
       "│ fc2 (\u001b[38;5;33mDense\u001b[0m)                     │ (\u001b[38;5;45mNone\u001b[0m, \u001b[38;5;34m4096\u001b[0m)           │    \u001b[38;5;34m16,781,312\u001b[0m │\n",
       "└─────────────────────────────────┴────────────────────────┴───────────────┘\n"
      ]
     },
     "metadata": {},
     "output_type": "display_data"
    },
    {
     "data": {
      "text/html": [
       "<pre style=\"white-space:pre;overflow-x:auto;line-height:normal;font-family:Menlo,'DejaVu Sans Mono',consolas,'Courier New',monospace\"><span style=\"font-weight: bold\"> Total params: </span><span style=\"color: #00af00; text-decoration-color: #00af00\">134,260,544</span> (512.16 MB)\n",
       "</pre>\n"
      ],
      "text/plain": [
       "\u001b[1m Total params: \u001b[0m\u001b[38;5;34m134,260,544\u001b[0m (512.16 MB)\n"
      ]
     },
     "metadata": {},
     "output_type": "display_data"
    },
    {
     "data": {
      "text/html": [
       "<pre style=\"white-space:pre;overflow-x:auto;line-height:normal;font-family:Menlo,'DejaVu Sans Mono',consolas,'Courier New',monospace\"><span style=\"font-weight: bold\"> Trainable params: </span><span style=\"color: #00af00; text-decoration-color: #00af00\">134,260,544</span> (512.16 MB)\n",
       "</pre>\n"
      ],
      "text/plain": [
       "\u001b[1m Trainable params: \u001b[0m\u001b[38;5;34m134,260,544\u001b[0m (512.16 MB)\n"
      ]
     },
     "metadata": {},
     "output_type": "display_data"
    },
    {
     "data": {
      "text/html": [
       "<pre style=\"white-space:pre;overflow-x:auto;line-height:normal;font-family:Menlo,'DejaVu Sans Mono',consolas,'Courier New',monospace\"><span style=\"font-weight: bold\"> Non-trainable params: </span><span style=\"color: #00af00; text-decoration-color: #00af00\">0</span> (0.00 B)\n",
       "</pre>\n"
      ],
      "text/plain": [
       "\u001b[1m Non-trainable params: \u001b[0m\u001b[38;5;34m0\u001b[0m (0.00 B)\n"
      ]
     },
     "metadata": {},
     "output_type": "display_data"
    }
   ],
   "source": [
    "model.summary()"
   ]
  },
  {
   "cell_type": "code",
   "execution_count": 40,
   "metadata": {},
   "outputs": [],
   "source": [
    "for layer in model.layers:\n",
    "    layer.trainable=False"
   ]
  },
  {
   "cell_type": "code",
   "execution_count": 41,
   "metadata": {},
   "outputs": [
    {
     "data": {
      "text/html": [
       "<pre style=\"white-space:pre;overflow-x:auto;line-height:normal;font-family:Menlo,'DejaVu Sans Mono',consolas,'Courier New',monospace\"><span style=\"font-weight: bold\">Model: \"sequential\"</span>\n",
       "</pre>\n"
      ],
      "text/plain": [
       "\u001b[1mModel: \"sequential\"\u001b[0m\n"
      ]
     },
     "metadata": {},
     "output_type": "display_data"
    },
    {
     "data": {
      "text/html": [
       "<pre style=\"white-space:pre;overflow-x:auto;line-height:normal;font-family:Menlo,'DejaVu Sans Mono',consolas,'Courier New',monospace\">┏━━━━━━━━━━━━━━━━━━━━━━━━━━━━━━━━━┳━━━━━━━━━━━━━━━━━━━━━━━━┳━━━━━━━━━━━━━━━┓\n",
       "┃<span style=\"font-weight: bold\"> Layer (type)                    </span>┃<span style=\"font-weight: bold\"> Output Shape           </span>┃<span style=\"font-weight: bold\">       Param # </span>┃\n",
       "┡━━━━━━━━━━━━━━━━━━━━━━━━━━━━━━━━━╇━━━━━━━━━━━━━━━━━━━━━━━━╇━━━━━━━━━━━━━━━┩\n",
       "│ block1_conv1 (<span style=\"color: #0087ff; text-decoration-color: #0087ff\">Conv2D</span>)           │ (<span style=\"color: #00d7ff; text-decoration-color: #00d7ff\">None</span>, <span style=\"color: #00af00; text-decoration-color: #00af00\">224</span>, <span style=\"color: #00af00; text-decoration-color: #00af00\">224</span>, <span style=\"color: #00af00; text-decoration-color: #00af00\">64</span>)   │         <span style=\"color: #00af00; text-decoration-color: #00af00\">1,792</span> │\n",
       "├─────────────────────────────────┼────────────────────────┼───────────────┤\n",
       "│ block1_conv2 (<span style=\"color: #0087ff; text-decoration-color: #0087ff\">Conv2D</span>)           │ (<span style=\"color: #00d7ff; text-decoration-color: #00d7ff\">None</span>, <span style=\"color: #00af00; text-decoration-color: #00af00\">224</span>, <span style=\"color: #00af00; text-decoration-color: #00af00\">224</span>, <span style=\"color: #00af00; text-decoration-color: #00af00\">64</span>)   │        <span style=\"color: #00af00; text-decoration-color: #00af00\">36,928</span> │\n",
       "├─────────────────────────────────┼────────────────────────┼───────────────┤\n",
       "│ block1_pool (<span style=\"color: #0087ff; text-decoration-color: #0087ff\">MaxPooling2D</span>)      │ (<span style=\"color: #00d7ff; text-decoration-color: #00d7ff\">None</span>, <span style=\"color: #00af00; text-decoration-color: #00af00\">112</span>, <span style=\"color: #00af00; text-decoration-color: #00af00\">112</span>, <span style=\"color: #00af00; text-decoration-color: #00af00\">64</span>)   │             <span style=\"color: #00af00; text-decoration-color: #00af00\">0</span> │\n",
       "├─────────────────────────────────┼────────────────────────┼───────────────┤\n",
       "│ block2_conv1 (<span style=\"color: #0087ff; text-decoration-color: #0087ff\">Conv2D</span>)           │ (<span style=\"color: #00d7ff; text-decoration-color: #00d7ff\">None</span>, <span style=\"color: #00af00; text-decoration-color: #00af00\">112</span>, <span style=\"color: #00af00; text-decoration-color: #00af00\">112</span>, <span style=\"color: #00af00; text-decoration-color: #00af00\">128</span>)  │        <span style=\"color: #00af00; text-decoration-color: #00af00\">73,856</span> │\n",
       "├─────────────────────────────────┼────────────────────────┼───────────────┤\n",
       "│ block2_conv2 (<span style=\"color: #0087ff; text-decoration-color: #0087ff\">Conv2D</span>)           │ (<span style=\"color: #00d7ff; text-decoration-color: #00d7ff\">None</span>, <span style=\"color: #00af00; text-decoration-color: #00af00\">112</span>, <span style=\"color: #00af00; text-decoration-color: #00af00\">112</span>, <span style=\"color: #00af00; text-decoration-color: #00af00\">128</span>)  │       <span style=\"color: #00af00; text-decoration-color: #00af00\">147,584</span> │\n",
       "├─────────────────────────────────┼────────────────────────┼───────────────┤\n",
       "│ block2_pool (<span style=\"color: #0087ff; text-decoration-color: #0087ff\">MaxPooling2D</span>)      │ (<span style=\"color: #00d7ff; text-decoration-color: #00d7ff\">None</span>, <span style=\"color: #00af00; text-decoration-color: #00af00\">56</span>, <span style=\"color: #00af00; text-decoration-color: #00af00\">56</span>, <span style=\"color: #00af00; text-decoration-color: #00af00\">128</span>)    │             <span style=\"color: #00af00; text-decoration-color: #00af00\">0</span> │\n",
       "├─────────────────────────────────┼────────────────────────┼───────────────┤\n",
       "│ block3_conv1 (<span style=\"color: #0087ff; text-decoration-color: #0087ff\">Conv2D</span>)           │ (<span style=\"color: #00d7ff; text-decoration-color: #00d7ff\">None</span>, <span style=\"color: #00af00; text-decoration-color: #00af00\">56</span>, <span style=\"color: #00af00; text-decoration-color: #00af00\">56</span>, <span style=\"color: #00af00; text-decoration-color: #00af00\">256</span>)    │       <span style=\"color: #00af00; text-decoration-color: #00af00\">295,168</span> │\n",
       "├─────────────────────────────────┼────────────────────────┼───────────────┤\n",
       "│ block3_conv2 (<span style=\"color: #0087ff; text-decoration-color: #0087ff\">Conv2D</span>)           │ (<span style=\"color: #00d7ff; text-decoration-color: #00d7ff\">None</span>, <span style=\"color: #00af00; text-decoration-color: #00af00\">56</span>, <span style=\"color: #00af00; text-decoration-color: #00af00\">56</span>, <span style=\"color: #00af00; text-decoration-color: #00af00\">256</span>)    │       <span style=\"color: #00af00; text-decoration-color: #00af00\">590,080</span> │\n",
       "├─────────────────────────────────┼────────────────────────┼───────────────┤\n",
       "│ block3_conv3 (<span style=\"color: #0087ff; text-decoration-color: #0087ff\">Conv2D</span>)           │ (<span style=\"color: #00d7ff; text-decoration-color: #00d7ff\">None</span>, <span style=\"color: #00af00; text-decoration-color: #00af00\">56</span>, <span style=\"color: #00af00; text-decoration-color: #00af00\">56</span>, <span style=\"color: #00af00; text-decoration-color: #00af00\">256</span>)    │       <span style=\"color: #00af00; text-decoration-color: #00af00\">590,080</span> │\n",
       "├─────────────────────────────────┼────────────────────────┼───────────────┤\n",
       "│ block3_pool (<span style=\"color: #0087ff; text-decoration-color: #0087ff\">MaxPooling2D</span>)      │ (<span style=\"color: #00d7ff; text-decoration-color: #00d7ff\">None</span>, <span style=\"color: #00af00; text-decoration-color: #00af00\">28</span>, <span style=\"color: #00af00; text-decoration-color: #00af00\">28</span>, <span style=\"color: #00af00; text-decoration-color: #00af00\">256</span>)    │             <span style=\"color: #00af00; text-decoration-color: #00af00\">0</span> │\n",
       "├─────────────────────────────────┼────────────────────────┼───────────────┤\n",
       "│ block4_conv1 (<span style=\"color: #0087ff; text-decoration-color: #0087ff\">Conv2D</span>)           │ (<span style=\"color: #00d7ff; text-decoration-color: #00d7ff\">None</span>, <span style=\"color: #00af00; text-decoration-color: #00af00\">28</span>, <span style=\"color: #00af00; text-decoration-color: #00af00\">28</span>, <span style=\"color: #00af00; text-decoration-color: #00af00\">512</span>)    │     <span style=\"color: #00af00; text-decoration-color: #00af00\">1,180,160</span> │\n",
       "├─────────────────────────────────┼────────────────────────┼───────────────┤\n",
       "│ block4_conv2 (<span style=\"color: #0087ff; text-decoration-color: #0087ff\">Conv2D</span>)           │ (<span style=\"color: #00d7ff; text-decoration-color: #00d7ff\">None</span>, <span style=\"color: #00af00; text-decoration-color: #00af00\">28</span>, <span style=\"color: #00af00; text-decoration-color: #00af00\">28</span>, <span style=\"color: #00af00; text-decoration-color: #00af00\">512</span>)    │     <span style=\"color: #00af00; text-decoration-color: #00af00\">2,359,808</span> │\n",
       "├─────────────────────────────────┼────────────────────────┼───────────────┤\n",
       "│ block4_conv3 (<span style=\"color: #0087ff; text-decoration-color: #0087ff\">Conv2D</span>)           │ (<span style=\"color: #00d7ff; text-decoration-color: #00d7ff\">None</span>, <span style=\"color: #00af00; text-decoration-color: #00af00\">28</span>, <span style=\"color: #00af00; text-decoration-color: #00af00\">28</span>, <span style=\"color: #00af00; text-decoration-color: #00af00\">512</span>)    │     <span style=\"color: #00af00; text-decoration-color: #00af00\">2,359,808</span> │\n",
       "├─────────────────────────────────┼────────────────────────┼───────────────┤\n",
       "│ block4_pool (<span style=\"color: #0087ff; text-decoration-color: #0087ff\">MaxPooling2D</span>)      │ (<span style=\"color: #00d7ff; text-decoration-color: #00d7ff\">None</span>, <span style=\"color: #00af00; text-decoration-color: #00af00\">14</span>, <span style=\"color: #00af00; text-decoration-color: #00af00\">14</span>, <span style=\"color: #00af00; text-decoration-color: #00af00\">512</span>)    │             <span style=\"color: #00af00; text-decoration-color: #00af00\">0</span> │\n",
       "├─────────────────────────────────┼────────────────────────┼───────────────┤\n",
       "│ block5_conv1 (<span style=\"color: #0087ff; text-decoration-color: #0087ff\">Conv2D</span>)           │ (<span style=\"color: #00d7ff; text-decoration-color: #00d7ff\">None</span>, <span style=\"color: #00af00; text-decoration-color: #00af00\">14</span>, <span style=\"color: #00af00; text-decoration-color: #00af00\">14</span>, <span style=\"color: #00af00; text-decoration-color: #00af00\">512</span>)    │     <span style=\"color: #00af00; text-decoration-color: #00af00\">2,359,808</span> │\n",
       "├─────────────────────────────────┼────────────────────────┼───────────────┤\n",
       "│ block5_conv2 (<span style=\"color: #0087ff; text-decoration-color: #0087ff\">Conv2D</span>)           │ (<span style=\"color: #00d7ff; text-decoration-color: #00d7ff\">None</span>, <span style=\"color: #00af00; text-decoration-color: #00af00\">14</span>, <span style=\"color: #00af00; text-decoration-color: #00af00\">14</span>, <span style=\"color: #00af00; text-decoration-color: #00af00\">512</span>)    │     <span style=\"color: #00af00; text-decoration-color: #00af00\">2,359,808</span> │\n",
       "├─────────────────────────────────┼────────────────────────┼───────────────┤\n",
       "│ block5_conv3 (<span style=\"color: #0087ff; text-decoration-color: #0087ff\">Conv2D</span>)           │ (<span style=\"color: #00d7ff; text-decoration-color: #00d7ff\">None</span>, <span style=\"color: #00af00; text-decoration-color: #00af00\">14</span>, <span style=\"color: #00af00; text-decoration-color: #00af00\">14</span>, <span style=\"color: #00af00; text-decoration-color: #00af00\">512</span>)    │     <span style=\"color: #00af00; text-decoration-color: #00af00\">2,359,808</span> │\n",
       "├─────────────────────────────────┼────────────────────────┼───────────────┤\n",
       "│ block5_pool (<span style=\"color: #0087ff; text-decoration-color: #0087ff\">MaxPooling2D</span>)      │ (<span style=\"color: #00d7ff; text-decoration-color: #00d7ff\">None</span>, <span style=\"color: #00af00; text-decoration-color: #00af00\">7</span>, <span style=\"color: #00af00; text-decoration-color: #00af00\">7</span>, <span style=\"color: #00af00; text-decoration-color: #00af00\">512</span>)      │             <span style=\"color: #00af00; text-decoration-color: #00af00\">0</span> │\n",
       "├─────────────────────────────────┼────────────────────────┼───────────────┤\n",
       "│ flatten (<span style=\"color: #0087ff; text-decoration-color: #0087ff\">Flatten</span>)               │ (<span style=\"color: #00d7ff; text-decoration-color: #00d7ff\">None</span>, <span style=\"color: #00af00; text-decoration-color: #00af00\">25088</span>)          │             <span style=\"color: #00af00; text-decoration-color: #00af00\">0</span> │\n",
       "├─────────────────────────────────┼────────────────────────┼───────────────┤\n",
       "│ fc1 (<span style=\"color: #0087ff; text-decoration-color: #0087ff\">Dense</span>)                     │ (<span style=\"color: #00d7ff; text-decoration-color: #00d7ff\">None</span>, <span style=\"color: #00af00; text-decoration-color: #00af00\">4096</span>)           │   <span style=\"color: #00af00; text-decoration-color: #00af00\">102,764,544</span> │\n",
       "├─────────────────────────────────┼────────────────────────┼───────────────┤\n",
       "│ fc2 (<span style=\"color: #0087ff; text-decoration-color: #0087ff\">Dense</span>)                     │ (<span style=\"color: #00d7ff; text-decoration-color: #00d7ff\">None</span>, <span style=\"color: #00af00; text-decoration-color: #00af00\">4096</span>)           │    <span style=\"color: #00af00; text-decoration-color: #00af00\">16,781,312</span> │\n",
       "└─────────────────────────────────┴────────────────────────┴───────────────┘\n",
       "</pre>\n"
      ],
      "text/plain": [
       "┏━━━━━━━━━━━━━━━━━━━━━━━━━━━━━━━━━┳━━━━━━━━━━━━━━━━━━━━━━━━┳━━━━━━━━━━━━━━━┓\n",
       "┃\u001b[1m \u001b[0m\u001b[1mLayer (type)                   \u001b[0m\u001b[1m \u001b[0m┃\u001b[1m \u001b[0m\u001b[1mOutput Shape          \u001b[0m\u001b[1m \u001b[0m┃\u001b[1m \u001b[0m\u001b[1m      Param #\u001b[0m\u001b[1m \u001b[0m┃\n",
       "┡━━━━━━━━━━━━━━━━━━━━━━━━━━━━━━━━━╇━━━━━━━━━━━━━━━━━━━━━━━━╇━━━━━━━━━━━━━━━┩\n",
       "│ block1_conv1 (\u001b[38;5;33mConv2D\u001b[0m)           │ (\u001b[38;5;45mNone\u001b[0m, \u001b[38;5;34m224\u001b[0m, \u001b[38;5;34m224\u001b[0m, \u001b[38;5;34m64\u001b[0m)   │         \u001b[38;5;34m1,792\u001b[0m │\n",
       "├─────────────────────────────────┼────────────────────────┼───────────────┤\n",
       "│ block1_conv2 (\u001b[38;5;33mConv2D\u001b[0m)           │ (\u001b[38;5;45mNone\u001b[0m, \u001b[38;5;34m224\u001b[0m, \u001b[38;5;34m224\u001b[0m, \u001b[38;5;34m64\u001b[0m)   │        \u001b[38;5;34m36,928\u001b[0m │\n",
       "├─────────────────────────────────┼────────────────────────┼───────────────┤\n",
       "│ block1_pool (\u001b[38;5;33mMaxPooling2D\u001b[0m)      │ (\u001b[38;5;45mNone\u001b[0m, \u001b[38;5;34m112\u001b[0m, \u001b[38;5;34m112\u001b[0m, \u001b[38;5;34m64\u001b[0m)   │             \u001b[38;5;34m0\u001b[0m │\n",
       "├─────────────────────────────────┼────────────────────────┼───────────────┤\n",
       "│ block2_conv1 (\u001b[38;5;33mConv2D\u001b[0m)           │ (\u001b[38;5;45mNone\u001b[0m, \u001b[38;5;34m112\u001b[0m, \u001b[38;5;34m112\u001b[0m, \u001b[38;5;34m128\u001b[0m)  │        \u001b[38;5;34m73,856\u001b[0m │\n",
       "├─────────────────────────────────┼────────────────────────┼───────────────┤\n",
       "│ block2_conv2 (\u001b[38;5;33mConv2D\u001b[0m)           │ (\u001b[38;5;45mNone\u001b[0m, \u001b[38;5;34m112\u001b[0m, \u001b[38;5;34m112\u001b[0m, \u001b[38;5;34m128\u001b[0m)  │       \u001b[38;5;34m147,584\u001b[0m │\n",
       "├─────────────────────────────────┼────────────────────────┼───────────────┤\n",
       "│ block2_pool (\u001b[38;5;33mMaxPooling2D\u001b[0m)      │ (\u001b[38;5;45mNone\u001b[0m, \u001b[38;5;34m56\u001b[0m, \u001b[38;5;34m56\u001b[0m, \u001b[38;5;34m128\u001b[0m)    │             \u001b[38;5;34m0\u001b[0m │\n",
       "├─────────────────────────────────┼────────────────────────┼───────────────┤\n",
       "│ block3_conv1 (\u001b[38;5;33mConv2D\u001b[0m)           │ (\u001b[38;5;45mNone\u001b[0m, \u001b[38;5;34m56\u001b[0m, \u001b[38;5;34m56\u001b[0m, \u001b[38;5;34m256\u001b[0m)    │       \u001b[38;5;34m295,168\u001b[0m │\n",
       "├─────────────────────────────────┼────────────────────────┼───────────────┤\n",
       "│ block3_conv2 (\u001b[38;5;33mConv2D\u001b[0m)           │ (\u001b[38;5;45mNone\u001b[0m, \u001b[38;5;34m56\u001b[0m, \u001b[38;5;34m56\u001b[0m, \u001b[38;5;34m256\u001b[0m)    │       \u001b[38;5;34m590,080\u001b[0m │\n",
       "├─────────────────────────────────┼────────────────────────┼───────────────┤\n",
       "│ block3_conv3 (\u001b[38;5;33mConv2D\u001b[0m)           │ (\u001b[38;5;45mNone\u001b[0m, \u001b[38;5;34m56\u001b[0m, \u001b[38;5;34m56\u001b[0m, \u001b[38;5;34m256\u001b[0m)    │       \u001b[38;5;34m590,080\u001b[0m │\n",
       "├─────────────────────────────────┼────────────────────────┼───────────────┤\n",
       "│ block3_pool (\u001b[38;5;33mMaxPooling2D\u001b[0m)      │ (\u001b[38;5;45mNone\u001b[0m, \u001b[38;5;34m28\u001b[0m, \u001b[38;5;34m28\u001b[0m, \u001b[38;5;34m256\u001b[0m)    │             \u001b[38;5;34m0\u001b[0m │\n",
       "├─────────────────────────────────┼────────────────────────┼───────────────┤\n",
       "│ block4_conv1 (\u001b[38;5;33mConv2D\u001b[0m)           │ (\u001b[38;5;45mNone\u001b[0m, \u001b[38;5;34m28\u001b[0m, \u001b[38;5;34m28\u001b[0m, \u001b[38;5;34m512\u001b[0m)    │     \u001b[38;5;34m1,180,160\u001b[0m │\n",
       "├─────────────────────────────────┼────────────────────────┼───────────────┤\n",
       "│ block4_conv2 (\u001b[38;5;33mConv2D\u001b[0m)           │ (\u001b[38;5;45mNone\u001b[0m, \u001b[38;5;34m28\u001b[0m, \u001b[38;5;34m28\u001b[0m, \u001b[38;5;34m512\u001b[0m)    │     \u001b[38;5;34m2,359,808\u001b[0m │\n",
       "├─────────────────────────────────┼────────────────────────┼───────────────┤\n",
       "│ block4_conv3 (\u001b[38;5;33mConv2D\u001b[0m)           │ (\u001b[38;5;45mNone\u001b[0m, \u001b[38;5;34m28\u001b[0m, \u001b[38;5;34m28\u001b[0m, \u001b[38;5;34m512\u001b[0m)    │     \u001b[38;5;34m2,359,808\u001b[0m │\n",
       "├─────────────────────────────────┼────────────────────────┼───────────────┤\n",
       "│ block4_pool (\u001b[38;5;33mMaxPooling2D\u001b[0m)      │ (\u001b[38;5;45mNone\u001b[0m, \u001b[38;5;34m14\u001b[0m, \u001b[38;5;34m14\u001b[0m, \u001b[38;5;34m512\u001b[0m)    │             \u001b[38;5;34m0\u001b[0m │\n",
       "├─────────────────────────────────┼────────────────────────┼───────────────┤\n",
       "│ block5_conv1 (\u001b[38;5;33mConv2D\u001b[0m)           │ (\u001b[38;5;45mNone\u001b[0m, \u001b[38;5;34m14\u001b[0m, \u001b[38;5;34m14\u001b[0m, \u001b[38;5;34m512\u001b[0m)    │     \u001b[38;5;34m2,359,808\u001b[0m │\n",
       "├─────────────────────────────────┼────────────────────────┼───────────────┤\n",
       "│ block5_conv2 (\u001b[38;5;33mConv2D\u001b[0m)           │ (\u001b[38;5;45mNone\u001b[0m, \u001b[38;5;34m14\u001b[0m, \u001b[38;5;34m14\u001b[0m, \u001b[38;5;34m512\u001b[0m)    │     \u001b[38;5;34m2,359,808\u001b[0m │\n",
       "├─────────────────────────────────┼────────────────────────┼───────────────┤\n",
       "│ block5_conv3 (\u001b[38;5;33mConv2D\u001b[0m)           │ (\u001b[38;5;45mNone\u001b[0m, \u001b[38;5;34m14\u001b[0m, \u001b[38;5;34m14\u001b[0m, \u001b[38;5;34m512\u001b[0m)    │     \u001b[38;5;34m2,359,808\u001b[0m │\n",
       "├─────────────────────────────────┼────────────────────────┼───────────────┤\n",
       "│ block5_pool (\u001b[38;5;33mMaxPooling2D\u001b[0m)      │ (\u001b[38;5;45mNone\u001b[0m, \u001b[38;5;34m7\u001b[0m, \u001b[38;5;34m7\u001b[0m, \u001b[38;5;34m512\u001b[0m)      │             \u001b[38;5;34m0\u001b[0m │\n",
       "├─────────────────────────────────┼────────────────────────┼───────────────┤\n",
       "│ flatten (\u001b[38;5;33mFlatten\u001b[0m)               │ (\u001b[38;5;45mNone\u001b[0m, \u001b[38;5;34m25088\u001b[0m)          │             \u001b[38;5;34m0\u001b[0m │\n",
       "├─────────────────────────────────┼────────────────────────┼───────────────┤\n",
       "│ fc1 (\u001b[38;5;33mDense\u001b[0m)                     │ (\u001b[38;5;45mNone\u001b[0m, \u001b[38;5;34m4096\u001b[0m)           │   \u001b[38;5;34m102,764,544\u001b[0m │\n",
       "├─────────────────────────────────┼────────────────────────┼───────────────┤\n",
       "│ fc2 (\u001b[38;5;33mDense\u001b[0m)                     │ (\u001b[38;5;45mNone\u001b[0m, \u001b[38;5;34m4096\u001b[0m)           │    \u001b[38;5;34m16,781,312\u001b[0m │\n",
       "└─────────────────────────────────┴────────────────────────┴───────────────┘\n"
      ]
     },
     "metadata": {},
     "output_type": "display_data"
    },
    {
     "data": {
      "text/html": [
       "<pre style=\"white-space:pre;overflow-x:auto;line-height:normal;font-family:Menlo,'DejaVu Sans Mono',consolas,'Courier New',monospace\"><span style=\"font-weight: bold\"> Total params: </span><span style=\"color: #00af00; text-decoration-color: #00af00\">134,260,544</span> (512.16 MB)\n",
       "</pre>\n"
      ],
      "text/plain": [
       "\u001b[1m Total params: \u001b[0m\u001b[38;5;34m134,260,544\u001b[0m (512.16 MB)\n"
      ]
     },
     "metadata": {},
     "output_type": "display_data"
    },
    {
     "data": {
      "text/html": [
       "<pre style=\"white-space:pre;overflow-x:auto;line-height:normal;font-family:Menlo,'DejaVu Sans Mono',consolas,'Courier New',monospace\"><span style=\"font-weight: bold\"> Trainable params: </span><span style=\"color: #00af00; text-decoration-color: #00af00\">0</span> (0.00 B)\n",
       "</pre>\n"
      ],
      "text/plain": [
       "\u001b[1m Trainable params: \u001b[0m\u001b[38;5;34m0\u001b[0m (0.00 B)\n"
      ]
     },
     "metadata": {},
     "output_type": "display_data"
    },
    {
     "data": {
      "text/html": [
       "<pre style=\"white-space:pre;overflow-x:auto;line-height:normal;font-family:Menlo,'DejaVu Sans Mono',consolas,'Courier New',monospace\"><span style=\"font-weight: bold\"> Non-trainable params: </span><span style=\"color: #00af00; text-decoration-color: #00af00\">134,260,544</span> (512.16 MB)\n",
       "</pre>\n"
      ],
      "text/plain": [
       "\u001b[1m Non-trainable params: \u001b[0m\u001b[38;5;34m134,260,544\u001b[0m (512.16 MB)\n"
      ]
     },
     "metadata": {},
     "output_type": "display_data"
    }
   ],
   "source": [
    "model.summary()"
   ]
  },
  {
   "cell_type": "code",
   "execution_count": 42,
   "metadata": {},
   "outputs": [],
   "source": [
    "from keras.layers import Dense"
   ]
  },
  {
   "cell_type": "code",
   "execution_count": 43,
   "metadata": {},
   "outputs": [],
   "source": [
    "model.add(Dense(1,activation = 'sigmoid'))"
   ]
  },
  {
   "cell_type": "code",
   "execution_count": 44,
   "metadata": {},
   "outputs": [
    {
     "data": {
      "text/html": [
       "<pre style=\"white-space:pre;overflow-x:auto;line-height:normal;font-family:Menlo,'DejaVu Sans Mono',consolas,'Courier New',monospace\"><span style=\"font-weight: bold\">Model: \"sequential\"</span>\n",
       "</pre>\n"
      ],
      "text/plain": [
       "\u001b[1mModel: \"sequential\"\u001b[0m\n"
      ]
     },
     "metadata": {},
     "output_type": "display_data"
    },
    {
     "data": {
      "text/html": [
       "<pre style=\"white-space:pre;overflow-x:auto;line-height:normal;font-family:Menlo,'DejaVu Sans Mono',consolas,'Courier New',monospace\">┏━━━━━━━━━━━━━━━━━━━━━━━━━━━━━━━━━┳━━━━━━━━━━━━━━━━━━━━━━━━┳━━━━━━━━━━━━━━━┓\n",
       "┃<span style=\"font-weight: bold\"> Layer (type)                    </span>┃<span style=\"font-weight: bold\"> Output Shape           </span>┃<span style=\"font-weight: bold\">       Param # </span>┃\n",
       "┡━━━━━━━━━━━━━━━━━━━━━━━━━━━━━━━━━╇━━━━━━━━━━━━━━━━━━━━━━━━╇━━━━━━━━━━━━━━━┩\n",
       "│ block1_conv1 (<span style=\"color: #0087ff; text-decoration-color: #0087ff\">Conv2D</span>)           │ (<span style=\"color: #00d7ff; text-decoration-color: #00d7ff\">None</span>, <span style=\"color: #00af00; text-decoration-color: #00af00\">224</span>, <span style=\"color: #00af00; text-decoration-color: #00af00\">224</span>, <span style=\"color: #00af00; text-decoration-color: #00af00\">64</span>)   │         <span style=\"color: #00af00; text-decoration-color: #00af00\">1,792</span> │\n",
       "├─────────────────────────────────┼────────────────────────┼───────────────┤\n",
       "│ block1_conv2 (<span style=\"color: #0087ff; text-decoration-color: #0087ff\">Conv2D</span>)           │ (<span style=\"color: #00d7ff; text-decoration-color: #00d7ff\">None</span>, <span style=\"color: #00af00; text-decoration-color: #00af00\">224</span>, <span style=\"color: #00af00; text-decoration-color: #00af00\">224</span>, <span style=\"color: #00af00; text-decoration-color: #00af00\">64</span>)   │        <span style=\"color: #00af00; text-decoration-color: #00af00\">36,928</span> │\n",
       "├─────────────────────────────────┼────────────────────────┼───────────────┤\n",
       "│ block1_pool (<span style=\"color: #0087ff; text-decoration-color: #0087ff\">MaxPooling2D</span>)      │ (<span style=\"color: #00d7ff; text-decoration-color: #00d7ff\">None</span>, <span style=\"color: #00af00; text-decoration-color: #00af00\">112</span>, <span style=\"color: #00af00; text-decoration-color: #00af00\">112</span>, <span style=\"color: #00af00; text-decoration-color: #00af00\">64</span>)   │             <span style=\"color: #00af00; text-decoration-color: #00af00\">0</span> │\n",
       "├─────────────────────────────────┼────────────────────────┼───────────────┤\n",
       "│ block2_conv1 (<span style=\"color: #0087ff; text-decoration-color: #0087ff\">Conv2D</span>)           │ (<span style=\"color: #00d7ff; text-decoration-color: #00d7ff\">None</span>, <span style=\"color: #00af00; text-decoration-color: #00af00\">112</span>, <span style=\"color: #00af00; text-decoration-color: #00af00\">112</span>, <span style=\"color: #00af00; text-decoration-color: #00af00\">128</span>)  │        <span style=\"color: #00af00; text-decoration-color: #00af00\">73,856</span> │\n",
       "├─────────────────────────────────┼────────────────────────┼───────────────┤\n",
       "│ block2_conv2 (<span style=\"color: #0087ff; text-decoration-color: #0087ff\">Conv2D</span>)           │ (<span style=\"color: #00d7ff; text-decoration-color: #00d7ff\">None</span>, <span style=\"color: #00af00; text-decoration-color: #00af00\">112</span>, <span style=\"color: #00af00; text-decoration-color: #00af00\">112</span>, <span style=\"color: #00af00; text-decoration-color: #00af00\">128</span>)  │       <span style=\"color: #00af00; text-decoration-color: #00af00\">147,584</span> │\n",
       "├─────────────────────────────────┼────────────────────────┼───────────────┤\n",
       "│ block2_pool (<span style=\"color: #0087ff; text-decoration-color: #0087ff\">MaxPooling2D</span>)      │ (<span style=\"color: #00d7ff; text-decoration-color: #00d7ff\">None</span>, <span style=\"color: #00af00; text-decoration-color: #00af00\">56</span>, <span style=\"color: #00af00; text-decoration-color: #00af00\">56</span>, <span style=\"color: #00af00; text-decoration-color: #00af00\">128</span>)    │             <span style=\"color: #00af00; text-decoration-color: #00af00\">0</span> │\n",
       "├─────────────────────────────────┼────────────────────────┼───────────────┤\n",
       "│ block3_conv1 (<span style=\"color: #0087ff; text-decoration-color: #0087ff\">Conv2D</span>)           │ (<span style=\"color: #00d7ff; text-decoration-color: #00d7ff\">None</span>, <span style=\"color: #00af00; text-decoration-color: #00af00\">56</span>, <span style=\"color: #00af00; text-decoration-color: #00af00\">56</span>, <span style=\"color: #00af00; text-decoration-color: #00af00\">256</span>)    │       <span style=\"color: #00af00; text-decoration-color: #00af00\">295,168</span> │\n",
       "├─────────────────────────────────┼────────────────────────┼───────────────┤\n",
       "│ block3_conv2 (<span style=\"color: #0087ff; text-decoration-color: #0087ff\">Conv2D</span>)           │ (<span style=\"color: #00d7ff; text-decoration-color: #00d7ff\">None</span>, <span style=\"color: #00af00; text-decoration-color: #00af00\">56</span>, <span style=\"color: #00af00; text-decoration-color: #00af00\">56</span>, <span style=\"color: #00af00; text-decoration-color: #00af00\">256</span>)    │       <span style=\"color: #00af00; text-decoration-color: #00af00\">590,080</span> │\n",
       "├─────────────────────────────────┼────────────────────────┼───────────────┤\n",
       "│ block3_conv3 (<span style=\"color: #0087ff; text-decoration-color: #0087ff\">Conv2D</span>)           │ (<span style=\"color: #00d7ff; text-decoration-color: #00d7ff\">None</span>, <span style=\"color: #00af00; text-decoration-color: #00af00\">56</span>, <span style=\"color: #00af00; text-decoration-color: #00af00\">56</span>, <span style=\"color: #00af00; text-decoration-color: #00af00\">256</span>)    │       <span style=\"color: #00af00; text-decoration-color: #00af00\">590,080</span> │\n",
       "├─────────────────────────────────┼────────────────────────┼───────────────┤\n",
       "│ block3_pool (<span style=\"color: #0087ff; text-decoration-color: #0087ff\">MaxPooling2D</span>)      │ (<span style=\"color: #00d7ff; text-decoration-color: #00d7ff\">None</span>, <span style=\"color: #00af00; text-decoration-color: #00af00\">28</span>, <span style=\"color: #00af00; text-decoration-color: #00af00\">28</span>, <span style=\"color: #00af00; text-decoration-color: #00af00\">256</span>)    │             <span style=\"color: #00af00; text-decoration-color: #00af00\">0</span> │\n",
       "├─────────────────────────────────┼────────────────────────┼───────────────┤\n",
       "│ block4_conv1 (<span style=\"color: #0087ff; text-decoration-color: #0087ff\">Conv2D</span>)           │ (<span style=\"color: #00d7ff; text-decoration-color: #00d7ff\">None</span>, <span style=\"color: #00af00; text-decoration-color: #00af00\">28</span>, <span style=\"color: #00af00; text-decoration-color: #00af00\">28</span>, <span style=\"color: #00af00; text-decoration-color: #00af00\">512</span>)    │     <span style=\"color: #00af00; text-decoration-color: #00af00\">1,180,160</span> │\n",
       "├─────────────────────────────────┼────────────────────────┼───────────────┤\n",
       "│ block4_conv2 (<span style=\"color: #0087ff; text-decoration-color: #0087ff\">Conv2D</span>)           │ (<span style=\"color: #00d7ff; text-decoration-color: #00d7ff\">None</span>, <span style=\"color: #00af00; text-decoration-color: #00af00\">28</span>, <span style=\"color: #00af00; text-decoration-color: #00af00\">28</span>, <span style=\"color: #00af00; text-decoration-color: #00af00\">512</span>)    │     <span style=\"color: #00af00; text-decoration-color: #00af00\">2,359,808</span> │\n",
       "├─────────────────────────────────┼────────────────────────┼───────────────┤\n",
       "│ block4_conv3 (<span style=\"color: #0087ff; text-decoration-color: #0087ff\">Conv2D</span>)           │ (<span style=\"color: #00d7ff; text-decoration-color: #00d7ff\">None</span>, <span style=\"color: #00af00; text-decoration-color: #00af00\">28</span>, <span style=\"color: #00af00; text-decoration-color: #00af00\">28</span>, <span style=\"color: #00af00; text-decoration-color: #00af00\">512</span>)    │     <span style=\"color: #00af00; text-decoration-color: #00af00\">2,359,808</span> │\n",
       "├─────────────────────────────────┼────────────────────────┼───────────────┤\n",
       "│ block4_pool (<span style=\"color: #0087ff; text-decoration-color: #0087ff\">MaxPooling2D</span>)      │ (<span style=\"color: #00d7ff; text-decoration-color: #00d7ff\">None</span>, <span style=\"color: #00af00; text-decoration-color: #00af00\">14</span>, <span style=\"color: #00af00; text-decoration-color: #00af00\">14</span>, <span style=\"color: #00af00; text-decoration-color: #00af00\">512</span>)    │             <span style=\"color: #00af00; text-decoration-color: #00af00\">0</span> │\n",
       "├─────────────────────────────────┼────────────────────────┼───────────────┤\n",
       "│ block5_conv1 (<span style=\"color: #0087ff; text-decoration-color: #0087ff\">Conv2D</span>)           │ (<span style=\"color: #00d7ff; text-decoration-color: #00d7ff\">None</span>, <span style=\"color: #00af00; text-decoration-color: #00af00\">14</span>, <span style=\"color: #00af00; text-decoration-color: #00af00\">14</span>, <span style=\"color: #00af00; text-decoration-color: #00af00\">512</span>)    │     <span style=\"color: #00af00; text-decoration-color: #00af00\">2,359,808</span> │\n",
       "├─────────────────────────────────┼────────────────────────┼───────────────┤\n",
       "│ block5_conv2 (<span style=\"color: #0087ff; text-decoration-color: #0087ff\">Conv2D</span>)           │ (<span style=\"color: #00d7ff; text-decoration-color: #00d7ff\">None</span>, <span style=\"color: #00af00; text-decoration-color: #00af00\">14</span>, <span style=\"color: #00af00; text-decoration-color: #00af00\">14</span>, <span style=\"color: #00af00; text-decoration-color: #00af00\">512</span>)    │     <span style=\"color: #00af00; text-decoration-color: #00af00\">2,359,808</span> │\n",
       "├─────────────────────────────────┼────────────────────────┼───────────────┤\n",
       "│ block5_conv3 (<span style=\"color: #0087ff; text-decoration-color: #0087ff\">Conv2D</span>)           │ (<span style=\"color: #00d7ff; text-decoration-color: #00d7ff\">None</span>, <span style=\"color: #00af00; text-decoration-color: #00af00\">14</span>, <span style=\"color: #00af00; text-decoration-color: #00af00\">14</span>, <span style=\"color: #00af00; text-decoration-color: #00af00\">512</span>)    │     <span style=\"color: #00af00; text-decoration-color: #00af00\">2,359,808</span> │\n",
       "├─────────────────────────────────┼────────────────────────┼───────────────┤\n",
       "│ block5_pool (<span style=\"color: #0087ff; text-decoration-color: #0087ff\">MaxPooling2D</span>)      │ (<span style=\"color: #00d7ff; text-decoration-color: #00d7ff\">None</span>, <span style=\"color: #00af00; text-decoration-color: #00af00\">7</span>, <span style=\"color: #00af00; text-decoration-color: #00af00\">7</span>, <span style=\"color: #00af00; text-decoration-color: #00af00\">512</span>)      │             <span style=\"color: #00af00; text-decoration-color: #00af00\">0</span> │\n",
       "├─────────────────────────────────┼────────────────────────┼───────────────┤\n",
       "│ flatten (<span style=\"color: #0087ff; text-decoration-color: #0087ff\">Flatten</span>)               │ (<span style=\"color: #00d7ff; text-decoration-color: #00d7ff\">None</span>, <span style=\"color: #00af00; text-decoration-color: #00af00\">25088</span>)          │             <span style=\"color: #00af00; text-decoration-color: #00af00\">0</span> │\n",
       "├─────────────────────────────────┼────────────────────────┼───────────────┤\n",
       "│ fc1 (<span style=\"color: #0087ff; text-decoration-color: #0087ff\">Dense</span>)                     │ (<span style=\"color: #00d7ff; text-decoration-color: #00d7ff\">None</span>, <span style=\"color: #00af00; text-decoration-color: #00af00\">4096</span>)           │   <span style=\"color: #00af00; text-decoration-color: #00af00\">102,764,544</span> │\n",
       "├─────────────────────────────────┼────────────────────────┼───────────────┤\n",
       "│ fc2 (<span style=\"color: #0087ff; text-decoration-color: #0087ff\">Dense</span>)                     │ (<span style=\"color: #00d7ff; text-decoration-color: #00d7ff\">None</span>, <span style=\"color: #00af00; text-decoration-color: #00af00\">4096</span>)           │    <span style=\"color: #00af00; text-decoration-color: #00af00\">16,781,312</span> │\n",
       "├─────────────────────────────────┼────────────────────────┼───────────────┤\n",
       "│ dense (<span style=\"color: #0087ff; text-decoration-color: #0087ff\">Dense</span>)                   │ (<span style=\"color: #00d7ff; text-decoration-color: #00d7ff\">None</span>, <span style=\"color: #00af00; text-decoration-color: #00af00\">1</span>)              │         <span style=\"color: #00af00; text-decoration-color: #00af00\">4,097</span> │\n",
       "└─────────────────────────────────┴────────────────────────┴───────────────┘\n",
       "</pre>\n"
      ],
      "text/plain": [
       "┏━━━━━━━━━━━━━━━━━━━━━━━━━━━━━━━━━┳━━━━━━━━━━━━━━━━━━━━━━━━┳━━━━━━━━━━━━━━━┓\n",
       "┃\u001b[1m \u001b[0m\u001b[1mLayer (type)                   \u001b[0m\u001b[1m \u001b[0m┃\u001b[1m \u001b[0m\u001b[1mOutput Shape          \u001b[0m\u001b[1m \u001b[0m┃\u001b[1m \u001b[0m\u001b[1m      Param #\u001b[0m\u001b[1m \u001b[0m┃\n",
       "┡━━━━━━━━━━━━━━━━━━━━━━━━━━━━━━━━━╇━━━━━━━━━━━━━━━━━━━━━━━━╇━━━━━━━━━━━━━━━┩\n",
       "│ block1_conv1 (\u001b[38;5;33mConv2D\u001b[0m)           │ (\u001b[38;5;45mNone\u001b[0m, \u001b[38;5;34m224\u001b[0m, \u001b[38;5;34m224\u001b[0m, \u001b[38;5;34m64\u001b[0m)   │         \u001b[38;5;34m1,792\u001b[0m │\n",
       "├─────────────────────────────────┼────────────────────────┼───────────────┤\n",
       "│ block1_conv2 (\u001b[38;5;33mConv2D\u001b[0m)           │ (\u001b[38;5;45mNone\u001b[0m, \u001b[38;5;34m224\u001b[0m, \u001b[38;5;34m224\u001b[0m, \u001b[38;5;34m64\u001b[0m)   │        \u001b[38;5;34m36,928\u001b[0m │\n",
       "├─────────────────────────────────┼────────────────────────┼───────────────┤\n",
       "│ block1_pool (\u001b[38;5;33mMaxPooling2D\u001b[0m)      │ (\u001b[38;5;45mNone\u001b[0m, \u001b[38;5;34m112\u001b[0m, \u001b[38;5;34m112\u001b[0m, \u001b[38;5;34m64\u001b[0m)   │             \u001b[38;5;34m0\u001b[0m │\n",
       "├─────────────────────────────────┼────────────────────────┼───────────────┤\n",
       "│ block2_conv1 (\u001b[38;5;33mConv2D\u001b[0m)           │ (\u001b[38;5;45mNone\u001b[0m, \u001b[38;5;34m112\u001b[0m, \u001b[38;5;34m112\u001b[0m, \u001b[38;5;34m128\u001b[0m)  │        \u001b[38;5;34m73,856\u001b[0m │\n",
       "├─────────────────────────────────┼────────────────────────┼───────────────┤\n",
       "│ block2_conv2 (\u001b[38;5;33mConv2D\u001b[0m)           │ (\u001b[38;5;45mNone\u001b[0m, \u001b[38;5;34m112\u001b[0m, \u001b[38;5;34m112\u001b[0m, \u001b[38;5;34m128\u001b[0m)  │       \u001b[38;5;34m147,584\u001b[0m │\n",
       "├─────────────────────────────────┼────────────────────────┼───────────────┤\n",
       "│ block2_pool (\u001b[38;5;33mMaxPooling2D\u001b[0m)      │ (\u001b[38;5;45mNone\u001b[0m, \u001b[38;5;34m56\u001b[0m, \u001b[38;5;34m56\u001b[0m, \u001b[38;5;34m128\u001b[0m)    │             \u001b[38;5;34m0\u001b[0m │\n",
       "├─────────────────────────────────┼────────────────────────┼───────────────┤\n",
       "│ block3_conv1 (\u001b[38;5;33mConv2D\u001b[0m)           │ (\u001b[38;5;45mNone\u001b[0m, \u001b[38;5;34m56\u001b[0m, \u001b[38;5;34m56\u001b[0m, \u001b[38;5;34m256\u001b[0m)    │       \u001b[38;5;34m295,168\u001b[0m │\n",
       "├─────────────────────────────────┼────────────────────────┼───────────────┤\n",
       "│ block3_conv2 (\u001b[38;5;33mConv2D\u001b[0m)           │ (\u001b[38;5;45mNone\u001b[0m, \u001b[38;5;34m56\u001b[0m, \u001b[38;5;34m56\u001b[0m, \u001b[38;5;34m256\u001b[0m)    │       \u001b[38;5;34m590,080\u001b[0m │\n",
       "├─────────────────────────────────┼────────────────────────┼───────────────┤\n",
       "│ block3_conv3 (\u001b[38;5;33mConv2D\u001b[0m)           │ (\u001b[38;5;45mNone\u001b[0m, \u001b[38;5;34m56\u001b[0m, \u001b[38;5;34m56\u001b[0m, \u001b[38;5;34m256\u001b[0m)    │       \u001b[38;5;34m590,080\u001b[0m │\n",
       "├─────────────────────────────────┼────────────────────────┼───────────────┤\n",
       "│ block3_pool (\u001b[38;5;33mMaxPooling2D\u001b[0m)      │ (\u001b[38;5;45mNone\u001b[0m, \u001b[38;5;34m28\u001b[0m, \u001b[38;5;34m28\u001b[0m, \u001b[38;5;34m256\u001b[0m)    │             \u001b[38;5;34m0\u001b[0m │\n",
       "├─────────────────────────────────┼────────────────────────┼───────────────┤\n",
       "│ block4_conv1 (\u001b[38;5;33mConv2D\u001b[0m)           │ (\u001b[38;5;45mNone\u001b[0m, \u001b[38;5;34m28\u001b[0m, \u001b[38;5;34m28\u001b[0m, \u001b[38;5;34m512\u001b[0m)    │     \u001b[38;5;34m1,180,160\u001b[0m │\n",
       "├─────────────────────────────────┼────────────────────────┼───────────────┤\n",
       "│ block4_conv2 (\u001b[38;5;33mConv2D\u001b[0m)           │ (\u001b[38;5;45mNone\u001b[0m, \u001b[38;5;34m28\u001b[0m, \u001b[38;5;34m28\u001b[0m, \u001b[38;5;34m512\u001b[0m)    │     \u001b[38;5;34m2,359,808\u001b[0m │\n",
       "├─────────────────────────────────┼────────────────────────┼───────────────┤\n",
       "│ block4_conv3 (\u001b[38;5;33mConv2D\u001b[0m)           │ (\u001b[38;5;45mNone\u001b[0m, \u001b[38;5;34m28\u001b[0m, \u001b[38;5;34m28\u001b[0m, \u001b[38;5;34m512\u001b[0m)    │     \u001b[38;5;34m2,359,808\u001b[0m │\n",
       "├─────────────────────────────────┼────────────────────────┼───────────────┤\n",
       "│ block4_pool (\u001b[38;5;33mMaxPooling2D\u001b[0m)      │ (\u001b[38;5;45mNone\u001b[0m, \u001b[38;5;34m14\u001b[0m, \u001b[38;5;34m14\u001b[0m, \u001b[38;5;34m512\u001b[0m)    │             \u001b[38;5;34m0\u001b[0m │\n",
       "├─────────────────────────────────┼────────────────────────┼───────────────┤\n",
       "│ block5_conv1 (\u001b[38;5;33mConv2D\u001b[0m)           │ (\u001b[38;5;45mNone\u001b[0m, \u001b[38;5;34m14\u001b[0m, \u001b[38;5;34m14\u001b[0m, \u001b[38;5;34m512\u001b[0m)    │     \u001b[38;5;34m2,359,808\u001b[0m │\n",
       "├─────────────────────────────────┼────────────────────────┼───────────────┤\n",
       "│ block5_conv2 (\u001b[38;5;33mConv2D\u001b[0m)           │ (\u001b[38;5;45mNone\u001b[0m, \u001b[38;5;34m14\u001b[0m, \u001b[38;5;34m14\u001b[0m, \u001b[38;5;34m512\u001b[0m)    │     \u001b[38;5;34m2,359,808\u001b[0m │\n",
       "├─────────────────────────────────┼────────────────────────┼───────────────┤\n",
       "│ block5_conv3 (\u001b[38;5;33mConv2D\u001b[0m)           │ (\u001b[38;5;45mNone\u001b[0m, \u001b[38;5;34m14\u001b[0m, \u001b[38;5;34m14\u001b[0m, \u001b[38;5;34m512\u001b[0m)    │     \u001b[38;5;34m2,359,808\u001b[0m │\n",
       "├─────────────────────────────────┼────────────────────────┼───────────────┤\n",
       "│ block5_pool (\u001b[38;5;33mMaxPooling2D\u001b[0m)      │ (\u001b[38;5;45mNone\u001b[0m, \u001b[38;5;34m7\u001b[0m, \u001b[38;5;34m7\u001b[0m, \u001b[38;5;34m512\u001b[0m)      │             \u001b[38;5;34m0\u001b[0m │\n",
       "├─────────────────────────────────┼────────────────────────┼───────────────┤\n",
       "│ flatten (\u001b[38;5;33mFlatten\u001b[0m)               │ (\u001b[38;5;45mNone\u001b[0m, \u001b[38;5;34m25088\u001b[0m)          │             \u001b[38;5;34m0\u001b[0m │\n",
       "├─────────────────────────────────┼────────────────────────┼───────────────┤\n",
       "│ fc1 (\u001b[38;5;33mDense\u001b[0m)                     │ (\u001b[38;5;45mNone\u001b[0m, \u001b[38;5;34m4096\u001b[0m)           │   \u001b[38;5;34m102,764,544\u001b[0m │\n",
       "├─────────────────────────────────┼────────────────────────┼───────────────┤\n",
       "│ fc2 (\u001b[38;5;33mDense\u001b[0m)                     │ (\u001b[38;5;45mNone\u001b[0m, \u001b[38;5;34m4096\u001b[0m)           │    \u001b[38;5;34m16,781,312\u001b[0m │\n",
       "├─────────────────────────────────┼────────────────────────┼───────────────┤\n",
       "│ dense (\u001b[38;5;33mDense\u001b[0m)                   │ (\u001b[38;5;45mNone\u001b[0m, \u001b[38;5;34m1\u001b[0m)              │         \u001b[38;5;34m4,097\u001b[0m │\n",
       "└─────────────────────────────────┴────────────────────────┴───────────────┘\n"
      ]
     },
     "metadata": {},
     "output_type": "display_data"
    },
    {
     "data": {
      "text/html": [
       "<pre style=\"white-space:pre;overflow-x:auto;line-height:normal;font-family:Menlo,'DejaVu Sans Mono',consolas,'Courier New',monospace\"><span style=\"font-weight: bold\"> Total params: </span><span style=\"color: #00af00; text-decoration-color: #00af00\">134,264,641</span> (512.18 MB)\n",
       "</pre>\n"
      ],
      "text/plain": [
       "\u001b[1m Total params: \u001b[0m\u001b[38;5;34m134,264,641\u001b[0m (512.18 MB)\n"
      ]
     },
     "metadata": {},
     "output_type": "display_data"
    },
    {
     "data": {
      "text/html": [
       "<pre style=\"white-space:pre;overflow-x:auto;line-height:normal;font-family:Menlo,'DejaVu Sans Mono',consolas,'Courier New',monospace\"><span style=\"font-weight: bold\"> Trainable params: </span><span style=\"color: #00af00; text-decoration-color: #00af00\">4,097</span> (16.00 KB)\n",
       "</pre>\n"
      ],
      "text/plain": [
       "\u001b[1m Trainable params: \u001b[0m\u001b[38;5;34m4,097\u001b[0m (16.00 KB)\n"
      ]
     },
     "metadata": {},
     "output_type": "display_data"
    },
    {
     "data": {
      "text/html": [
       "<pre style=\"white-space:pre;overflow-x:auto;line-height:normal;font-family:Menlo,'DejaVu Sans Mono',consolas,'Courier New',monospace\"><span style=\"font-weight: bold\"> Non-trainable params: </span><span style=\"color: #00af00; text-decoration-color: #00af00\">134,260,544</span> (512.16 MB)\n",
       "</pre>\n"
      ],
      "text/plain": [
       "\u001b[1m Non-trainable params: \u001b[0m\u001b[38;5;34m134,260,544\u001b[0m (512.16 MB)\n"
      ]
     },
     "metadata": {},
     "output_type": "display_data"
    }
   ],
   "source": [
    "model.summary()"
   ]
  },
  {
   "cell_type": "code",
   "execution_count": 45,
   "metadata": {},
   "outputs": [],
   "source": [
    "model.compile(optimizer = 'Adam',loss = 'binary_crossentropy',metrics = ['accuracy'])"
   ]
  },
  {
   "cell_type": "code",
   "execution_count": 46,
   "metadata": {},
   "outputs": [
    {
     "name": "stdout",
     "output_type": "stream",
     "text": [
      "Epoch 1/5\n",
      "\u001b[1m24/24\u001b[0m \u001b[32m━━━━━━━━━━━━━━━━━━━━\u001b[0m\u001b[37m\u001b[0m \u001b[1m182s\u001b[0m 8s/step - accuracy: 0.7341 - loss: 0.6013 - val_accuracy: 0.9734 - val_loss: 0.3044\n",
      "Epoch 2/5\n",
      "\u001b[1m24/24\u001b[0m \u001b[32m━━━━━━━━━━━━━━━━━━━━\u001b[0m\u001b[37m\u001b[0m \u001b[1m173s\u001b[0m 7s/step - accuracy: 0.9594 - loss: 0.2798 - val_accuracy: 0.9840 - val_loss: 0.1827\n",
      "Epoch 3/5\n",
      "\u001b[1m24/24\u001b[0m \u001b[32m━━━━━━━━━━━━━━━━━━━━\u001b[0m\u001b[37m\u001b[0m \u001b[1m190s\u001b[0m 8s/step - accuracy: 0.9645 - loss: 0.1914 - val_accuracy: 0.9894 - val_loss: 0.1372\n",
      "Epoch 4/5\n",
      "\u001b[1m24/24\u001b[0m \u001b[32m━━━━━━━━━━━━━━━━━━━━\u001b[0m\u001b[37m\u001b[0m \u001b[1m188s\u001b[0m 7s/step - accuracy: 0.9745 - loss: 0.1467 - val_accuracy: 0.9947 - val_loss: 0.1023\n",
      "Epoch 5/5\n",
      "\u001b[1m24/24\u001b[0m \u001b[32m━━━━━━━━━━━━━━━━━━━━\u001b[0m\u001b[37m\u001b[0m \u001b[1m183s\u001b[0m 8s/step - accuracy: 0.9847 - loss: 0.1030 - val_accuracy: 0.9947 - val_loss: 0.0852\n"
     ]
    },
    {
     "data": {
      "text/plain": [
       "<keras.src.callbacks.history.History at 0x176dde780>"
      ]
     },
     "execution_count": 46,
     "metadata": {},
     "output_type": "execute_result"
    }
   ],
   "source": [
    "model.fit(X_train,y_train,epochs=5,validation_data=(X_test,y_test))"
   ]
  },
  {
   "cell_type": "code",
   "execution_count": 47,
   "metadata": {},
   "outputs": [],
   "source": [
    "cap = cv2.VideoCapture(0)"
   ]
  },
  {
   "cell_type": "code",
   "execution_count": 54,
   "metadata": {},
   "outputs": [
    {
     "ename": "error",
     "evalue": "OpenCV(4.10.0) /Users/runner/work/opencv-python/opencv-python/opencv/modules/imgproc/src/resize.cpp:4152: error: (-215:Assertion failed) !ssize.empty() in function 'resize'\n",
     "output_type": "error",
     "traceback": [
      "\u001b[0;31m---------------------------------------------------------------------------\u001b[0m",
      "\u001b[0;31merror\u001b[0m                                     Traceback (most recent call last)",
      "Cell \u001b[0;32mIn[54], line 3\u001b[0m\n\u001b[1;32m      1\u001b[0m \u001b[38;5;28;01mwhile\u001b[39;00m \u001b[38;5;28;01mTrue\u001b[39;00m:\n\u001b[1;32m      2\u001b[0m     ret,frame \u001b[38;5;241m=\u001b[39m cap\u001b[38;5;241m.\u001b[39mread()\n\u001b[0;32m----> 3\u001b[0m     img \u001b[38;5;241m=\u001b[39m \u001b[43mcv2\u001b[49m\u001b[38;5;241;43m.\u001b[39;49m\u001b[43mresize\u001b[49m\u001b[43m(\u001b[49m\u001b[43mframe\u001b[49m\u001b[43m,\u001b[49m\u001b[43m(\u001b[49m\u001b[38;5;241;43m224\u001b[39;49m\u001b[43m,\u001b[49m\u001b[38;5;241;43m224\u001b[39;49m\u001b[43m)\u001b[49m\u001b[43m)\u001b[49m\n\u001b[1;32m      4\u001b[0m     y_pred\u001b[38;5;241m=\u001b[39mdetect_face_mask(img)\n\u001b[1;32m      6\u001b[0m     \u001b[38;5;28;01mif\u001b[39;00m(y_pred\u001b[38;5;241m==\u001b[39m\u001b[38;5;241m0\u001b[39m):\n",
      "\u001b[0;31merror\u001b[0m: OpenCV(4.10.0) /Users/runner/work/opencv-python/opencv-python/opencv/modules/imgproc/src/resize.cpp:4152: error: (-215:Assertion failed) !ssize.empty() in function 'resize'\n"
     ]
    }
   ],
   "source": [
    "while True:\n",
    "    ret,frame = cap.read()\n",
    "    img = cv2.resize(frame,(224,224))\n",
    "    y_pred=detect_face_mask(img)\n",
    "\n",
    "    if(y_pred==0):\n",
    "        draw_label(frame,\"Mask\",(30,30),(255,0,0))\n",
    "    else:\n",
    "        draw_label(frame,\"No mask\",(30,30),(255,0,0))\n",
    "        \n",
    "    cv2.imshow(\"window\",frame)\n",
    "    if cv2.waitKey(1) & 0xFF == ord('x'):\n",
    "        break\n",
    "\n",
    "cv2.destroyAllWindows()"
   ]
  },
  {
   "cell_type": "code",
   "execution_count": 49,
   "metadata": {},
   "outputs": [],
   "source": [
    "# Initialize VGG16 model with weights\n",
    "weights_path = '/Users/taruni/Desktop/HEY/project_ml using cnn/vgg16_weights_tf_dim_ordering_tf_kernels.h5'\n",
    "model = VGG16(weights=weights_path)\n",
    "\n",
    "def detect_face_mask(img):\n",
    "    # Resize the image to (224, 224)\n",
    "    img_resized = cv2.resize(img, (224, 224))\n",
    "    \n",
    "    # Normalize the image (VGG16 expects pixel values in range [0, 1])\n",
    "    img_normalized = img_resized.astype('float32') / 255.0\n",
    "    \n",
    "    # Expand dimensions to match the input shape of the model (1, 224, 224, 3)\n",
    "    img_expanded = np.expand_dims(img_normalized, axis=0)\n",
    "    \n",
    "    # Print shape for debugging\n",
    "    print(f\"Shape of input to model: {img_expanded.shape}\")\n",
    "    \n",
    "    # Predict\n",
    "    y_pred = model.predict(img_expanded)  # Use img_expanded, not img\n",
    "    y_pred_class = np.argmax(y_pred, axis=1)  # Get the index of the class with the highest probability\n",
    "    \n",
    "    return y_pred[0][0]"
   ]
  },
  {
   "cell_type": "code",
   "execution_count": 50,
   "metadata": {},
   "outputs": [],
   "source": [
    "sample1 = cv2.imread('/Users/taruni/Desktop/HEY/project_ml using cnn/sample/business-woman-wearing-a-mask-f1.jpg')\n",
    "sample1 = cv2.resize(sample1,(224,224))"
   ]
  },
  {
   "cell_type": "code",
   "execution_count": 51,
   "metadata": {},
   "outputs": [
    {
     "name": "stdout",
     "output_type": "stream",
     "text": [
      "Shape of input to model: (1, 224, 224, 3)\n",
      "\u001b[1m1/1\u001b[0m \u001b[32m━━━━━━━━━━━━━━━━━━━━\u001b[0m\u001b[37m\u001b[0m \u001b[1m0s\u001b[0m 465ms/step\n"
     ]
    },
    {
     "data": {
      "text/plain": [
       "0.00014432607"
      ]
     },
     "execution_count": 51,
     "metadata": {},
     "output_type": "execute_result"
    }
   ],
   "source": [
    "detect_face_mask(sample1)\n"
   ]
  },
  {
   "cell_type": "code",
   "execution_count": 52,
   "metadata": {},
   "outputs": [],
   "source": [
    "def draw_label(img, text, pos, bg_color):\n",
    "    # Get the text size\n",
    "    text_size, _ = cv2.getTextSize(text, cv2.FONT_HERSHEY_COMPLEX, 1, 1)\n",
    "    text_width, text_height = text_size\n",
    "    \n",
    "    # Calculate the bottom-right corner of the text background rectangle\n",
    "    end_x = pos[0] + text_width + 2\n",
    "    end_y = pos[1] - text_height - 2\n",
    "    \n",
    "    # Draw a filled rectangle as the background\n",
    "    cv2.rectangle(img, (pos[0], pos[1] - text_height - 2), (end_x, pos[1]), bg_color, cv2.FILLED)\n",
    "    \n",
    "    # Draw the text\n",
    "    cv2.putText(img, text, (pos[0], pos[1] - 2), cv2.FONT_HERSHEY_COMPLEX, 1, (0, 0, 0), 1, cv2.LINE_AA)\n"
   ]
  }
 ],
 "metadata": {
  "kernelspec": {
   "display_name": "Python 3",
   "language": "python",
   "name": "python3"
  },
  "language_info": {
   "codemirror_mode": {
    "name": "ipython",
    "version": 3
   },
   "file_extension": ".py",
   "mimetype": "text/x-python",
   "name": "python",
   "nbconvert_exporter": "python",
   "pygments_lexer": "ipython3",
   "version": "3.12.4"
  }
 },
 "nbformat": 4,
 "nbformat_minor": 2
}
